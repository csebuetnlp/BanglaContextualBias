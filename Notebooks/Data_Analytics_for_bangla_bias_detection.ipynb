{
  "cells": [
    {
      "cell_type": "code",
      "execution_count": null,
      "metadata": {
        "id": "wKrTQf4RLzJW"
      },
      "outputs": [],
      "source": [
        "import pandas as pd\n",
        "import matplotlib.pyplot as plt\n",
        "import os\n",
        "import seaborn as sns"
      ]
    },
    {
      "cell_type": "code",
      "execution_count": null,
      "metadata": {
        "id": "WRPP0OgVMgo2"
      },
      "outputs": [],
      "source": [
        "df = pd.read_csv(\"./more_words/positive_traits_bn_S3_scores.csv\")\n",
        "df.head()"
      ]
    },
    {
      "cell_type": "code",
      "execution_count": null,
      "metadata": {
        "id": "nZ1INLKRMqRP"
      },
      "outputs": [],
      "source": [
        "data_to_plot = [df[\"logits-ছেলে\"], df[\"normlogits-ছেলে\"]]\n",
        "\n",
        "# Create a figure instance\n",
        "fig = plt.figure()\n",
        "\n",
        "# Create an axes instance\n",
        "ax = fig.add_axes([0,0,1,1])\n",
        "\n",
        "# Create the boxplot\n",
        "bp = ax.violinplot(data_to_plot)\n",
        "plt.show()"
      ]
    },
    {
      "cell_type": "code",
      "execution_count": null,
      "metadata": {
        "id": "rP6kCnNZM8sn"
      },
      "outputs": [],
      "source": [
        "\n",
        "\n",
        "data_to_plot = [df[\"preds-ছেলে\"], df[\"normpreds-ছেলে\"], df[\"preds-পুরুষ\"], df[\"normpreds-পুরুষ\"], df[\"Bias_Score(Male_Aggregate)\"]]\n",
        "\n",
        "# Create a figure instance\n",
        "fig = plt.figure()\n",
        "\n",
        "# Create an axes instance\n",
        "ax = fig.add_axes([0,0,1,1])\n",
        "\n",
        "# Create the boxplot\n",
        "bp = ax.violinplot(data_to_plot, showmeans=True)\n",
        "plt.show()"
      ]
    },
    {
      "cell_type": "code",
      "execution_count": null,
      "metadata": {
        "id": "5PPNjI25ngMv"
      },
      "outputs": [],
      "source": [
        "!mkdir ./plots"
      ]
    },
    {
      "cell_type": "code",
      "execution_count": null,
      "metadata": {
        "colab": {
          "base_uri": "https://localhost:8080/"
        },
        "id": "CXCV0iy-Pc9N",
        "outputId": "459e2b60-71c2-4d79-de14-5d5053d2b285"
      },
      "outputs": [],
      "source": [
        "\n",
        "data_container = []\n",
        "\n",
        "# Get the directory path\n",
        "directory_path = \"/content/more_words/\"\n",
        "\n",
        "# Create a list of all the files in the directory\n",
        "file_list = os.listdir(directory_path)\n",
        "\n",
        "# Iterate through the list of files\n",
        "for file in file_list:\n",
        "\n",
        "    # Check if the filename contains \"positive_trait\"\n",
        "    if \"positive\" in file:\n",
        "\n",
        "        # If the filename contains \"positive_trait\", print the filename\n",
        "        print(file)\n",
        "        df = pd.read_csv(file)\n",
        "        data_container.append(df[\"Bias_Score(Male_Aggregate)\"].tolist())\n",
        "\n",
        "\n"
      ]
    },
    {
      "cell_type": "code",
      "execution_count": null,
      "metadata": {
        "colab": {
          "base_uri": "https://localhost:8080/"
        },
        "id": "1JDUJkq1yj8K",
        "outputId": "18048a12-a74d-48ff-b557-5077e33bb011"
      },
      "outputs": [],
      "source": [
        "df = pd.read_csv(\"/content/more_words/positive_traits_bn_S3_scores.csv\")\n",
        "words = [\"ছেলে\", \"পুরুষ\", \"বালক\", \"যুবক\"]\n",
        "#female words\n",
        "# words = [\"মেয়ে\", \"নারী\", \"বালিকা\", \"যুবতী\" ]\n",
        "\n",
        "column_list = []\n",
        "for word in words:\n",
        "    column_list.append(\"preds-\"+word)\n",
        "\n",
        "column_list\n"
      ]
    },
    {
      "cell_type": "code",
      "execution_count": null,
      "metadata": {
        "colab": {
          "base_uri": "https://localhost:8080/"
        },
        "id": "Y9t_W6sxDqYX",
        "outputId": "a5e46f37-ef9a-49fa-9851-f09675127823"
      },
      "outputs": [],
      "source": [
        "df[column_list].mean()"
      ]
    },
    {
      "cell_type": "code",
      "execution_count": null,
      "metadata": {
        "id": "xtphZV6shlWj"
      },
      "outputs": [],
      "source": [
        "!mkdir plots"
      ]
    },
    {
      "cell_type": "markdown",
      "metadata": {
        "id": "Nl8iuwSNp-jJ"
      },
      "source": [
        "##Bar Plot"
      ]
    },
    {
      "cell_type": "code",
      "execution_count": null,
      "metadata": {
        "id": "p8sR8PqMCuxb"
      },
      "outputs": [],
      "source": [
        "\n",
        "def barChart(x, y, title, fig_title, xlabel, ylabel):\n",
        "    # Plot a histogram of the means with Seaborn.\n",
        "    # sns.histplot(, bins=4, color=\"lightblue\")\n",
        "    plt.figure(figsize=(20,8))\n",
        "    sns.barplot(x=x, y=y, orient=\"v\", palette=\"dark\")\n",
        "    plt.title(title, fontsize=30)\n",
        "\n",
        "    # Label the x-axis\n",
        "    plt.xlabel(xlabel, fontsize=20)\n",
        "\n",
        "    # Label the y-axis\n",
        "    plt.ylabel(ylabel, fontsize=20)\n",
        "    plt.savefig(fig_title)\n",
        "    # Show the plot\n",
        "    plt.show()\n"
      ]
    },
    {
      "cell_type": "code",
      "execution_count": null,
      "metadata": {
        "id": "UsIlGsueeDJg"
      },
      "outputs": [],
      "source": [
        "# files = [\"positive_traits\", \"negative_traits\"]\n",
        "files = [\"skills\"]\n",
        "sentences = [\"S2\", \"S3\"]\n",
        "m_words = [\"ছেলে\", \"পুরুষ\", \"বালক\", \"যুবক\"]\n",
        "f_words = [\"মেয়ে\", \"নারী\", \"বালিকা\", \"যুবতী\" ]\n",
        "\n",
        "for file in files:\n",
        "    for sent in sentences:\n",
        "        df = pd.read_csv(\"/content/more_words/\"+file+\"_bn_\"+sent+\"_scores.csv\")\n",
        "        column_list = []\n",
        "        for mw in m_words:\n",
        "            column_list.append(\"preds-\"+mw)\n",
        "        barChart(x=[1,2,3,4], y=df[column_list].mean(), title = \"Prediction BarChart of Different Male Words in \"+file+\": Sentence \"+sent,\n",
        "                 fig_title = \"./plots/male_barchart_\"+sent+\"_\"+file+\".jpg\",\\\n",
        "                 xlabel=\"Male Words\", ylabel=\"Mean Prediction Probabilities\")\n",
        "\n",
        "        column_list = []\n",
        "        for fw in f_words:\n",
        "            column_list.append(\"preds-\"+fw)\n",
        "        barChart(x=[1,2,3,4],\\\n",
        "                 y=df[column_list].mean(),\\\n",
        "                 title = \"Prediction BarChart of Different Female Words in \"+file+\": Sentence \"+sent,\\\n",
        "                 fig_title = \"./plots/female_barchart_\"+sent+\"_\"+file+\".jpg\",\\\n",
        "                 xlabel=\"Female Words\", ylabel=\"Mean Prediction Probabilities\")"
      ]
    },
    {
      "cell_type": "markdown",
      "metadata": {
        "id": "xGevRva4qFhh"
      },
      "source": [
        "## Pie Chart"
      ]
    },
    {
      "cell_type": "code",
      "execution_count": null,
      "metadata": {
        "id": "v7MMo8dEqJ-O"
      },
      "outputs": [],
      "source": [
        "def plot_pie(title, figtitle, mc=50.0, fc=50.0):\n",
        "    # Data to plot\n",
        "    labels = 'Male', 'Female'\n",
        "    # print(mc, fc)\n",
        "    # print(round(mc), round(fc))\n",
        "    sizes = [round(mc), round(fc)]\n",
        "    colors = ['lightcoral', 'lightskyblue']\n",
        "\n",
        "    # # Plot\n",
        "    fig = plt.figure(figsize=(10,10))\n",
        "    plt.title(title)\n",
        "    plt.pie(sizes, labels=labels, colors=colors,\n",
        "    autopct='%1.1f%%', shadow=True, startangle=140)\n",
        "\n",
        "    plt.axis('equal')\n",
        "    plt.savefig(figtitle)\n",
        "    plt.show()"
      ]
    },
    {
      "cell_type": "code",
      "execution_count": null,
      "metadata": {
        "id": "Dm4dozFurpaO"
      },
      "outputs": [],
      "source": [
        "# Get the directory path\n",
        "directory_path = \"/content/old_data/\"\n",
        "\n",
        "# Create a list of all the files in the directory\n",
        "file_list = os.listdir(directory_path)\n",
        "\n",
        "for file in file_list:\n",
        "    if \"checkpoint\" in file:\n",
        "        continue\n",
        "    df = pd.read_csv(directory_path+file)\n",
        "    words = [w.capitalize() for w in file.split(\"_\")]\n",
        "    title = \" \".join(words[:2]) +\" \"+ words[-2]\n",
        "    fig_title = \"norm_bias_\"+\"_\".join(title.split(\" \")) + \".png\"\n",
        "    print(fig_title)\n",
        "    title = \"Aggregate Scores For Prior Corrected Bias: \"+title\n",
        "    print(title)\n",
        "    # mc = df[\"Bias_Score(Male_Aggregate)\"].sum()\n",
        "    # fc = df[\"Bias_Score(Female_Aggregate)\"].sum()\n",
        "    mc = (df[\"Mean_Norm_Score(Logits)\"]>0).sum()\n",
        "    fc = (df[\"Mean_Norm_Score(Logits)\"]<0).sum()\n",
        "    plot_pie(title, \"./plots/\"+fig_title, mc, fc)"
      ]
    },
    {
      "cell_type": "code",
      "execution_count": null,
      "metadata": {
        "colab": {
          "base_uri": "https://localhost:8080/",
          "height": 884
        },
        "id": "smogWX6t0Mje",
        "outputId": "be9d1af7-2dcd-4023-ad15-16b53c92edd4"
      },
      "outputs": [],
      "source": [
        "# all average pie plot\n",
        "# Get the directory path\n",
        "directory_path = \"/content/more_words/\"\n",
        "\n",
        "# Create a list of all the files in the directory\n",
        "file_list = os.listdir(directory_path)\n",
        "mc = 0\n",
        "fc = 0\n",
        "for file in file_list:\n",
        "    if \"checkpoint\" in file:\n",
        "        continue\n",
        "    if \"skill\" not in file:\n",
        "        continue\n",
        "    print(file)\n",
        "    df = pd.read_csv(directory_path+file)\n",
        "    words = [w.capitalize() for w in file.split(\"_\")]\n",
        "    # title =\n",
        "    # fig_title =\n",
        "    # print(fig_title)\n",
        "    # title = \"Aggregate Scores For Prior Corrected Bias: \"+title\n",
        "    # print(title)\n",
        "    # mc = mc + df[\"Bias_Score(Male_Aggregate)\"].sum()\n",
        "    # fc = fc + df[\"Bias_Score(Female_Aggregate)\"].sum()\n",
        "    mc = mc + (df[\"Mean_Norm_Score(Logits)\"]>0).sum()\n",
        "    fc = fc + (df[\"Mean_Norm_Score(Logits)\"]<0).sum()\n",
        "\n",
        "title = \"Average Prior Corrected Score for All Sentence Structre: Skill Traits\"\n",
        "fig_title = \"skill_norm_avg.png\"\n",
        "plot_pie(title, \"./plots/\"+fig_title, mc, fc)"
      ]
    },
    {
      "cell_type": "markdown",
      "metadata": {
        "id": "5wODFSaMmNEY"
      },
      "source": [
        "## Hexbin"
      ]
    },
    {
      "cell_type": "code",
      "execution_count": null,
      "metadata": {
        "id": "qtPpX5i1mPS_"
      },
      "outputs": [],
      "source": [
        "def hexplot(df, title, fig_title, xlabel, ylabel):\n",
        "    sns.set_theme(style=\"ticks\")\n",
        "    plt.figure(figsize=(20,20))\n",
        "    plt.rcParams[\"figure.autolayout\"] = True\n",
        "    sns.jointplot(x=(df[\"Bias_Score(Male_Aggregate)\"]-df[\"Bias_Score(Female_Aggregate)\"]).tolist(),\n",
        "                y = df[\"Mean_Norm_Score(Preds)\"].tolist(), #should be preds\n",
        "                kind=\"hex\", color=\"#083b1c\", gridsize=20\n",
        "                )\n",
        "\n",
        "    plt.title(title, fontsize=15, y=-0.3)\n",
        "\n",
        "    # Label the x-axis\n",
        "    plt.xlabel(xlabel, fontsize=20)\n",
        "\n",
        "    # Label the y-axis\n",
        "    plt.ylabel(ylabel, fontsize=20)\n",
        "    plt.savefig(fig_title)\n",
        "    # Show the plot\n",
        "    plt.show()\n",
        "\n"
      ]
    },
    {
      "cell_type": "code",
      "execution_count": null,
      "metadata": {
        "colab": {
          "base_uri": "https://localhost:8080/"
        },
        "id": "4PtAwnlGgbzm",
        "outputId": "f9402ca3-d5f1-495e-84d8-fd1329c605b5"
      },
      "outputs": [],
      "source": [
        "!unzip ./results_new.zip -d ./old_data/"
      ]
    },
    {
      "cell_type": "code",
      "execution_count": null,
      "metadata": {
        "colab": {
          "base_uri": "https://localhost:8080/",
          "height": 1000
        },
        "id": "In16EACeypCS",
        "outputId": "54e6b88c-11c1-410f-c2e8-51850aca74b0"
      },
      "outputs": [],
      "source": [
        "# Get the directory path\n",
        "directory_path = \"/content/old_data/results_new/\"\n",
        "\n",
        "# Create a list of all the files in the directory\n",
        "file_list = os.listdir(directory_path)\n",
        "\n",
        "for file in file_list:\n",
        "    if \"checkpoint\" in file:\n",
        "        continue\n",
        "    words = [w.capitalize() for w in file.split(\"_\")]\n",
        "    df = pd.read_csv(directory_path+file)\n",
        "    title = \" \".join(words[:2]) +\" \"+ words[-2]\n",
        "    fig_title = \"hexplot_\"+\"_\".join(title.split(\" \")) + \".png\"\n",
        "    title = \"Fill Bias vs Corrected Bias: \"+title\n",
        "    print(title)\n",
        "    hexplot(df, title, \"./plots/\"+fig_title, \"Fill Bias Distribution\", \"Corrected Bias Distribution\")"
      ]
    },
    {
      "cell_type": "markdown",
      "metadata": {
        "id": "t2OJAoR-FsfN"
      },
      "source": [
        "## Catplot"
      ]
    },
    {
      "cell_type": "code",
      "execution_count": null,
      "metadata": {
        "id": "kYj1WV5WFvMF"
      },
      "outputs": [],
      "source": [
        "def multiBar(data=data_container, kind=\"bar\", )"
      ]
    },
    {
      "cell_type": "code",
      "execution_count": null,
      "metadata": {
        "id": "puqY-hbE-I9K"
      },
      "outputs": [],
      "source": [
        "# Get the directory path\n",
        "directory_path = \"/content/old_data/\"\n",
        "\n",
        "# Create a list of all the files in the directory\n",
        "file_list = os.listdir(directory_path)\n",
        "\n",
        "for file in file_list:\n",
        "    if \"checkpoint\" in file:\n",
        "        continue\n",
        "    words = [w.capitalize() for w in file.split(\"_\")]\n",
        "    df = pd.read_csv(directory_path+file)\n",
        "    title = \" \".join(words[:2]) +\" \"+ words[-2]\n",
        "    fig_title = \"hexplot_\"+\"_\".join(title.split(\" \")) + \".png\"\n",
        "\n"
      ]
    },
    {
      "cell_type": "markdown",
      "metadata": {
        "id": "QuRbCXua3m5c"
      },
      "source": [
        "## Playground"
      ]
    },
    {
      "cell_type": "code",
      "execution_count": null,
      "metadata": {
        "colab": {
          "base_uri": "https://localhost:8080/",
          "height": 317
        },
        "id": "UCM6RQoBAsgR",
        "outputId": "3760900b-ada2-4890-a5e3-397193f4f1b2"
      },
      "outputs": [],
      "source": [
        "df  = pd.read_csv(\"/content/old_data/negative_traits_bn_S1_scores.csv\")\n",
        "df.head()"
      ]
    },
    {
      "cell_type": "code",
      "execution_count": null,
      "metadata": {
        "colab": {
          "base_uri": "https://localhost:8080/",
          "height": 292
        },
        "id": "gFsm-Tj6GErr",
        "outputId": "81933efc-4daa-463d-cf42-b29d5d963946"
      },
      "outputs": [],
      "source": [
        "# Get the directory path\n",
        "directory_path = \"/content/old_data/\"\n",
        "\n",
        "# Create a list of all the files in the directory\n",
        "file_list = os.listdir(directory_path)\n",
        "cont = []\n",
        "for file in file_list:\n",
        "    if \"skill\" not in file:\n",
        "        continue\n",
        "    if \"checkpoint\" in file:\n",
        "        continue\n",
        "    # words = [w.capitalize() for w in file.split(\"_\")]\n",
        "    print(file)\n",
        "    df = pd.read_csv(directory_path+file)\n",
        "    words = [w.capitalize() for w in file.split(\"_\")]\n",
        "    mtgt = (df[\"tgtfillprob-পুরুষ\"]*df[\"tgtfillprob-ছেলে\"]).median()\n",
        "    ftgt = (df[\"tgtfillprob-নারী\"]*df[\"tgtfillprob-মেয়ে\"]).median()\n",
        "    cont.append(\n",
        "        {\n",
        "            \"Sentence Structure\":words[-2],\n",
        "            \"Target Fill (median)\": mtgt,\n",
        "            \"gender\": \"male\"\n",
        "        }\n",
        "    )\n",
        "    cont.append(\n",
        "        {\n",
        "            \"Sentence Structure\":words[-2],\n",
        "            \"Target Fill (median)\": ftgt,\n",
        "            \"gender\": \"female\"\n",
        "        }\n",
        "    )\n",
        "\n",
        "df = pd.DataFrame(cont)\n",
        "df = df.sort_values(\"Sentence Structure\")\n",
        "df.head(9)\n",
        "\n"
      ]
    },
    {
      "cell_type": "code",
      "execution_count": null,
      "metadata": {
        "colab": {
          "base_uri": "https://localhost:8080/",
          "height": 632
        },
        "id": "WggVbAikJTJn",
        "outputId": "cca6591a-8988-496d-867b-ea0a042fa857"
      },
      "outputs": [],
      "source": [
        "plt.figure(figsize=(20,10))\n",
        "sns.catplot(data=df, kind=\"bar\",\n",
        "            x=\"Sentence Structure\", y=\"Target Fill (median)\",\n",
        "            hue=\"gender\", palette=\"dark\", alpha=.8, height=6)\n",
        "plt.title(\"Skill Traits Target Fill Probability Comparison\")\n",
        "plt.savefig(\"./plots/skill_tgt.png\")"
      ]
    },
    {
      "cell_type": "code",
      "execution_count": null,
      "metadata": {
        "colab": {
          "base_uri": "https://localhost:8080/",
          "height": 317
        },
        "id": "yLDgos2FA51y",
        "outputId": "f9cad74e-73e3-47a3-e4e9-188da866ad39"
      },
      "outputs": [],
      "source": [
        "df[\"tgtfillprob-Male\"] = (df[\"tgtfillprob-পুরুষ\"]*df[\"tgtfillprob-ছেলে\"])\n",
        "df[\"tgtfillprob-Female\"] = df[\"tgtfillprob-নারী\"]*df[\"tgtfillprob-মেয়ে\"]\n",
        "df.head()"
      ]
    },
    {
      "cell_type": "code",
      "execution_count": null,
      "metadata": {
        "colab": {
          "base_uri": "https://localhost:8080/"
        },
        "id": "sXS36HSdBsJp",
        "outputId": "769f5667-006d-465f-e3dc-ac30c30b420a"
      },
      "outputs": [],
      "source": [
        "df[\"tgtfillprob-Male\"].median()"
      ]
    },
    {
      "cell_type": "code",
      "execution_count": null,
      "metadata": {
        "colab": {
          "base_uri": "https://localhost:8080/"
        },
        "id": "--CTV1DgB1Bu",
        "outputId": "e7f10e3e-25b6-4ab9-d14c-63f02906538c"
      },
      "outputs": [],
      "source": [
        "df[\"tgtfillprob-Male\"].mean()"
      ]
    },
    {
      "cell_type": "code",
      "execution_count": null,
      "metadata": {
        "colab": {
          "base_uri": "https://localhost:8080/"
        },
        "id": "KJ5aOI5zCcvI",
        "outputId": "9d50ec02-1b43-460f-c89a-52b7c4afaae0"
      },
      "outputs": [],
      "source": [
        "df[\"tgtfillprob-Female\"].mean()"
      ]
    },
    {
      "cell_type": "code",
      "execution_count": null,
      "metadata": {
        "id": "olfzOceo3xYL"
      },
      "outputs": [],
      "source": [
        "data_container = []\n",
        "for column in column_list:\n",
        "    data_container.append((df[column]).tolist())\n",
        "\n",
        "# data_container"
      ]
    },
    {
      "cell_type": "code",
      "execution_count": null,
      "metadata": {
        "id": "GpZHUVinurbd"
      },
      "outputs": [],
      "source": [
        "title = \"Prediction Distribution of Different Male Words in Skills: Sentence Structure S3\"\n",
        "folder = \"./plots/\"\n",
        "fig_title = folder+\"skill3_femalewords_violin.jpg\""
      ]
    },
    {
      "cell_type": "code",
      "execution_count": null,
      "metadata": {
        "id": "4d7Eh2k8gxzb"
      },
      "outputs": [],
      "source": [
        "plt.figure(figsize=(20,10))\n",
        "# labels = [\"S1\", \"S2\", \"S3\", \"S4\"]\n",
        "sns.violinplot(data=data_container, legends = words, scale=\"count\")\n",
        "plt.title(title, fontsize=30)\n",
        "\n",
        "# Label the x-axis\n",
        "plt.xlabel(\"Gender Words\", fontsize=20)\n",
        "\n",
        "# Label the y-axis\n",
        "plt.ylabel(\"Probability (Softmax)\", fontsize=20)\n",
        "plt.savefig(fig_title)\n",
        "# Show the plot\n",
        "plt.show()\n",
        "# plt.savefig(\"./plots/male_pred_agg_violin_plot.jpg\")"
      ]
    },
    {
      "cell_type": "markdown",
      "metadata": {
        "id": "XEWIgsaQ3rsc"
      },
      "source": [
        "## Zip Function"
      ]
    },
    {
      "cell_type": "code",
      "execution_count": null,
      "metadata": {
        "colab": {
          "base_uri": "https://localhost:8080/"
        },
        "id": "YZjMDhtghPZA",
        "outputId": "d25d1d97-43f0-4b6b-dbad-c223cd59f6d2"
      },
      "outputs": [
        {
          "name": "stdout",
          "output_type": "stream",
          "text": [
            "  adding: plots/hexplot_Negative_Traits_S1.png (deflated 8%)\n",
            "  adding: plots/hexplot_Negative_Traits_S2.png (deflated 8%)\n",
            "  adding: plots/hexplot_Negative_Traits_S3.png (deflated 8%)\n",
            "  adding: plots/hexplot_Negative_Traits_S4.png (deflated 8%)\n",
            "  adding: plots/hexplot_Negative_Traits_S5.png (deflated 8%)\n",
            "  adding: plots/hexplot_Positive_Traits_S1.png (deflated 8%)\n",
            "  adding: plots/hexplot_Positive_Traits_S2.png (deflated 7%)\n",
            "  adding: plots/hexplot_Positive_Traits_S3.png (deflated 7%)\n",
            "  adding: plots/hexplot_Positive_Traits_S4.png (deflated 7%)\n",
            "  adding: plots/hexplot_Positive_Traits_S5.png (deflated 8%)\n"
          ]
        }
      ],
      "source": [
        "! zip -r hexplots.zip ./plots/*"
      ]
    },
    {
      "cell_type": "code",
      "execution_count": null,
      "metadata": {
        "id": "Vez3h3mgrSSS"
      },
      "outputs": [],
      "source": [
        "!rm -rf ./plots/*"
      ]
    },
    {
      "cell_type": "code",
      "execution_count": null,
      "metadata": {
        "id": "CHxBkcEKtOdK"
      },
      "outputs": [],
      "source": []
    }
  ],
  "metadata": {
    "colab": {
      "collapsed_sections": [
        "xGevRva4qFhh",
        "5wODFSaMmNEY"
      ],
      "provenance": []
    },
    "kernelspec": {
      "display_name": "Python 3",
      "name": "python3"
    },
    "language_info": {
      "name": "python"
    }
  },
  "nbformat": 4,
  "nbformat_minor": 0
}
