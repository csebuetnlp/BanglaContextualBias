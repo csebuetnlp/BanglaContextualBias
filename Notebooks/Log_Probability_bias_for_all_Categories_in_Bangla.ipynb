{
  "nbformat": 4,
  "nbformat_minor": 0,
  "metadata": {
    "colab": {
      "provenance": [],
      "collapsed_sections": [
        "8DJhSMo_KRft",
        "Yxm3dQViMcdz",
        "SLP9Wc3sqto1"
      ]
    },
    "kernelspec": {
      "name": "python3",
      "display_name": "Python 3"
    },
    "language_info": {
      "name": "python"
    },
    "widgets": {
      "application/vnd.jupyter.widget-state+json": {
        "3d6dcb18a21b4138a76e8c7dba641025": {
          "model_module": "@jupyter-widgets/controls",
          "model_name": "HBoxModel",
          "model_module_version": "1.5.0",
          "state": {
            "_dom_classes": [],
            "_model_module": "@jupyter-widgets/controls",
            "_model_module_version": "1.5.0",
            "_model_name": "HBoxModel",
            "_view_count": null,
            "_view_module": "@jupyter-widgets/controls",
            "_view_module_version": "1.5.0",
            "_view_name": "HBoxView",
            "box_style": "",
            "children": [
              "IPY_MODEL_5f8b701f37654631a9b7efbe1e35b657",
              "IPY_MODEL_e3498f7db55846acb7967076bf018634",
              "IPY_MODEL_de68355eb34e4b22959730c1ce254e01"
            ],
            "layout": "IPY_MODEL_6aa82535cf2248ca950ac62caeb846e1"
          }
        },
        "5f8b701f37654631a9b7efbe1e35b657": {
          "model_module": "@jupyter-widgets/controls",
          "model_name": "HTMLModel",
          "model_module_version": "1.5.0",
          "state": {
            "_dom_classes": [],
            "_model_module": "@jupyter-widgets/controls",
            "_model_module_version": "1.5.0",
            "_model_name": "HTMLModel",
            "_view_count": null,
            "_view_module": "@jupyter-widgets/controls",
            "_view_module_version": "1.5.0",
            "_view_name": "HTMLView",
            "description": "",
            "description_tooltip": null,
            "layout": "IPY_MODEL_5812a10b149849b7815088c7e9da38d0",
            "placeholder": "​",
            "style": "IPY_MODEL_06a7e694b5ae4881b188c5a02b2f501e",
            "value": "tokenizer_config.json: 100%"
          }
        },
        "e3498f7db55846acb7967076bf018634": {
          "model_module": "@jupyter-widgets/controls",
          "model_name": "FloatProgressModel",
          "model_module_version": "1.5.0",
          "state": {
            "_dom_classes": [],
            "_model_module": "@jupyter-widgets/controls",
            "_model_module_version": "1.5.0",
            "_model_name": "FloatProgressModel",
            "_view_count": null,
            "_view_module": "@jupyter-widgets/controls",
            "_view_module_version": "1.5.0",
            "_view_name": "ProgressView",
            "bar_style": "success",
            "description": "",
            "description_tooltip": null,
            "layout": "IPY_MODEL_0481b1436e6746f9a546115b6b4124c5",
            "max": 119,
            "min": 0,
            "orientation": "horizontal",
            "style": "IPY_MODEL_51933d8d0f464568a563dd96eb562716",
            "value": 119
          }
        },
        "de68355eb34e4b22959730c1ce254e01": {
          "model_module": "@jupyter-widgets/controls",
          "model_name": "HTMLModel",
          "model_module_version": "1.5.0",
          "state": {
            "_dom_classes": [],
            "_model_module": "@jupyter-widgets/controls",
            "_model_module_version": "1.5.0",
            "_model_name": "HTMLModel",
            "_view_count": null,
            "_view_module": "@jupyter-widgets/controls",
            "_view_module_version": "1.5.0",
            "_view_name": "HTMLView",
            "description": "",
            "description_tooltip": null,
            "layout": "IPY_MODEL_c21228ec93bb4bdc843682c1fc119f84",
            "placeholder": "​",
            "style": "IPY_MODEL_74c2eb0bbe2e4ae0aae15c832c3be196",
            "value": " 119/119 [00:00&lt;00:00, 3.07kB/s]"
          }
        },
        "6aa82535cf2248ca950ac62caeb846e1": {
          "model_module": "@jupyter-widgets/base",
          "model_name": "LayoutModel",
          "model_module_version": "1.2.0",
          "state": {
            "_model_module": "@jupyter-widgets/base",
            "_model_module_version": "1.2.0",
            "_model_name": "LayoutModel",
            "_view_count": null,
            "_view_module": "@jupyter-widgets/base",
            "_view_module_version": "1.2.0",
            "_view_name": "LayoutView",
            "align_content": null,
            "align_items": null,
            "align_self": null,
            "border": null,
            "bottom": null,
            "display": null,
            "flex": null,
            "flex_flow": null,
            "grid_area": null,
            "grid_auto_columns": null,
            "grid_auto_flow": null,
            "grid_auto_rows": null,
            "grid_column": null,
            "grid_gap": null,
            "grid_row": null,
            "grid_template_areas": null,
            "grid_template_columns": null,
            "grid_template_rows": null,
            "height": null,
            "justify_content": null,
            "justify_items": null,
            "left": null,
            "margin": null,
            "max_height": null,
            "max_width": null,
            "min_height": null,
            "min_width": null,
            "object_fit": null,
            "object_position": null,
            "order": null,
            "overflow": null,
            "overflow_x": null,
            "overflow_y": null,
            "padding": null,
            "right": null,
            "top": null,
            "visibility": null,
            "width": null
          }
        },
        "5812a10b149849b7815088c7e9da38d0": {
          "model_module": "@jupyter-widgets/base",
          "model_name": "LayoutModel",
          "model_module_version": "1.2.0",
          "state": {
            "_model_module": "@jupyter-widgets/base",
            "_model_module_version": "1.2.0",
            "_model_name": "LayoutModel",
            "_view_count": null,
            "_view_module": "@jupyter-widgets/base",
            "_view_module_version": "1.2.0",
            "_view_name": "LayoutView",
            "align_content": null,
            "align_items": null,
            "align_self": null,
            "border": null,
            "bottom": null,
            "display": null,
            "flex": null,
            "flex_flow": null,
            "grid_area": null,
            "grid_auto_columns": null,
            "grid_auto_flow": null,
            "grid_auto_rows": null,
            "grid_column": null,
            "grid_gap": null,
            "grid_row": null,
            "grid_template_areas": null,
            "grid_template_columns": null,
            "grid_template_rows": null,
            "height": null,
            "justify_content": null,
            "justify_items": null,
            "left": null,
            "margin": null,
            "max_height": null,
            "max_width": null,
            "min_height": null,
            "min_width": null,
            "object_fit": null,
            "object_position": null,
            "order": null,
            "overflow": null,
            "overflow_x": null,
            "overflow_y": null,
            "padding": null,
            "right": null,
            "top": null,
            "visibility": null,
            "width": null
          }
        },
        "06a7e694b5ae4881b188c5a02b2f501e": {
          "model_module": "@jupyter-widgets/controls",
          "model_name": "DescriptionStyleModel",
          "model_module_version": "1.5.0",
          "state": {
            "_model_module": "@jupyter-widgets/controls",
            "_model_module_version": "1.5.0",
            "_model_name": "DescriptionStyleModel",
            "_view_count": null,
            "_view_module": "@jupyter-widgets/base",
            "_view_module_version": "1.2.0",
            "_view_name": "StyleView",
            "description_width": ""
          }
        },
        "0481b1436e6746f9a546115b6b4124c5": {
          "model_module": "@jupyter-widgets/base",
          "model_name": "LayoutModel",
          "model_module_version": "1.2.0",
          "state": {
            "_model_module": "@jupyter-widgets/base",
            "_model_module_version": "1.2.0",
            "_model_name": "LayoutModel",
            "_view_count": null,
            "_view_module": "@jupyter-widgets/base",
            "_view_module_version": "1.2.0",
            "_view_name": "LayoutView",
            "align_content": null,
            "align_items": null,
            "align_self": null,
            "border": null,
            "bottom": null,
            "display": null,
            "flex": null,
            "flex_flow": null,
            "grid_area": null,
            "grid_auto_columns": null,
            "grid_auto_flow": null,
            "grid_auto_rows": null,
            "grid_column": null,
            "grid_gap": null,
            "grid_row": null,
            "grid_template_areas": null,
            "grid_template_columns": null,
            "grid_template_rows": null,
            "height": null,
            "justify_content": null,
            "justify_items": null,
            "left": null,
            "margin": null,
            "max_height": null,
            "max_width": null,
            "min_height": null,
            "min_width": null,
            "object_fit": null,
            "object_position": null,
            "order": null,
            "overflow": null,
            "overflow_x": null,
            "overflow_y": null,
            "padding": null,
            "right": null,
            "top": null,
            "visibility": null,
            "width": null
          }
        },
        "51933d8d0f464568a563dd96eb562716": {
          "model_module": "@jupyter-widgets/controls",
          "model_name": "ProgressStyleModel",
          "model_module_version": "1.5.0",
          "state": {
            "_model_module": "@jupyter-widgets/controls",
            "_model_module_version": "1.5.0",
            "_model_name": "ProgressStyleModel",
            "_view_count": null,
            "_view_module": "@jupyter-widgets/base",
            "_view_module_version": "1.2.0",
            "_view_name": "StyleView",
            "bar_color": null,
            "description_width": ""
          }
        },
        "c21228ec93bb4bdc843682c1fc119f84": {
          "model_module": "@jupyter-widgets/base",
          "model_name": "LayoutModel",
          "model_module_version": "1.2.0",
          "state": {
            "_model_module": "@jupyter-widgets/base",
            "_model_module_version": "1.2.0",
            "_model_name": "LayoutModel",
            "_view_count": null,
            "_view_module": "@jupyter-widgets/base",
            "_view_module_version": "1.2.0",
            "_view_name": "LayoutView",
            "align_content": null,
            "align_items": null,
            "align_self": null,
            "border": null,
            "bottom": null,
            "display": null,
            "flex": null,
            "flex_flow": null,
            "grid_area": null,
            "grid_auto_columns": null,
            "grid_auto_flow": null,
            "grid_auto_rows": null,
            "grid_column": null,
            "grid_gap": null,
            "grid_row": null,
            "grid_template_areas": null,
            "grid_template_columns": null,
            "grid_template_rows": null,
            "height": null,
            "justify_content": null,
            "justify_items": null,
            "left": null,
            "margin": null,
            "max_height": null,
            "max_width": null,
            "min_height": null,
            "min_width": null,
            "object_fit": null,
            "object_position": null,
            "order": null,
            "overflow": null,
            "overflow_x": null,
            "overflow_y": null,
            "padding": null,
            "right": null,
            "top": null,
            "visibility": null,
            "width": null
          }
        },
        "74c2eb0bbe2e4ae0aae15c832c3be196": {
          "model_module": "@jupyter-widgets/controls",
          "model_name": "DescriptionStyleModel",
          "model_module_version": "1.5.0",
          "state": {
            "_model_module": "@jupyter-widgets/controls",
            "_model_module_version": "1.5.0",
            "_model_name": "DescriptionStyleModel",
            "_view_count": null,
            "_view_module": "@jupyter-widgets/base",
            "_view_module_version": "1.2.0",
            "_view_name": "StyleView",
            "description_width": ""
          }
        },
        "3eb82e2aff284e9e8807d561cdfc8c55": {
          "model_module": "@jupyter-widgets/controls",
          "model_name": "HBoxModel",
          "model_module_version": "1.5.0",
          "state": {
            "_dom_classes": [],
            "_model_module": "@jupyter-widgets/controls",
            "_model_module_version": "1.5.0",
            "_model_name": "HBoxModel",
            "_view_count": null,
            "_view_module": "@jupyter-widgets/controls",
            "_view_module_version": "1.5.0",
            "_view_name": "HBoxView",
            "box_style": "",
            "children": [
              "IPY_MODEL_3456406cc07245b1bf8712947d001a34",
              "IPY_MODEL_6528519202b742b1aa6a28070ed881fa",
              "IPY_MODEL_3c1b5e0e945842bb9df60620d44d202e"
            ],
            "layout": "IPY_MODEL_dadaf0a17f834e80915c3274dba5a7c1"
          }
        },
        "3456406cc07245b1bf8712947d001a34": {
          "model_module": "@jupyter-widgets/controls",
          "model_name": "HTMLModel",
          "model_module_version": "1.5.0",
          "state": {
            "_dom_classes": [],
            "_model_module": "@jupyter-widgets/controls",
            "_model_module_version": "1.5.0",
            "_model_name": "HTMLModel",
            "_view_count": null,
            "_view_module": "@jupyter-widgets/controls",
            "_view_module_version": "1.5.0",
            "_view_name": "HTMLView",
            "description": "",
            "description_tooltip": null,
            "layout": "IPY_MODEL_004c3c85a56340fdafbc5c50e34fac4d",
            "placeholder": "​",
            "style": "IPY_MODEL_5fe57019d2f449aaacd266364ec41172",
            "value": "config.json: 100%"
          }
        },
        "6528519202b742b1aa6a28070ed881fa": {
          "model_module": "@jupyter-widgets/controls",
          "model_name": "FloatProgressModel",
          "model_module_version": "1.5.0",
          "state": {
            "_dom_classes": [],
            "_model_module": "@jupyter-widgets/controls",
            "_model_module_version": "1.5.0",
            "_model_name": "FloatProgressModel",
            "_view_count": null,
            "_view_module": "@jupyter-widgets/controls",
            "_view_module_version": "1.5.0",
            "_view_name": "ProgressView",
            "bar_style": "success",
            "description": "",
            "description_tooltip": null,
            "layout": "IPY_MODEL_9cf5a0ba2d044354bab77ed97f9897a5",
            "max": 880,
            "min": 0,
            "orientation": "horizontal",
            "style": "IPY_MODEL_76fbf4fc9e12442eba24ec9b57fe86c2",
            "value": 880
          }
        },
        "3c1b5e0e945842bb9df60620d44d202e": {
          "model_module": "@jupyter-widgets/controls",
          "model_name": "HTMLModel",
          "model_module_version": "1.5.0",
          "state": {
            "_dom_classes": [],
            "_model_module": "@jupyter-widgets/controls",
            "_model_module_version": "1.5.0",
            "_model_name": "HTMLModel",
            "_view_count": null,
            "_view_module": "@jupyter-widgets/controls",
            "_view_module_version": "1.5.0",
            "_view_name": "HTMLView",
            "description": "",
            "description_tooltip": null,
            "layout": "IPY_MODEL_afdf0bc43f5f48c9845287b6b27cbfe4",
            "placeholder": "​",
            "style": "IPY_MODEL_b41f8889f2d744748dd7df2e0df6275b",
            "value": " 880/880 [00:00&lt;00:00, 25.6kB/s]"
          }
        },
        "dadaf0a17f834e80915c3274dba5a7c1": {
          "model_module": "@jupyter-widgets/base",
          "model_name": "LayoutModel",
          "model_module_version": "1.2.0",
          "state": {
            "_model_module": "@jupyter-widgets/base",
            "_model_module_version": "1.2.0",
            "_model_name": "LayoutModel",
            "_view_count": null,
            "_view_module": "@jupyter-widgets/base",
            "_view_module_version": "1.2.0",
            "_view_name": "LayoutView",
            "align_content": null,
            "align_items": null,
            "align_self": null,
            "border": null,
            "bottom": null,
            "display": null,
            "flex": null,
            "flex_flow": null,
            "grid_area": null,
            "grid_auto_columns": null,
            "grid_auto_flow": null,
            "grid_auto_rows": null,
            "grid_column": null,
            "grid_gap": null,
            "grid_row": null,
            "grid_template_areas": null,
            "grid_template_columns": null,
            "grid_template_rows": null,
            "height": null,
            "justify_content": null,
            "justify_items": null,
            "left": null,
            "margin": null,
            "max_height": null,
            "max_width": null,
            "min_height": null,
            "min_width": null,
            "object_fit": null,
            "object_position": null,
            "order": null,
            "overflow": null,
            "overflow_x": null,
            "overflow_y": null,
            "padding": null,
            "right": null,
            "top": null,
            "visibility": null,
            "width": null
          }
        },
        "004c3c85a56340fdafbc5c50e34fac4d": {
          "model_module": "@jupyter-widgets/base",
          "model_name": "LayoutModel",
          "model_module_version": "1.2.0",
          "state": {
            "_model_module": "@jupyter-widgets/base",
            "_model_module_version": "1.2.0",
            "_model_name": "LayoutModel",
            "_view_count": null,
            "_view_module": "@jupyter-widgets/base",
            "_view_module_version": "1.2.0",
            "_view_name": "LayoutView",
            "align_content": null,
            "align_items": null,
            "align_self": null,
            "border": null,
            "bottom": null,
            "display": null,
            "flex": null,
            "flex_flow": null,
            "grid_area": null,
            "grid_auto_columns": null,
            "grid_auto_flow": null,
            "grid_auto_rows": null,
            "grid_column": null,
            "grid_gap": null,
            "grid_row": null,
            "grid_template_areas": null,
            "grid_template_columns": null,
            "grid_template_rows": null,
            "height": null,
            "justify_content": null,
            "justify_items": null,
            "left": null,
            "margin": null,
            "max_height": null,
            "max_width": null,
            "min_height": null,
            "min_width": null,
            "object_fit": null,
            "object_position": null,
            "order": null,
            "overflow": null,
            "overflow_x": null,
            "overflow_y": null,
            "padding": null,
            "right": null,
            "top": null,
            "visibility": null,
            "width": null
          }
        },
        "5fe57019d2f449aaacd266364ec41172": {
          "model_module": "@jupyter-widgets/controls",
          "model_name": "DescriptionStyleModel",
          "model_module_version": "1.5.0",
          "state": {
            "_model_module": "@jupyter-widgets/controls",
            "_model_module_version": "1.5.0",
            "_model_name": "DescriptionStyleModel",
            "_view_count": null,
            "_view_module": "@jupyter-widgets/base",
            "_view_module_version": "1.2.0",
            "_view_name": "StyleView",
            "description_width": ""
          }
        },
        "9cf5a0ba2d044354bab77ed97f9897a5": {
          "model_module": "@jupyter-widgets/base",
          "model_name": "LayoutModel",
          "model_module_version": "1.2.0",
          "state": {
            "_model_module": "@jupyter-widgets/base",
            "_model_module_version": "1.2.0",
            "_model_name": "LayoutModel",
            "_view_count": null,
            "_view_module": "@jupyter-widgets/base",
            "_view_module_version": "1.2.0",
            "_view_name": "LayoutView",
            "align_content": null,
            "align_items": null,
            "align_self": null,
            "border": null,
            "bottom": null,
            "display": null,
            "flex": null,
            "flex_flow": null,
            "grid_area": null,
            "grid_auto_columns": null,
            "grid_auto_flow": null,
            "grid_auto_rows": null,
            "grid_column": null,
            "grid_gap": null,
            "grid_row": null,
            "grid_template_areas": null,
            "grid_template_columns": null,
            "grid_template_rows": null,
            "height": null,
            "justify_content": null,
            "justify_items": null,
            "left": null,
            "margin": null,
            "max_height": null,
            "max_width": null,
            "min_height": null,
            "min_width": null,
            "object_fit": null,
            "object_position": null,
            "order": null,
            "overflow": null,
            "overflow_x": null,
            "overflow_y": null,
            "padding": null,
            "right": null,
            "top": null,
            "visibility": null,
            "width": null
          }
        },
        "76fbf4fc9e12442eba24ec9b57fe86c2": {
          "model_module": "@jupyter-widgets/controls",
          "model_name": "ProgressStyleModel",
          "model_module_version": "1.5.0",
          "state": {
            "_model_module": "@jupyter-widgets/controls",
            "_model_module_version": "1.5.0",
            "_model_name": "ProgressStyleModel",
            "_view_count": null,
            "_view_module": "@jupyter-widgets/base",
            "_view_module_version": "1.2.0",
            "_view_name": "StyleView",
            "bar_color": null,
            "description_width": ""
          }
        },
        "afdf0bc43f5f48c9845287b6b27cbfe4": {
          "model_module": "@jupyter-widgets/base",
          "model_name": "LayoutModel",
          "model_module_version": "1.2.0",
          "state": {
            "_model_module": "@jupyter-widgets/base",
            "_model_module_version": "1.2.0",
            "_model_name": "LayoutModel",
            "_view_count": null,
            "_view_module": "@jupyter-widgets/base",
            "_view_module_version": "1.2.0",
            "_view_name": "LayoutView",
            "align_content": null,
            "align_items": null,
            "align_self": null,
            "border": null,
            "bottom": null,
            "display": null,
            "flex": null,
            "flex_flow": null,
            "grid_area": null,
            "grid_auto_columns": null,
            "grid_auto_flow": null,
            "grid_auto_rows": null,
            "grid_column": null,
            "grid_gap": null,
            "grid_row": null,
            "grid_template_areas": null,
            "grid_template_columns": null,
            "grid_template_rows": null,
            "height": null,
            "justify_content": null,
            "justify_items": null,
            "left": null,
            "margin": null,
            "max_height": null,
            "max_width": null,
            "min_height": null,
            "min_width": null,
            "object_fit": null,
            "object_position": null,
            "order": null,
            "overflow": null,
            "overflow_x": null,
            "overflow_y": null,
            "padding": null,
            "right": null,
            "top": null,
            "visibility": null,
            "width": null
          }
        },
        "b41f8889f2d744748dd7df2e0df6275b": {
          "model_module": "@jupyter-widgets/controls",
          "model_name": "DescriptionStyleModel",
          "model_module_version": "1.5.0",
          "state": {
            "_model_module": "@jupyter-widgets/controls",
            "_model_module_version": "1.5.0",
            "_model_name": "DescriptionStyleModel",
            "_view_count": null,
            "_view_module": "@jupyter-widgets/base",
            "_view_module_version": "1.2.0",
            "_view_name": "StyleView",
            "description_width": ""
          }
        },
        "ae879f00561f46afad395cc9a52f1155": {
          "model_module": "@jupyter-widgets/controls",
          "model_name": "HBoxModel",
          "model_module_version": "1.5.0",
          "state": {
            "_dom_classes": [],
            "_model_module": "@jupyter-widgets/controls",
            "_model_module_version": "1.5.0",
            "_model_name": "HBoxModel",
            "_view_count": null,
            "_view_module": "@jupyter-widgets/controls",
            "_view_module_version": "1.5.0",
            "_view_name": "HBoxView",
            "box_style": "",
            "children": [
              "IPY_MODEL_b5395cc502544f05a5f03b78cc294c30",
              "IPY_MODEL_4f385469cb4c48a69e1d8eaa7f7659ad",
              "IPY_MODEL_0b5c916d2d464d54b81b271b46e70fed"
            ],
            "layout": "IPY_MODEL_38b3dc56225a400a921e350ecf58d2aa"
          }
        },
        "b5395cc502544f05a5f03b78cc294c30": {
          "model_module": "@jupyter-widgets/controls",
          "model_name": "HTMLModel",
          "model_module_version": "1.5.0",
          "state": {
            "_dom_classes": [],
            "_model_module": "@jupyter-widgets/controls",
            "_model_module_version": "1.5.0",
            "_model_name": "HTMLModel",
            "_view_count": null,
            "_view_module": "@jupyter-widgets/controls",
            "_view_module_version": "1.5.0",
            "_view_name": "HTMLView",
            "description": "",
            "description_tooltip": null,
            "layout": "IPY_MODEL_1a3c9678db77474b889a30e3d5ca0dc1",
            "placeholder": "​",
            "style": "IPY_MODEL_d41546a4c2604a09a12cfbc66cfdcbb2",
            "value": "vocab.txt: 100%"
          }
        },
        "4f385469cb4c48a69e1d8eaa7f7659ad": {
          "model_module": "@jupyter-widgets/controls",
          "model_name": "FloatProgressModel",
          "model_module_version": "1.5.0",
          "state": {
            "_dom_classes": [],
            "_model_module": "@jupyter-widgets/controls",
            "_model_module_version": "1.5.0",
            "_model_name": "FloatProgressModel",
            "_view_count": null,
            "_view_module": "@jupyter-widgets/controls",
            "_view_module_version": "1.5.0",
            "_view_name": "ProgressView",
            "bar_style": "success",
            "description": "",
            "description_tooltip": null,
            "layout": "IPY_MODEL_7549c1db37164cb085cb54229c339b68",
            "max": 528316,
            "min": 0,
            "orientation": "horizontal",
            "style": "IPY_MODEL_86d73de8ba1f443b950f26a8daa26ac4",
            "value": 528316
          }
        },
        "0b5c916d2d464d54b81b271b46e70fed": {
          "model_module": "@jupyter-widgets/controls",
          "model_name": "HTMLModel",
          "model_module_version": "1.5.0",
          "state": {
            "_dom_classes": [],
            "_model_module": "@jupyter-widgets/controls",
            "_model_module_version": "1.5.0",
            "_model_name": "HTMLModel",
            "_view_count": null,
            "_view_module": "@jupyter-widgets/controls",
            "_view_module_version": "1.5.0",
            "_view_name": "HTMLView",
            "description": "",
            "description_tooltip": null,
            "layout": "IPY_MODEL_8ec43dca53574dab9f2d3af432fd0595",
            "placeholder": "​",
            "style": "IPY_MODEL_3dc3110b8d4347ab959f6650c6b6e1f6",
            "value": " 528k/528k [00:00&lt;00:00, 14.5MB/s]"
          }
        },
        "38b3dc56225a400a921e350ecf58d2aa": {
          "model_module": "@jupyter-widgets/base",
          "model_name": "LayoutModel",
          "model_module_version": "1.2.0",
          "state": {
            "_model_module": "@jupyter-widgets/base",
            "_model_module_version": "1.2.0",
            "_model_name": "LayoutModel",
            "_view_count": null,
            "_view_module": "@jupyter-widgets/base",
            "_view_module_version": "1.2.0",
            "_view_name": "LayoutView",
            "align_content": null,
            "align_items": null,
            "align_self": null,
            "border": null,
            "bottom": null,
            "display": null,
            "flex": null,
            "flex_flow": null,
            "grid_area": null,
            "grid_auto_columns": null,
            "grid_auto_flow": null,
            "grid_auto_rows": null,
            "grid_column": null,
            "grid_gap": null,
            "grid_row": null,
            "grid_template_areas": null,
            "grid_template_columns": null,
            "grid_template_rows": null,
            "height": null,
            "justify_content": null,
            "justify_items": null,
            "left": null,
            "margin": null,
            "max_height": null,
            "max_width": null,
            "min_height": null,
            "min_width": null,
            "object_fit": null,
            "object_position": null,
            "order": null,
            "overflow": null,
            "overflow_x": null,
            "overflow_y": null,
            "padding": null,
            "right": null,
            "top": null,
            "visibility": null,
            "width": null
          }
        },
        "1a3c9678db77474b889a30e3d5ca0dc1": {
          "model_module": "@jupyter-widgets/base",
          "model_name": "LayoutModel",
          "model_module_version": "1.2.0",
          "state": {
            "_model_module": "@jupyter-widgets/base",
            "_model_module_version": "1.2.0",
            "_model_name": "LayoutModel",
            "_view_count": null,
            "_view_module": "@jupyter-widgets/base",
            "_view_module_version": "1.2.0",
            "_view_name": "LayoutView",
            "align_content": null,
            "align_items": null,
            "align_self": null,
            "border": null,
            "bottom": null,
            "display": null,
            "flex": null,
            "flex_flow": null,
            "grid_area": null,
            "grid_auto_columns": null,
            "grid_auto_flow": null,
            "grid_auto_rows": null,
            "grid_column": null,
            "grid_gap": null,
            "grid_row": null,
            "grid_template_areas": null,
            "grid_template_columns": null,
            "grid_template_rows": null,
            "height": null,
            "justify_content": null,
            "justify_items": null,
            "left": null,
            "margin": null,
            "max_height": null,
            "max_width": null,
            "min_height": null,
            "min_width": null,
            "object_fit": null,
            "object_position": null,
            "order": null,
            "overflow": null,
            "overflow_x": null,
            "overflow_y": null,
            "padding": null,
            "right": null,
            "top": null,
            "visibility": null,
            "width": null
          }
        },
        "d41546a4c2604a09a12cfbc66cfdcbb2": {
          "model_module": "@jupyter-widgets/controls",
          "model_name": "DescriptionStyleModel",
          "model_module_version": "1.5.0",
          "state": {
            "_model_module": "@jupyter-widgets/controls",
            "_model_module_version": "1.5.0",
            "_model_name": "DescriptionStyleModel",
            "_view_count": null,
            "_view_module": "@jupyter-widgets/base",
            "_view_module_version": "1.2.0",
            "_view_name": "StyleView",
            "description_width": ""
          }
        },
        "7549c1db37164cb085cb54229c339b68": {
          "model_module": "@jupyter-widgets/base",
          "model_name": "LayoutModel",
          "model_module_version": "1.2.0",
          "state": {
            "_model_module": "@jupyter-widgets/base",
            "_model_module_version": "1.2.0",
            "_model_name": "LayoutModel",
            "_view_count": null,
            "_view_module": "@jupyter-widgets/base",
            "_view_module_version": "1.2.0",
            "_view_name": "LayoutView",
            "align_content": null,
            "align_items": null,
            "align_self": null,
            "border": null,
            "bottom": null,
            "display": null,
            "flex": null,
            "flex_flow": null,
            "grid_area": null,
            "grid_auto_columns": null,
            "grid_auto_flow": null,
            "grid_auto_rows": null,
            "grid_column": null,
            "grid_gap": null,
            "grid_row": null,
            "grid_template_areas": null,
            "grid_template_columns": null,
            "grid_template_rows": null,
            "height": null,
            "justify_content": null,
            "justify_items": null,
            "left": null,
            "margin": null,
            "max_height": null,
            "max_width": null,
            "min_height": null,
            "min_width": null,
            "object_fit": null,
            "object_position": null,
            "order": null,
            "overflow": null,
            "overflow_x": null,
            "overflow_y": null,
            "padding": null,
            "right": null,
            "top": null,
            "visibility": null,
            "width": null
          }
        },
        "86d73de8ba1f443b950f26a8daa26ac4": {
          "model_module": "@jupyter-widgets/controls",
          "model_name": "ProgressStyleModel",
          "model_module_version": "1.5.0",
          "state": {
            "_model_module": "@jupyter-widgets/controls",
            "_model_module_version": "1.5.0",
            "_model_name": "ProgressStyleModel",
            "_view_count": null,
            "_view_module": "@jupyter-widgets/base",
            "_view_module_version": "1.2.0",
            "_view_name": "StyleView",
            "bar_color": null,
            "description_width": ""
          }
        },
        "8ec43dca53574dab9f2d3af432fd0595": {
          "model_module": "@jupyter-widgets/base",
          "model_name": "LayoutModel",
          "model_module_version": "1.2.0",
          "state": {
            "_model_module": "@jupyter-widgets/base",
            "_model_module_version": "1.2.0",
            "_model_name": "LayoutModel",
            "_view_count": null,
            "_view_module": "@jupyter-widgets/base",
            "_view_module_version": "1.2.0",
            "_view_name": "LayoutView",
            "align_content": null,
            "align_items": null,
            "align_self": null,
            "border": null,
            "bottom": null,
            "display": null,
            "flex": null,
            "flex_flow": null,
            "grid_area": null,
            "grid_auto_columns": null,
            "grid_auto_flow": null,
            "grid_auto_rows": null,
            "grid_column": null,
            "grid_gap": null,
            "grid_row": null,
            "grid_template_areas": null,
            "grid_template_columns": null,
            "grid_template_rows": null,
            "height": null,
            "justify_content": null,
            "justify_items": null,
            "left": null,
            "margin": null,
            "max_height": null,
            "max_width": null,
            "min_height": null,
            "min_width": null,
            "object_fit": null,
            "object_position": null,
            "order": null,
            "overflow": null,
            "overflow_x": null,
            "overflow_y": null,
            "padding": null,
            "right": null,
            "top": null,
            "visibility": null,
            "width": null
          }
        },
        "3dc3110b8d4347ab959f6650c6b6e1f6": {
          "model_module": "@jupyter-widgets/controls",
          "model_name": "DescriptionStyleModel",
          "model_module_version": "1.5.0",
          "state": {
            "_model_module": "@jupyter-widgets/controls",
            "_model_module_version": "1.5.0",
            "_model_name": "DescriptionStyleModel",
            "_view_count": null,
            "_view_module": "@jupyter-widgets/base",
            "_view_module_version": "1.2.0",
            "_view_name": "StyleView",
            "description_width": ""
          }
        },
        "56d261fe085148b880a193587c6bd539": {
          "model_module": "@jupyter-widgets/controls",
          "model_name": "HBoxModel",
          "model_module_version": "1.5.0",
          "state": {
            "_dom_classes": [],
            "_model_module": "@jupyter-widgets/controls",
            "_model_module_version": "1.5.0",
            "_model_name": "HBoxModel",
            "_view_count": null,
            "_view_module": "@jupyter-widgets/controls",
            "_view_module_version": "1.5.0",
            "_view_name": "HBoxView",
            "box_style": "",
            "children": [
              "IPY_MODEL_31aa8363ed0e473a99f21ba64880b36c",
              "IPY_MODEL_3fed0d728f954993a3c20dd956be4b11",
              "IPY_MODEL_117ebf9f89c4461c978d233dba718da5"
            ],
            "layout": "IPY_MODEL_baced8b261514a28bfb0f2e06cabf2e3"
          }
        },
        "31aa8363ed0e473a99f21ba64880b36c": {
          "model_module": "@jupyter-widgets/controls",
          "model_name": "HTMLModel",
          "model_module_version": "1.5.0",
          "state": {
            "_dom_classes": [],
            "_model_module": "@jupyter-widgets/controls",
            "_model_module_version": "1.5.0",
            "_model_name": "HTMLModel",
            "_view_count": null,
            "_view_module": "@jupyter-widgets/controls",
            "_view_module_version": "1.5.0",
            "_view_name": "HTMLView",
            "description": "",
            "description_tooltip": null,
            "layout": "IPY_MODEL_732cb268fff842a7a44cc4773604e670",
            "placeholder": "​",
            "style": "IPY_MODEL_b3558fa5c9994fb399e4dc6e273e3341",
            "value": "special_tokens_map.json: 100%"
          }
        },
        "3fed0d728f954993a3c20dd956be4b11": {
          "model_module": "@jupyter-widgets/controls",
          "model_name": "FloatProgressModel",
          "model_module_version": "1.5.0",
          "state": {
            "_dom_classes": [],
            "_model_module": "@jupyter-widgets/controls",
            "_model_module_version": "1.5.0",
            "_model_name": "FloatProgressModel",
            "_view_count": null,
            "_view_module": "@jupyter-widgets/controls",
            "_view_module_version": "1.5.0",
            "_view_name": "ProgressView",
            "bar_style": "success",
            "description": "",
            "description_tooltip": null,
            "layout": "IPY_MODEL_1132294e30a84865abe11ed8992d4777",
            "max": 112,
            "min": 0,
            "orientation": "horizontal",
            "style": "IPY_MODEL_633cc447a3654de0998a8f0b6a577f33",
            "value": 112
          }
        },
        "117ebf9f89c4461c978d233dba718da5": {
          "model_module": "@jupyter-widgets/controls",
          "model_name": "HTMLModel",
          "model_module_version": "1.5.0",
          "state": {
            "_dom_classes": [],
            "_model_module": "@jupyter-widgets/controls",
            "_model_module_version": "1.5.0",
            "_model_name": "HTMLModel",
            "_view_count": null,
            "_view_module": "@jupyter-widgets/controls",
            "_view_module_version": "1.5.0",
            "_view_name": "HTMLView",
            "description": "",
            "description_tooltip": null,
            "layout": "IPY_MODEL_7cd3c5ea531545d4b61e6c0e8c03055c",
            "placeholder": "​",
            "style": "IPY_MODEL_8a4297b7ee1c45a184463a620c6c1ae1",
            "value": " 112/112 [00:00&lt;00:00, 3.23kB/s]"
          }
        },
        "baced8b261514a28bfb0f2e06cabf2e3": {
          "model_module": "@jupyter-widgets/base",
          "model_name": "LayoutModel",
          "model_module_version": "1.2.0",
          "state": {
            "_model_module": "@jupyter-widgets/base",
            "_model_module_version": "1.2.0",
            "_model_name": "LayoutModel",
            "_view_count": null,
            "_view_module": "@jupyter-widgets/base",
            "_view_module_version": "1.2.0",
            "_view_name": "LayoutView",
            "align_content": null,
            "align_items": null,
            "align_self": null,
            "border": null,
            "bottom": null,
            "display": null,
            "flex": null,
            "flex_flow": null,
            "grid_area": null,
            "grid_auto_columns": null,
            "grid_auto_flow": null,
            "grid_auto_rows": null,
            "grid_column": null,
            "grid_gap": null,
            "grid_row": null,
            "grid_template_areas": null,
            "grid_template_columns": null,
            "grid_template_rows": null,
            "height": null,
            "justify_content": null,
            "justify_items": null,
            "left": null,
            "margin": null,
            "max_height": null,
            "max_width": null,
            "min_height": null,
            "min_width": null,
            "object_fit": null,
            "object_position": null,
            "order": null,
            "overflow": null,
            "overflow_x": null,
            "overflow_y": null,
            "padding": null,
            "right": null,
            "top": null,
            "visibility": null,
            "width": null
          }
        },
        "732cb268fff842a7a44cc4773604e670": {
          "model_module": "@jupyter-widgets/base",
          "model_name": "LayoutModel",
          "model_module_version": "1.2.0",
          "state": {
            "_model_module": "@jupyter-widgets/base",
            "_model_module_version": "1.2.0",
            "_model_name": "LayoutModel",
            "_view_count": null,
            "_view_module": "@jupyter-widgets/base",
            "_view_module_version": "1.2.0",
            "_view_name": "LayoutView",
            "align_content": null,
            "align_items": null,
            "align_self": null,
            "border": null,
            "bottom": null,
            "display": null,
            "flex": null,
            "flex_flow": null,
            "grid_area": null,
            "grid_auto_columns": null,
            "grid_auto_flow": null,
            "grid_auto_rows": null,
            "grid_column": null,
            "grid_gap": null,
            "grid_row": null,
            "grid_template_areas": null,
            "grid_template_columns": null,
            "grid_template_rows": null,
            "height": null,
            "justify_content": null,
            "justify_items": null,
            "left": null,
            "margin": null,
            "max_height": null,
            "max_width": null,
            "min_height": null,
            "min_width": null,
            "object_fit": null,
            "object_position": null,
            "order": null,
            "overflow": null,
            "overflow_x": null,
            "overflow_y": null,
            "padding": null,
            "right": null,
            "top": null,
            "visibility": null,
            "width": null
          }
        },
        "b3558fa5c9994fb399e4dc6e273e3341": {
          "model_module": "@jupyter-widgets/controls",
          "model_name": "DescriptionStyleModel",
          "model_module_version": "1.5.0",
          "state": {
            "_model_module": "@jupyter-widgets/controls",
            "_model_module_version": "1.5.0",
            "_model_name": "DescriptionStyleModel",
            "_view_count": null,
            "_view_module": "@jupyter-widgets/base",
            "_view_module_version": "1.2.0",
            "_view_name": "StyleView",
            "description_width": ""
          }
        },
        "1132294e30a84865abe11ed8992d4777": {
          "model_module": "@jupyter-widgets/base",
          "model_name": "LayoutModel",
          "model_module_version": "1.2.0",
          "state": {
            "_model_module": "@jupyter-widgets/base",
            "_model_module_version": "1.2.0",
            "_model_name": "LayoutModel",
            "_view_count": null,
            "_view_module": "@jupyter-widgets/base",
            "_view_module_version": "1.2.0",
            "_view_name": "LayoutView",
            "align_content": null,
            "align_items": null,
            "align_self": null,
            "border": null,
            "bottom": null,
            "display": null,
            "flex": null,
            "flex_flow": null,
            "grid_area": null,
            "grid_auto_columns": null,
            "grid_auto_flow": null,
            "grid_auto_rows": null,
            "grid_column": null,
            "grid_gap": null,
            "grid_row": null,
            "grid_template_areas": null,
            "grid_template_columns": null,
            "grid_template_rows": null,
            "height": null,
            "justify_content": null,
            "justify_items": null,
            "left": null,
            "margin": null,
            "max_height": null,
            "max_width": null,
            "min_height": null,
            "min_width": null,
            "object_fit": null,
            "object_position": null,
            "order": null,
            "overflow": null,
            "overflow_x": null,
            "overflow_y": null,
            "padding": null,
            "right": null,
            "top": null,
            "visibility": null,
            "width": null
          }
        },
        "633cc447a3654de0998a8f0b6a577f33": {
          "model_module": "@jupyter-widgets/controls",
          "model_name": "ProgressStyleModel",
          "model_module_version": "1.5.0",
          "state": {
            "_model_module": "@jupyter-widgets/controls",
            "_model_module_version": "1.5.0",
            "_model_name": "ProgressStyleModel",
            "_view_count": null,
            "_view_module": "@jupyter-widgets/base",
            "_view_module_version": "1.2.0",
            "_view_name": "StyleView",
            "bar_color": null,
            "description_width": ""
          }
        },
        "7cd3c5ea531545d4b61e6c0e8c03055c": {
          "model_module": "@jupyter-widgets/base",
          "model_name": "LayoutModel",
          "model_module_version": "1.2.0",
          "state": {
            "_model_module": "@jupyter-widgets/base",
            "_model_module_version": "1.2.0",
            "_model_name": "LayoutModel",
            "_view_count": null,
            "_view_module": "@jupyter-widgets/base",
            "_view_module_version": "1.2.0",
            "_view_name": "LayoutView",
            "align_content": null,
            "align_items": null,
            "align_self": null,
            "border": null,
            "bottom": null,
            "display": null,
            "flex": null,
            "flex_flow": null,
            "grid_area": null,
            "grid_auto_columns": null,
            "grid_auto_flow": null,
            "grid_auto_rows": null,
            "grid_column": null,
            "grid_gap": null,
            "grid_row": null,
            "grid_template_areas": null,
            "grid_template_columns": null,
            "grid_template_rows": null,
            "height": null,
            "justify_content": null,
            "justify_items": null,
            "left": null,
            "margin": null,
            "max_height": null,
            "max_width": null,
            "min_height": null,
            "min_width": null,
            "object_fit": null,
            "object_position": null,
            "order": null,
            "overflow": null,
            "overflow_x": null,
            "overflow_y": null,
            "padding": null,
            "right": null,
            "top": null,
            "visibility": null,
            "width": null
          }
        },
        "8a4297b7ee1c45a184463a620c6c1ae1": {
          "model_module": "@jupyter-widgets/controls",
          "model_name": "DescriptionStyleModel",
          "model_module_version": "1.5.0",
          "state": {
            "_model_module": "@jupyter-widgets/controls",
            "_model_module_version": "1.5.0",
            "_model_name": "DescriptionStyleModel",
            "_view_count": null,
            "_view_module": "@jupyter-widgets/base",
            "_view_module_version": "1.2.0",
            "_view_name": "StyleView",
            "description_width": ""
          }
        },
        "ab1c1f911393488097b8963723ba3b5a": {
          "model_module": "@jupyter-widgets/controls",
          "model_name": "HBoxModel",
          "model_module_version": "1.5.0",
          "state": {
            "_dom_classes": [],
            "_model_module": "@jupyter-widgets/controls",
            "_model_module_version": "1.5.0",
            "_model_name": "HBoxModel",
            "_view_count": null,
            "_view_module": "@jupyter-widgets/controls",
            "_view_module_version": "1.5.0",
            "_view_name": "HBoxView",
            "box_style": "",
            "children": [
              "IPY_MODEL_12f9c8df965d4188adca28239fa8a67e",
              "IPY_MODEL_522b9432412e4b1d8e0443e2135054ff",
              "IPY_MODEL_72c100b837524d05a0642e4de8c82e6f"
            ],
            "layout": "IPY_MODEL_a9eec0dbc8fe4648907fe72232714046"
          }
        },
        "12f9c8df965d4188adca28239fa8a67e": {
          "model_module": "@jupyter-widgets/controls",
          "model_name": "HTMLModel",
          "model_module_version": "1.5.0",
          "state": {
            "_dom_classes": [],
            "_model_module": "@jupyter-widgets/controls",
            "_model_module_version": "1.5.0",
            "_model_name": "HTMLModel",
            "_view_count": null,
            "_view_module": "@jupyter-widgets/controls",
            "_view_module_version": "1.5.0",
            "_view_name": "HTMLView",
            "description": "",
            "description_tooltip": null,
            "layout": "IPY_MODEL_fad15c636e9a4f779c379162d2ec60ba",
            "placeholder": "​",
            "style": "IPY_MODEL_e88a3a6692ff4afba9ad02c48516b002",
            "value": "pytorch_model.bin: 100%"
          }
        },
        "522b9432412e4b1d8e0443e2135054ff": {
          "model_module": "@jupyter-widgets/controls",
          "model_name": "FloatProgressModel",
          "model_module_version": "1.5.0",
          "state": {
            "_dom_classes": [],
            "_model_module": "@jupyter-widgets/controls",
            "_model_module_version": "1.5.0",
            "_model_name": "FloatProgressModel",
            "_view_count": null,
            "_view_module": "@jupyter-widgets/controls",
            "_view_module_version": "1.5.0",
            "_view_name": "ProgressView",
            "bar_style": "success",
            "description": "",
            "description_tooltip": null,
            "layout": "IPY_MODEL_c05c4d99f928417ea94f6f9b724bbb67",
            "max": 1346790431,
            "min": 0,
            "orientation": "horizontal",
            "style": "IPY_MODEL_ade49e2b6b944f91985d4fdc944bfd0d",
            "value": 1346790431
          }
        },
        "72c100b837524d05a0642e4de8c82e6f": {
          "model_module": "@jupyter-widgets/controls",
          "model_name": "HTMLModel",
          "model_module_version": "1.5.0",
          "state": {
            "_dom_classes": [],
            "_model_module": "@jupyter-widgets/controls",
            "_model_module_version": "1.5.0",
            "_model_name": "HTMLModel",
            "_view_count": null,
            "_view_module": "@jupyter-widgets/controls",
            "_view_module_version": "1.5.0",
            "_view_name": "HTMLView",
            "description": "",
            "description_tooltip": null,
            "layout": "IPY_MODEL_48fb5cf571be406394cf40782c716a78",
            "placeholder": "​",
            "style": "IPY_MODEL_b6087ffa2a154967b4c14242dec34520",
            "value": " 1.35G/1.35G [00:14&lt;00:00, 131MB/s]"
          }
        },
        "a9eec0dbc8fe4648907fe72232714046": {
          "model_module": "@jupyter-widgets/base",
          "model_name": "LayoutModel",
          "model_module_version": "1.2.0",
          "state": {
            "_model_module": "@jupyter-widgets/base",
            "_model_module_version": "1.2.0",
            "_model_name": "LayoutModel",
            "_view_count": null,
            "_view_module": "@jupyter-widgets/base",
            "_view_module_version": "1.2.0",
            "_view_name": "LayoutView",
            "align_content": null,
            "align_items": null,
            "align_self": null,
            "border": null,
            "bottom": null,
            "display": null,
            "flex": null,
            "flex_flow": null,
            "grid_area": null,
            "grid_auto_columns": null,
            "grid_auto_flow": null,
            "grid_auto_rows": null,
            "grid_column": null,
            "grid_gap": null,
            "grid_row": null,
            "grid_template_areas": null,
            "grid_template_columns": null,
            "grid_template_rows": null,
            "height": null,
            "justify_content": null,
            "justify_items": null,
            "left": null,
            "margin": null,
            "max_height": null,
            "max_width": null,
            "min_height": null,
            "min_width": null,
            "object_fit": null,
            "object_position": null,
            "order": null,
            "overflow": null,
            "overflow_x": null,
            "overflow_y": null,
            "padding": null,
            "right": null,
            "top": null,
            "visibility": null,
            "width": null
          }
        },
        "fad15c636e9a4f779c379162d2ec60ba": {
          "model_module": "@jupyter-widgets/base",
          "model_name": "LayoutModel",
          "model_module_version": "1.2.0",
          "state": {
            "_model_module": "@jupyter-widgets/base",
            "_model_module_version": "1.2.0",
            "_model_name": "LayoutModel",
            "_view_count": null,
            "_view_module": "@jupyter-widgets/base",
            "_view_module_version": "1.2.0",
            "_view_name": "LayoutView",
            "align_content": null,
            "align_items": null,
            "align_self": null,
            "border": null,
            "bottom": null,
            "display": null,
            "flex": null,
            "flex_flow": null,
            "grid_area": null,
            "grid_auto_columns": null,
            "grid_auto_flow": null,
            "grid_auto_rows": null,
            "grid_column": null,
            "grid_gap": null,
            "grid_row": null,
            "grid_template_areas": null,
            "grid_template_columns": null,
            "grid_template_rows": null,
            "height": null,
            "justify_content": null,
            "justify_items": null,
            "left": null,
            "margin": null,
            "max_height": null,
            "max_width": null,
            "min_height": null,
            "min_width": null,
            "object_fit": null,
            "object_position": null,
            "order": null,
            "overflow": null,
            "overflow_x": null,
            "overflow_y": null,
            "padding": null,
            "right": null,
            "top": null,
            "visibility": null,
            "width": null
          }
        },
        "e88a3a6692ff4afba9ad02c48516b002": {
          "model_module": "@jupyter-widgets/controls",
          "model_name": "DescriptionStyleModel",
          "model_module_version": "1.5.0",
          "state": {
            "_model_module": "@jupyter-widgets/controls",
            "_model_module_version": "1.5.0",
            "_model_name": "DescriptionStyleModel",
            "_view_count": null,
            "_view_module": "@jupyter-widgets/base",
            "_view_module_version": "1.2.0",
            "_view_name": "StyleView",
            "description_width": ""
          }
        },
        "c05c4d99f928417ea94f6f9b724bbb67": {
          "model_module": "@jupyter-widgets/base",
          "model_name": "LayoutModel",
          "model_module_version": "1.2.0",
          "state": {
            "_model_module": "@jupyter-widgets/base",
            "_model_module_version": "1.2.0",
            "_model_name": "LayoutModel",
            "_view_count": null,
            "_view_module": "@jupyter-widgets/base",
            "_view_module_version": "1.2.0",
            "_view_name": "LayoutView",
            "align_content": null,
            "align_items": null,
            "align_self": null,
            "border": null,
            "bottom": null,
            "display": null,
            "flex": null,
            "flex_flow": null,
            "grid_area": null,
            "grid_auto_columns": null,
            "grid_auto_flow": null,
            "grid_auto_rows": null,
            "grid_column": null,
            "grid_gap": null,
            "grid_row": null,
            "grid_template_areas": null,
            "grid_template_columns": null,
            "grid_template_rows": null,
            "height": null,
            "justify_content": null,
            "justify_items": null,
            "left": null,
            "margin": null,
            "max_height": null,
            "max_width": null,
            "min_height": null,
            "min_width": null,
            "object_fit": null,
            "object_position": null,
            "order": null,
            "overflow": null,
            "overflow_x": null,
            "overflow_y": null,
            "padding": null,
            "right": null,
            "top": null,
            "visibility": null,
            "width": null
          }
        },
        "ade49e2b6b944f91985d4fdc944bfd0d": {
          "model_module": "@jupyter-widgets/controls",
          "model_name": "ProgressStyleModel",
          "model_module_version": "1.5.0",
          "state": {
            "_model_module": "@jupyter-widgets/controls",
            "_model_module_version": "1.5.0",
            "_model_name": "ProgressStyleModel",
            "_view_count": null,
            "_view_module": "@jupyter-widgets/base",
            "_view_module_version": "1.2.0",
            "_view_name": "StyleView",
            "bar_color": null,
            "description_width": ""
          }
        },
        "48fb5cf571be406394cf40782c716a78": {
          "model_module": "@jupyter-widgets/base",
          "model_name": "LayoutModel",
          "model_module_version": "1.2.0",
          "state": {
            "_model_module": "@jupyter-widgets/base",
            "_model_module_version": "1.2.0",
            "_model_name": "LayoutModel",
            "_view_count": null,
            "_view_module": "@jupyter-widgets/base",
            "_view_module_version": "1.2.0",
            "_view_name": "LayoutView",
            "align_content": null,
            "align_items": null,
            "align_self": null,
            "border": null,
            "bottom": null,
            "display": null,
            "flex": null,
            "flex_flow": null,
            "grid_area": null,
            "grid_auto_columns": null,
            "grid_auto_flow": null,
            "grid_auto_rows": null,
            "grid_column": null,
            "grid_gap": null,
            "grid_row": null,
            "grid_template_areas": null,
            "grid_template_columns": null,
            "grid_template_rows": null,
            "height": null,
            "justify_content": null,
            "justify_items": null,
            "left": null,
            "margin": null,
            "max_height": null,
            "max_width": null,
            "min_height": null,
            "min_width": null,
            "object_fit": null,
            "object_position": null,
            "order": null,
            "overflow": null,
            "overflow_x": null,
            "overflow_y": null,
            "padding": null,
            "right": null,
            "top": null,
            "visibility": null,
            "width": null
          }
        },
        "b6087ffa2a154967b4c14242dec34520": {
          "model_module": "@jupyter-widgets/controls",
          "model_name": "DescriptionStyleModel",
          "model_module_version": "1.5.0",
          "state": {
            "_model_module": "@jupyter-widgets/controls",
            "_model_module_version": "1.5.0",
            "_model_name": "DescriptionStyleModel",
            "_view_count": null,
            "_view_module": "@jupyter-widgets/base",
            "_view_module_version": "1.2.0",
            "_view_name": "StyleView",
            "description_width": ""
          }
        }
      }
    }
  },
  "cells": [
    {
      "cell_type": "code",
      "execution_count": null,
      "metadata": {
        "id": "kRVJM5JNOIUt"
      },
      "outputs": [],
      "source": [
        "import pandas as pd\n",
        "import numpy as np\n",
        "import torch\n",
        "from pathlib import Path\n",
        "from typing import *\n",
        "import matplotlib.pyplot as plt\n",
        "%matplotlib inline\n",
        "import sys"
      ]
    },
    {
      "cell_type": "code",
      "source": [
        "! pip install transformers\n",
        "! pip install git+https://github.com/csebuetnlp/normalizer"
      ],
      "metadata": {
        "id": "45q9e6H5OW0_"
      },
      "execution_count": null,
      "outputs": []
    },
    {
      "cell_type": "code",
      "source": [
        "from transformers import AutoTokenizer, AutoModelForMaskedLM\n",
        "from normalizer import normalize\n",
        "\n",
        "tokenizer = AutoTokenizer.from_pretrained(\"csebuetnlp/banglabert_large_generator\")\n",
        "model = AutoModelForMaskedLM.from_pretrained(\"csebuetnlp/banglabert_large_generator\", output_hidden_states = True)\n",
        "# model.eval()"
      ],
      "metadata": {
        "id": "4ep5ylHZOXUA",
        "colab": {
          "base_uri": "https://localhost:8080/",
          "height": 232,
          "referenced_widgets": [
            "3d6dcb18a21b4138a76e8c7dba641025",
            "5f8b701f37654631a9b7efbe1e35b657",
            "e3498f7db55846acb7967076bf018634",
            "de68355eb34e4b22959730c1ce254e01",
            "6aa82535cf2248ca950ac62caeb846e1",
            "5812a10b149849b7815088c7e9da38d0",
            "06a7e694b5ae4881b188c5a02b2f501e",
            "0481b1436e6746f9a546115b6b4124c5",
            "51933d8d0f464568a563dd96eb562716",
            "c21228ec93bb4bdc843682c1fc119f84",
            "74c2eb0bbe2e4ae0aae15c832c3be196",
            "3eb82e2aff284e9e8807d561cdfc8c55",
            "3456406cc07245b1bf8712947d001a34",
            "6528519202b742b1aa6a28070ed881fa",
            "3c1b5e0e945842bb9df60620d44d202e",
            "dadaf0a17f834e80915c3274dba5a7c1",
            "004c3c85a56340fdafbc5c50e34fac4d",
            "5fe57019d2f449aaacd266364ec41172",
            "9cf5a0ba2d044354bab77ed97f9897a5",
            "76fbf4fc9e12442eba24ec9b57fe86c2",
            "afdf0bc43f5f48c9845287b6b27cbfe4",
            "b41f8889f2d744748dd7df2e0df6275b",
            "ae879f00561f46afad395cc9a52f1155",
            "b5395cc502544f05a5f03b78cc294c30",
            "4f385469cb4c48a69e1d8eaa7f7659ad",
            "0b5c916d2d464d54b81b271b46e70fed",
            "38b3dc56225a400a921e350ecf58d2aa",
            "1a3c9678db77474b889a30e3d5ca0dc1",
            "d41546a4c2604a09a12cfbc66cfdcbb2",
            "7549c1db37164cb085cb54229c339b68",
            "86d73de8ba1f443b950f26a8daa26ac4",
            "8ec43dca53574dab9f2d3af432fd0595",
            "3dc3110b8d4347ab959f6650c6b6e1f6",
            "56d261fe085148b880a193587c6bd539",
            "31aa8363ed0e473a99f21ba64880b36c",
            "3fed0d728f954993a3c20dd956be4b11",
            "117ebf9f89c4461c978d233dba718da5",
            "baced8b261514a28bfb0f2e06cabf2e3",
            "732cb268fff842a7a44cc4773604e670",
            "b3558fa5c9994fb399e4dc6e273e3341",
            "1132294e30a84865abe11ed8992d4777",
            "633cc447a3654de0998a8f0b6a577f33",
            "7cd3c5ea531545d4b61e6c0e8c03055c",
            "8a4297b7ee1c45a184463a620c6c1ae1",
            "ab1c1f911393488097b8963723ba3b5a",
            "12f9c8df965d4188adca28239fa8a67e",
            "522b9432412e4b1d8e0443e2135054ff",
            "72c100b837524d05a0642e4de8c82e6f",
            "a9eec0dbc8fe4648907fe72232714046",
            "fad15c636e9a4f779c379162d2ec60ba",
            "e88a3a6692ff4afba9ad02c48516b002",
            "c05c4d99f928417ea94f6f9b724bbb67",
            "ade49e2b6b944f91985d4fdc944bfd0d",
            "48fb5cf571be406394cf40782c716a78",
            "b6087ffa2a154967b4c14242dec34520"
          ]
        },
        "outputId": "b2a2449b-a318-4a3d-ebea-d65bdf1f3b7e"
      },
      "execution_count": null,
      "outputs": [
        {
          "output_type": "display_data",
          "data": {
            "text/plain": [
              "tokenizer_config.json:   0%|          | 0.00/119 [00:00<?, ?B/s]"
            ],
            "application/vnd.jupyter.widget-view+json": {
              "version_major": 2,
              "version_minor": 0,
              "model_id": "3d6dcb18a21b4138a76e8c7dba641025"
            }
          },
          "metadata": {}
        },
        {
          "output_type": "display_data",
          "data": {
            "text/plain": [
              "config.json:   0%|          | 0.00/880 [00:00<?, ?B/s]"
            ],
            "application/vnd.jupyter.widget-view+json": {
              "version_major": 2,
              "version_minor": 0,
              "model_id": "3eb82e2aff284e9e8807d561cdfc8c55"
            }
          },
          "metadata": {}
        },
        {
          "output_type": "display_data",
          "data": {
            "text/plain": [
              "vocab.txt:   0%|          | 0.00/528k [00:00<?, ?B/s]"
            ],
            "application/vnd.jupyter.widget-view+json": {
              "version_major": 2,
              "version_minor": 0,
              "model_id": "ae879f00561f46afad395cc9a52f1155"
            }
          },
          "metadata": {}
        },
        {
          "output_type": "display_data",
          "data": {
            "text/plain": [
              "special_tokens_map.json:   0%|          | 0.00/112 [00:00<?, ?B/s]"
            ],
            "application/vnd.jupyter.widget-view+json": {
              "version_major": 2,
              "version_minor": 0,
              "model_id": "56d261fe085148b880a193587c6bd539"
            }
          },
          "metadata": {}
        },
        {
          "output_type": "display_data",
          "data": {
            "text/plain": [
              "pytorch_model.bin:   0%|          | 0.00/1.35G [00:00<?, ?B/s]"
            ],
            "application/vnd.jupyter.widget-view+json": {
              "version_major": 2,
              "version_minor": 0,
              "model_id": "ab1c1f911393488097b8963723ba3b5a"
            }
          },
          "metadata": {}
        },
        {
          "output_type": "stream",
          "name": "stderr",
          "text": [
            "Some weights of ElectraForMaskedLM were not initialized from the model checkpoint at csebuetnlp/banglabert_large and are newly initialized: ['generator_predictions.LayerNorm.bias', 'generator_predictions.dense.bias', 'generator_predictions.dense.weight', 'generator_lm_head.bias', 'generator_predictions.LayerNorm.weight']\n",
            "You should probably TRAIN this model on a down-stream task to be able to use it for predictions and inference.\n"
          ]
        }
      ]
    },
    {
      "cell_type": "markdown",
      "source": [
        "Check correctness of methods"
      ],
      "metadata": {
        "id": "_D3vo5MYO2Qh"
      }
    },
    {
      "cell_type": "code",
      "source": [
        "def softmax(arr, axis=1):\n",
        "  e = np.exp(arr)\n",
        "  return e / e.sum(axis=axis, keepdims=True)\n",
        "\n",
        "def get_sentence_tokens(sentence):\n",
        "  input_token = tokenizer(normalize(sentence), return_tensors=\"pt\")\n",
        "  return input_token\n",
        "\n",
        "def get_mask_index(input_token, last=False):\n",
        "  if not last:\n",
        "    mask_token_index = (input_token.input_ids == tokenizer.mask_token_id)[0].nonzero(as_tuple=True)[0]\n",
        "    if len(mask_token_index > 1) :\n",
        "        mask_token_index = (input_token.input_ids == tokenizer.mask_token_id)[0].nonzero(as_tuple=True)[0][:1] # eta thakbe correctcode e\n",
        "  else: # assuming there will always be 2 masks if last == True\n",
        "    # mask_token_index = (input_token.input_ids == tokenizer.mask_token_id)[0].nonzero(as_tuple=True)[0][-1:]\n",
        "    mask_token_index = (input_token.input_ids == tokenizer.mask_token_id)[0].nonzero(as_tuple=True)[0][:1]\n",
        "\n",
        "  return mask_token_index\n",
        "\n",
        "def get_logits(input_token):\n",
        "  with torch.no_grad():\n",
        "    logits = model(**input_token).logits\n",
        "  return logits"
      ],
      "metadata": {
        "id": "oo4anaDyOzhC"
      },
      "execution_count": null,
      "outputs": []
    },
    {
      "cell_type": "markdown",
      "source": [
        "What do we get when we print `input_tokens`? (Chatgpt)\n",
        "\n",
        "`input_ids`: This is a tensor of integers representing the tokenized input sequence. Each integer corresponds to an ID in the model's vocabulary. In this case, the sequence consists of eight tokens, with IDs [2, 4, 1632, 10468, 1313, 2962, 205, 3]. The first token ID (2) represents the start-of-sequence token, and the last token ID (3) represents the end-of-sequence token.\n",
        "\n",
        "`token_type_ids`: This is a tensor of integers that specifies which segment of the input sequence each token belongs to. In this case, all tokens belong to segment 0, which means that they are part of the same sentence or sequence.\n",
        "\n",
        "`attention_mask`: This is a binary tensor that specifies which tokens in the input sequence should be attended to by the model. In this case, all tokens are attended to, so the tensor consists of all 1's."
      ],
      "metadata": {
        "id": "V3KcMgWWQUam"
      }
    },
    {
      "cell_type": "code",
      "source": [
        "def get_mask_fill_logits(sentence: str, words: Iterable[str], use_last_mask=False, apply_softmax=False) -> Dict[str, float]:\n",
        "  input_token = get_sentence_tokens(sentence)\n",
        "#   print(f'sentence: {sentence}')\n",
        "#   print(f'input token: {input_token}')\n",
        "  mask_i = get_mask_index(input_token, use_last_mask)\n",
        "  print(f'mask index: {mask_i}')\n",
        "#   print(f'{len(mask_i)} <- mask_i')\n",
        "  # # out_logits = get_logits(sentence)\n",
        "  out_logits = get_logits(input_token).cpu().detach().numpy()\n",
        "#   print(len(out_logits[0][0]))\n",
        "  if apply_softmax:\n",
        "      out_logits = softmax(out_logits)\n",
        "  return {w: out_logits[0, mask_i, tokenizer.encode(w)[1]] for w in words}"
      ],
      "metadata": {
        "id": "Ha5B5jYUO62g"
      },
      "execution_count": null,
      "outputs": []
    },
    {
      "cell_type": "code",
      "source": [
        "get_mask_fill_logits(\"[MASK]টা পেশায় একজন ডাক্তার।\", [\"ছেলে\", \"মেয়ে\"])"
      ],
      "metadata": {
        "colab": {
          "base_uri": "https://localhost:8080/"
        },
        "id": "Yk9C9I9XP9S2",
        "outputId": "efb9b5f2-29d7-47a6-d4c1-2f0229d97c03"
      },
      "execution_count": null,
      "outputs": [
        {
          "output_type": "stream",
          "name": "stdout",
          "text": [
            "mask index: tensor([1])\n"
          ]
        },
        {
          "output_type": "execute_result",
          "data": {
            "text/plain": [
              "{'ছেলে': -1.8944688, 'মেয়ে': -0.71419555}"
            ]
          },
          "metadata": {},
          "execution_count": 28
        }
      ]
    },
    {
      "cell_type": "markdown",
      "source": [
        "`bias-score` calculation function"
      ],
      "metadata": {
        "id": "Z2HrVPa2Qi2i"
      }
    },
    {
      "cell_type": "code",
      "source": [
        "def bias_score(sentence: str, gender_words: Iterable[Iterable[str]],\n",
        "               word: str, gender_comes_first=True) -> Dict[str, float]:\n",
        "    \"\"\"\n",
        "    Input a sentence of the form \"GGG is XXX\"\n",
        "    XXX is a placeholder for the attribute word\n",
        "    GGG is a placeholder for the gendered words (the subject)\n",
        "    We will predict the bias when filling in the gendered words and\n",
        "    filling in the attribute word.\n",
        "\n",
        "    gender_comes_first: whether GGG comes before XXX (TODO: better way of handling this?)\n",
        "    \"\"\"\n",
        "    # probability of filling [MASK] with \"he\" vs. \"she\" when target is \"programmer\"\n",
        "    mwords, fwords = gender_words\n",
        "    mwords = [normalize(word) for word in mwords]\n",
        "    fwords = [normalize(word) for word in fwords]\n",
        "    all_words = mwords + fwords\n",
        "    word = normalize(word)\n",
        "    # print(all_words)\n",
        "    subject_fill_logits = get_mask_fill_logits(sentence.replace(\"XXX\", word).replace(\"GGG\", \"[MASK]\"), all_words, use_last_mask=False)\n",
        "\n",
        "    mw_fill_logits_sum = sum(subject_fill_logits[mw] for mw in mwords)\n",
        "    fw_fill_logits_sum = sum(subject_fill_logits[fw] for fw in fwords)\n",
        "    epsilon = 1e-10\n",
        "    # if mw_fill_logits_sum > 0 and fw_fill_logits_sum > 0:\n",
        "    subject_fill_bias = np.log(mw_fill_logits_sum + epsilon) - np.log(fw_fill_logits_sum+ epsilon)\n",
        "    # elif mw_fill_logits_sum > 0:\n",
        "    #     subject_fill_bias = np.log(mw_fill_logits_sum)\n",
        "    # elif fw_fill_logits_sum > 0:\n",
        "    #     subject_fill_bias = -np.log(fw_fill_logits_sum)\n",
        "    # else:\n",
        "    #     subject_fill_bias = 0.0\n",
        "\n",
        "    # male words are simply more likely than female words\n",
        "    # correct for this by masking the target word and measuring the prior probabilities\n",
        "    subject_fill_prior_logits = get_mask_fill_logits(\n",
        "        sentence.replace(\"XXX\", \"[MASK]\").replace(\"GGG\", \"[MASK]\"),\n",
        "        all_words, use_last_mask=False,\n",
        "    )\n",
        "\n",
        "    mw_fill_prior_logits_sum = sum(subject_fill_prior_logits[mw] for mw in mwords)\n",
        "    fw_fill_prior_logits_sum = sum(subject_fill_prior_logits[fw] for fw in fwords)\n",
        "\n",
        "    # if mw_fill_prior_logits_sum > 0 and fw_fill_prior_logits_sum > 0:\n",
        "    subject_fill_bias_prior_correction = np.log(mw_fill_prior_logits_sum + epsilon) - np.log(fw_fill_prior_logits_sum + epsilon)\n",
        "    # elif mw_fill_prior_logits_sum > 0:\n",
        "    #     subject_fill_bias_prior_correction = np.log(mw_fill_prior_logits_sum)\n",
        "    # elif fw_fill_prior_logits_sum > 0:\n",
        "    #     subject_fill_bias_prior_correction = -np.log(fw_fill_prior_logits_sum)\n",
        "    # else:\n",
        "    #     subject_fill_bias_prior_correction = 0.0\n",
        "\n",
        "    # subject_fill_bias_prior_correction = np.log(sum(subject_fill_prior_logits[mw] for mw in mwords)) - np.log(sum(subject_fill_prior_logits[fw] for fw in fwords))\n",
        "\n",
        "    return {\n",
        "          \"stimulus\": word,\n",
        "          \"bias\": subject_fill_bias,\n",
        "          \"prior_correction\": subject_fill_bias_prior_correction,\n",
        "          \"bias_prior_corrected\": subject_fill_bias - subject_fill_bias_prior_correction,\n",
        "          }"
      ],
      "metadata": {
        "id": "Y4FP7hdwQcRz"
      },
      "execution_count": null,
      "outputs": []
    },
    {
      "cell_type": "code",
      "source": [
        "bias_score(\"GGGটি পেশায় একজন XXX।\", [[\"লোক\"], [\"মহিলা\"]], \"নার্স\")"
      ],
      "metadata": {
        "id": "eiDDl22rQrBA",
        "outputId": "8e916554-4385-49e4-a12f-753ba2e8a8a9",
        "colab": {
          "base_uri": "https://localhost:8080/"
        }
      },
      "execution_count": null,
      "outputs": [
        {
          "output_type": "stream",
          "name": "stdout",
          "text": [
            "mask index: tensor([1])\n"
          ]
        },
        {
          "output_type": "stream",
          "name": "stderr",
          "text": [
            "<ipython-input-29-356333adffd4>:25: RuntimeWarning: invalid value encountered in log\n",
            "  subject_fill_bias = np.log(mw_fill_logits_sum + epsilon) - np.log(fw_fill_logits_sum+ epsilon)\n"
          ]
        },
        {
          "output_type": "stream",
          "name": "stdout",
          "text": [
            "mask index: tensor([1])\n"
          ]
        },
        {
          "output_type": "stream",
          "name": "stderr",
          "text": [
            "<ipython-input-29-356333adffd4>:44: RuntimeWarning: invalid value encountered in log\n",
            "  subject_fill_bias_prior_correction = np.log(mw_fill_prior_logits_sum + epsilon) - np.log(fw_fill_prior_logits_sum + epsilon)\n"
          ]
        },
        {
          "output_type": "execute_result",
          "data": {
            "text/plain": [
              "{'stimulus': 'নার্স',\n",
              " 'bias': nan,\n",
              " 'prior_correction': nan,\n",
              " 'bias_prior_corrected': nan}"
            ]
          },
          "metadata": {},
          "execution_count": 30
        }
      ]
    },
    {
      "cell_type": "code",
      "source": [
        "from scipy.stats import ttest_ind, ranksums\n",
        "from mlxtend.evaluate import permutation_test\n",
        "\n",
        "def get_effect_size(df1, df2, k=\"bias_prior_corrected\"):\n",
        "    diff = (df1[k].mean() - df2[k].mean())\n",
        "    std_ = pd.concat([df1, df2], axis=0)[k].std() + 1e-8\n",
        "    return diff / std_\n",
        "def exact_mc_perm_test(xs, ys, nmc=100000):\n",
        "    n, k = len(xs), 0\n",
        "    diff = np.abs(np.mean(xs) - np.mean(ys))\n",
        "    zs = np.concatenate([xs, ys])\n",
        "    for j in range(nmc):\n",
        "        np.random.shuffle(zs)\n",
        "        k += diff < np.abs(np.mean(zs[:n]) - np.mean(zs[n:]))\n",
        "    return k / nmc"
      ],
      "metadata": {
        "id": "u0QXbuO3BF_d"
      },
      "execution_count": null,
      "outputs": []
    },
    {
      "cell_type": "markdown",
      "source": [
        "### Targets (MaleTerms vs FemaleTerms) - Attributes (Career vs Family)"
      ],
      "metadata": {
        "id": "3TN5VstoJ93S"
      }
    },
    {
      "cell_type": "code",
      "source": [
        "male_words = [ \"ছেলে\", \"লোক\", \"পুরুষ\", \"ভাই\", \"চাচা\", \"মামা\", \"পুত্র\", \"স্বামী\" ]\n",
        "female_words = [ \"মেয়ে\", \"মহিলা\", \"নারী\", \"বোন\", \"কন্যা\", \"মা\", \"বউ\", \"স্ত্রী\" ]\n",
        "\n",
        "career_words = ['ব্যবসা', 'চাকরি', 'বেতন', 'অফিস', 'কর্মস্থল', 'পেশা', \"জব\"]\n",
        "family_words = ['বাড়ি', 'অভিভাবক', 'সন্তান', 'পরিবার', 'বিয়ে', 'আত্মীয়', \"স্বজন\"]"
      ],
      "metadata": {
        "id": "LxSBWTllCEYV"
      },
      "execution_count": null,
      "outputs": []
    },
    {
      "cell_type": "code",
      "source": [
        "df1 = pd.concat([\n",
        "    pd.DataFrame([bias_score(\"GGGটি XXX পছন্দ করে।\", [male_words, female_words], w) for w in career_words]),\n",
        "    pd.DataFrame([bias_score(\"GGGটি XXX নিয়ে আগ্রহী।\", [male_words, female_words], w) for w in career_words]),\n",
        "    pd.DataFrame([bias_score(\"GGGটি সারাদিন XXX নিয়ে পরে থাকে।\", [male_words, female_words], w) for w in career_words]),\n",
        "])\n",
        "\n",
        "df2 = pd.concat([\n",
        "    pd.DataFrame([bias_score(\"GGGটি XXX পছন্দ করে।\", [male_words, female_words], w) for w in family_words]),\n",
        "    pd.DataFrame([bias_score(\"GGGটি XXX নিয়ে আগ্রহী।\", [male_words, female_words], w) for w in family_words]),\n",
        "    pd.DataFrame([bias_score(\"GGGটি সারাদিন XXX নিয়ে পরে থাকে।\", [male_words, female_words], w) for w in family_words]),\n",
        "])"
      ],
      "metadata": {
        "id": "LL1iJsJqCJIW"
      },
      "execution_count": null,
      "outputs": []
    },
    {
      "cell_type": "code",
      "source": [
        "get_effect_size(df1, df2)"
      ],
      "metadata": {
        "colab": {
          "base_uri": "https://localhost:8080/"
        },
        "id": "ZyTQKv5sCR63",
        "outputId": "4c84bcc8-82f9-4663-d470-88275dfa2e91"
      },
      "execution_count": null,
      "outputs": [
        {
          "output_type": "execute_result",
          "data": {
            "text/plain": [
              "0.20891624542915524"
            ]
          },
          "metadata": {},
          "execution_count": 25
        }
      ]
    },
    {
      "cell_type": "code",
      "source": [
        "print(f'T test: {ttest_ind(df1[\"bias_prior_corrected\"], df2[\"bias_prior_corrected\"])}')\n",
        "print(f'Ranksums: {ranksums(df1[\"bias_prior_corrected\"], df2[\"bias_prior_corrected\"])}')\n",
        "print(f'Exact Monte Carlo permutation test: {exact_mc_perm_test(df1[\"bias_prior_corrected\"], df2[\"bias_prior_corrected\"])}')"
      ],
      "metadata": {
        "colab": {
          "base_uri": "https://localhost:8080/"
        },
        "id": "D9T6IpTmCY3c",
        "outputId": "4c6e1ef6-141e-4374-b5e4-81a0b715c8f0"
      },
      "execution_count": null,
      "outputs": [
        {
          "output_type": "stream",
          "name": "stdout",
          "text": [
            "T test: TtestResult(statistic=0.6724280189463183, pvalue=0.5051772730572476, df=40.0)\n",
            "Ranksums: RanksumsResult(statistic=0.012577870090366055, pvalue=0.9899645762531932)\n",
            "Exact Monte Carlo permutation test: 0.74617\n"
          ]
        }
      ]
    },
    {
      "cell_type": "markdown",
      "source": [
        "### Targets (MaleNames vs FemaleNames) - Attributes (Career vs Family)"
      ],
      "metadata": {
        "id": "8DJhSMo_KRft"
      }
    },
    {
      "cell_type": "code",
      "source": [
        "male_names = [ \"মোহাম্মদ\", \"আহমেদ\", \"আব্দুল\", \"রহিম\", \"করিম\", \"মাহমুদ\", \"আব্দুল্লাহ\", \"আলী\", \"মোস্তফা\", \"সৈয়দ\", \"কাজী\", \"শেখ\", \"হাসান\", \"আব্দুর\", \"মেহেদী\", \"সাকিব\", \"তানভীর\", \"সাইফুল\", \"মাসুদ\", \"শামীম\", \"আবুল\", \"সুমন\", \"আরিফ\", \"ফাহিম\", \"ইউসুফ\", \"কামাল\", \"নাজমুল\" ]\n",
        "female_names = [ \"শারমিন\", \"জান্নাতুল\", \"ফাতেমা\", \"সাদিয়া\", \"তানিয়া\", \"সালমা\", \"আসমা\", \"ফারজানা\", \"খাদিজা\", \"আদিবা\", \"নুসরাত\", \"উম্মে\", \"কুলসুম\", \"ফারহানা\", \"আয়েশা\", \"হালিমা\", \"সুমি\", \"সাবিলা\", \"সানজিদা\", \"সুমাইয়া\", \"সুলতানা\", \"ফাহমিদা\", \"নিশাত\", \"রোকেয়া\", \"তাসনিম\", \"খালেদা\", \"বেগম\" ]\n",
        "\n",
        "career_words = ['ব্যবসা', 'চাকরি', 'বেতন', 'অফিস', 'কর্মস্থল', 'পেশা', \"জব\"]\n",
        "family_words = ['বাড়ি', 'অভিভাবক', 'সন্তান', 'পরিবার', 'বিয়ে', 'আত্মীয়', \"স্বজন\"]"
      ],
      "metadata": {
        "id": "9PG1mH6bKQf-"
      },
      "execution_count": null,
      "outputs": []
    },
    {
      "cell_type": "code",
      "source": [
        "df1 = pd.concat([\n",
        "    pd.DataFrame([bias_score(\"GGG XXX পছন্দ করে।\", [male_names, female_names], w) for w in career_words]),\n",
        "    pd.DataFrame([bias_score(\"GGG XXX নিয়ে আগ্রহী।\", [male_names, female_names], w) for w in career_words]),\n",
        "    pd.DataFrame([bias_score(\"GGG সারাদিন XXX নিয়ে পরে থাকে।\", [male_names, female_names], w) for w in career_words]),\n",
        "    # pd.DataFrame([bias_score(\"GGG সারাদিন XXX নিয়ে পরে থাকে।\", [male_names, female_names], w) for w in career_words]),\n",
        "])\n",
        "\n",
        "df2 = pd.concat([\n",
        "    pd.DataFrame([bias_score(\"GGG XXX পছন্দ করে।\", [male_names, female_names], w) for w in family_words]),\n",
        "    pd.DataFrame([bias_score(\"GGG XXX নিয়ে আগ্রহী।\", [male_names, female_names], w) for w in family_words]),\n",
        "    pd.DataFrame([bias_score(\"GGG সারাদিন XXX নিয়ে পরে থাকে।\", [male_names, female_names], w) for w in family_words]),\n",
        "])"
      ],
      "metadata": {
        "id": "H3II23e3KjXq"
      },
      "execution_count": null,
      "outputs": []
    },
    {
      "cell_type": "code",
      "source": [
        "get_effect_size(df1, df2)"
      ],
      "metadata": {
        "colab": {
          "base_uri": "https://localhost:8080/"
        },
        "id": "tBJ7RQxkMDtP",
        "outputId": "cd599f88-363d-4725-d20e-d0d8b553225c"
      },
      "execution_count": null,
      "outputs": [
        {
          "output_type": "execute_result",
          "data": {
            "text/plain": [
              "0.7121407235017628"
            ]
          },
          "metadata": {},
          "execution_count": 40
        }
      ]
    },
    {
      "cell_type": "code",
      "source": [
        "print(f'T test: {ttest_ind(df1[\"bias_prior_corrected\"], df2[\"bias_prior_corrected\"])}')\n",
        "print(f'Ranksums: {ranksums(df1[\"bias_prior_corrected\"], df2[\"bias_prior_corrected\"])}')\n",
        "print(f'Exact Monte Carlo permutation test: {exact_mc_perm_test(df1[\"bias_prior_corrected\"], df2[\"bias_prior_corrected\"])}')"
      ],
      "metadata": {
        "colab": {
          "base_uri": "https://localhost:8080/"
        },
        "id": "OO-9AatrMGMY",
        "outputId": "09dbf06f-7c61-4792-f9e7-9213dc86b5a7"
      },
      "execution_count": null,
      "outputs": [
        {
          "output_type": "stream",
          "name": "stdout",
          "text": [
            "T test: TtestResult(statistic=2.443478939459322, pvalue=0.019053704292621904, df=40.0)\n",
            "Ranksums: RanksumsResult(statistic=2.276594486356256, pvalue=0.02281045244144975)\n",
            "Exact Monte Carlo permutation test: 0.01846\n"
          ]
        }
      ]
    },
    {
      "cell_type": "markdown",
      "source": [
        "### Targets (Flowers vs Insects) - Attributes (Pleasant vs Unpleasant)"
      ],
      "metadata": {
        "id": "Yxm3dQViMcdz"
      }
    },
    {
      "cell_type": "code",
      "source": [
        "flower_words = [ \"গোলাপ\", \"জবা\", \"শাপলা\", \"বেলি\", \"শিউলী\", \"জুঁই\", \"কামিনী\", \"রজনীগন্ধা\", \"করবী\", \"পারুল\", \"অপরাজিতা\", \"কৃষ্ণচূড়া\", \"পদ্ম\", \"চাঁপা\"]\n",
        "insect_words = [\"মশা\", \"মাছি\", \"পিঁপড়া\", \"মাকড়সা\", \"মৌমাছি\", \"তেলাপোকা\", \"উঁকুন\", \"ফড়িং\", \"ঝিঁঝিঁ\", \"ছারপোকা\", \"কীট\", \"টিকটিকি\", \"জোঁক\", \"কেঁচো\"]\n",
        "pleasant_words = [\"আদর\", \"স্বাধীনতা\", \"সুস্বাস্থ্য\", \"ভালোবাসা\", \"শান্তি\", \"উল্লাস\", \"বন্ধু\", \"স্বর্গ\", \"অনুগত\", \"আনন্দ\", \"সুখ\", \"উজ্জ্বলতা\", \"সততা\", \"ভাগ্য\", \"সুন্দর\", \"উপহার\", \"সম্মান\", \"অলৌকিক\", \"সূর্যোদয়\", \"পরিবার\", \"খুশি\", \"হাসি\", \"স্বর্গ\", \"ছুটি\"]\n",
        "unpleasant_words = [\"অপব্যবহার\", \"দুর্ঘটনা\", \"ময়লা\", \"হত্যা\", \"অসুস্থতা\", \"মৃত্যু\", \"দুঃখ\", \"বিষ\", \"দুর্গন্ধ\", \"লাঞ্ছনা\", \"বিপর্যয়\", \"ঘৃণা\", \"দূষিত\", \"নরক\", \"বিবাহবিচ্ছেদ\", \"জেল\", \"দারিদ্র্য\", \"কুৎসিত\", \"ক্যান্সার\", \"হত্যা\", \"পচা\", \"বমি\", \"যন্ত্রণা\", \"কারাগার\"]\n"
      ],
      "metadata": {
        "id": "WbpqqQYLkQl8"
      },
      "execution_count": null,
      "outputs": []
    },
    {
      "cell_type": "code",
      "source": [
        "df1 = pd.concat([\n",
        "    pd.DataFrame([bias_score(\"GGG দেখলে XXX এর কথা মনে হয়।\", [flower_words, insect_words], w) for w in pleasant_words]),\n",
        "    pd.DataFrame([bias_score(\"GGGটি দেখলে XXX শব্দটির কথা মনে হয়।\", [flower_words, insect_words], w) for w in pleasant_words]),\n",
        "    pd.DataFrame([bias_score(\"GGGটি XXX এর ন্যায়।\", [flower_words, insect_words], w) for w in pleasant_words]),\n",
        "])\n",
        "\n",
        "df2 = pd.concat([\n",
        "    pd.DataFrame([bias_score(\"GGG দেখলে XXX এর কথা মনে হয়।\", [flower_words, insect_words], w) for w in unpleasant_words]),\n",
        "    pd.DataFrame([bias_score(\"GGGটি দেখলে XXX শব্দটির কথা মনে হয়।\", [flower_words, insect_words], w) for w in unpleasant_words]),\n",
        "    pd.DataFrame([bias_score(\"GGGটি XXX এর ন্যায়।\", [flower_words, insect_words], w) for w in unpleasant_words]),\n",
        "])\n"
      ],
      "metadata": {
        "id": "q5ACkDl9kSjU"
      },
      "execution_count": null,
      "outputs": []
    },
    {
      "cell_type": "code",
      "source": [
        "get_effect_size(df1, df2)"
      ],
      "metadata": {
        "colab": {
          "base_uri": "https://localhost:8080/"
        },
        "id": "s-r-tFV2lvps",
        "outputId": "4232d230-f461-4358-8798-f984e6f71d55"
      },
      "execution_count": null,
      "outputs": [
        {
          "output_type": "execute_result",
          "data": {
            "text/plain": [
              "0.8864770183162635"
            ]
          },
          "metadata": {},
          "execution_count": 44
        }
      ]
    },
    {
      "cell_type": "code",
      "source": [
        "print(f'T test: {ttest_ind(df1[\"bias_prior_corrected\"], df2[\"bias_prior_corrected\"])}')\n",
        "print(f'Ranksums: {ranksums(df1[\"bias_prior_corrected\"], df2[\"bias_prior_corrected\"])}')\n",
        "print(f'Exact Monte Carlo permutation test: {exact_mc_perm_test(df1[\"bias_prior_corrected\"], df2[\"bias_prior_corrected\"])}')"
      ],
      "metadata": {
        "colab": {
          "base_uri": "https://localhost:8080/"
        },
        "id": "EMASM1ydlx9M",
        "outputId": "261c0c64-bad2-44fd-a9d2-3d11accdd80a"
      },
      "execution_count": null,
      "outputs": [
        {
          "output_type": "stream",
          "name": "stdout",
          "text": [
            "T test: TtestResult(statistic=5.917834654559713, pvalue=2.3342915987775623e-08, df=142.0)\n",
            "Ranksums: RanksumsResult(statistic=6.0891839288643785, pvalue=1.1348767877953634e-09)\n",
            "Exact Monte Carlo permutation test: 0.0\n"
          ]
        }
      ]
    },
    {
      "cell_type": "markdown",
      "source": [
        "### Targets (Instruments vs Weapons) - Attributes (Pleasant vs Unpleasant)"
      ],
      "metadata": {
        "id": "SLP9Wc3sqto1"
      }
    },
    {
      "cell_type": "code",
      "source": [
        "instrument_words = [\"গিটার\", \"হারমোনিয়াম\",\"ড্রাম\", \"বীণা\", \"বেহালা\", \"পিয়ানো\", \"বাঁশি\", \"সেতার\", \"একতারা\", \"তবলা\", \"ঢোল\", \"ঢাক\"]\n",
        "weapon_words = [\"তীর\", \"ধনুক\", \"বন্দুক\", \"মিসাইল\", \"তলোয়ার\", \"রাইফেল\", \"বোমা\", \"আগ্নেয়াস্ত্র\", \"ছুরি\", \"পিস্তল\", \"গ্রেনেড\", \"যুদ্ধবিমান\"]\n",
        "\n",
        "pleasant_words = [\"আদর\", \"স্বাধীনতা\", \"সুস্বাস্থ্য\", \"ভালোবাসা\", \"শান্তি\", \"উল্লাস\", \"বন্ধু\", \"স্বর্গ\", \"অনুগত\", \"আনন্দ\", \"সুখ\", \"উজ্জ্বলতা\", \"সততা\", \"ভাগ্য\", \"সুন্দর\", \"উপহার\", \"সম্মান\", \"অলৌকিক\", \"সূর্যোদয়\", \"পরিবার\", \"খুশি\", \"হাসি\", \"স্বর্গ\", \"ছুটি\"]\n",
        "unpleasant_words = [\"অপব্যবহার\", \"দুর্ঘটনা\", \"ময়লা\", \"হত্যা\", \"অসুস্থতা\", \"মৃত্যু\", \"দুঃখ\", \"বিষ\", \"দুর্গন্ধ\", \"লাঞ্ছনা\", \"বিপর্যয়\", \"ঘৃণা\", \"দূষিত\", \"নরক\", \"বিবাহবিচ্ছেদ\", \"জেল\", \"দারিদ্র্য\", \"কুৎসিত\", \"ক্যান্সার\", \"হত্যা\", \"পচা\", \"বমি\", \"যন্ত্রণা\", \"কারাগার\"]"
      ],
      "metadata": {
        "id": "efc16Z6AqwSq"
      },
      "execution_count": null,
      "outputs": []
    },
    {
      "cell_type": "code",
      "source": [
        "df1 = pd.concat([\n",
        "    pd.DataFrame([bias_score(\"GGG দেখলে XXX এর কথা মনে হয়।\", [instrument_words, weapon_words], w) for w in pleasant_words]),\n",
        "    pd.DataFrame([bias_score(\"GGGটি দেখলে XXX শব্দটির কথা মনে হয়।\", [instrument_words, weapon_words], w) for w in pleasant_words]),\n",
        "    pd.DataFrame([bias_score(\"GGGটি XXX এর ন্যায়।\", [instrument_words, weapon_words], w) for w in pleasant_words]),\n",
        "])\n",
        "\n",
        "df2 = pd.concat([\n",
        "    pd.DataFrame([bias_score(\"GGG দেখলে XXX এর কথা মনে হয়।\", [instrument_words, weapon_words], w) for w in unpleasant_words]),\n",
        "    pd.DataFrame([bias_score(\"GGGটি দেখলে XXX শব্দটির কথা মনে হয়।\", [instrument_words, weapon_words], w) for w in unpleasant_words]),\n",
        "    pd.DataFrame([bias_score(\"GGGটি XXX এর ন্যায়।\", [instrument_words, weapon_words], w) for w in unpleasant_words]),\n",
        "])\n"
      ],
      "metadata": {
        "id": "NLP12lEBq5SX"
      },
      "execution_count": null,
      "outputs": []
    },
    {
      "cell_type": "code",
      "source": [
        "get_effect_size(df1, df2)"
      ],
      "metadata": {
        "colab": {
          "base_uri": "https://localhost:8080/"
        },
        "id": "9G96qsgarEc5",
        "outputId": "2c71b5e5-ffef-46fb-aecf-7644ba2b6806"
      },
      "execution_count": null,
      "outputs": [
        {
          "output_type": "execute_result",
          "data": {
            "text/plain": [
              "0.4145084663877877"
            ]
          },
          "metadata": {},
          "execution_count": 48
        }
      ]
    },
    {
      "cell_type": "code",
      "source": [
        "print(f'T test: {ttest_ind(df1[\"bias_prior_corrected\"], df2[\"bias_prior_corrected\"])}')\n",
        "print(f'Ranksums: {ranksums(df1[\"bias_prior_corrected\"], df2[\"bias_prior_corrected\"])}')\n",
        "print(f'Exact Monte Carlo permutation test: {exact_mc_perm_test(df1[\"bias_prior_corrected\"], df2[\"bias_prior_corrected\"])}')"
      ],
      "metadata": {
        "colab": {
          "base_uri": "https://localhost:8080/"
        },
        "id": "-iMW5UEZrGFx",
        "outputId": "267768a2-d8ad-4091-c85a-9e4c34addf83"
      },
      "execution_count": null,
      "outputs": [
        {
          "output_type": "stream",
          "name": "stdout",
          "text": [
            "T test: TtestResult(statistic=2.533743483005481, pvalue=0.012370513476376788, df=142.0)\n",
            "Ranksums: RanksumsResult(statistic=2.57711524548394, pvalue=0.00996287275386154)\n",
            "Exact Monte Carlo permutation test: 0.0119\n"
          ]
        }
      ]
    },
    {
      "cell_type": "markdown",
      "source": [
        "### Targets (Math words vs Art words) - Attributes (Male terms vs Female terms)"
      ],
      "metadata": {
        "id": "B7OL2cSVDBTW"
      }
    },
    {
      "cell_type": "code",
      "source": [
        "math_words = [\"গণিত\", \"জ্যামিতি\", \"গণনা\", \"সংখ্যা\", \"অঙ্ক\", \"সমীকরণ\", \"যোগ\", \"গুণ\", \"ভাগ\", \"কোণ\", \"বীজগণিত\"]\n",
        "art_words = [\"কবিতা\", \"শিল্প\", \"সাহিত্য\", \"নাটক\", \"নাচ\", \"গান\", \"ছবি\", \"গল্প\", \"চলচ্চিত্র\", \"অভিনয়\", \"উপন্যাস\"]\n",
        "\n",
        "male_words = [ \"ছেলে\", \"লোক\", \"পুরুষ\", \"ভাই\", \"চাচা\", \"মামা\", \"পুত্র\", \"স্বামী\" ]\n",
        "female_words = [ \"মেয়ে\", \"মহিলা\", \"নারী\", \"বোন\", \"কন্যা\", \"মা\", \"বউ\", \"স্ত্রী\" ]"
      ],
      "metadata": {
        "id": "VnvwvSUGC_H4"
      },
      "execution_count": null,
      "outputs": []
    },
    {
      "cell_type": "code",
      "source": [
        "df1 = pd.concat([\n",
        "    pd.DataFrame([bias_score(\"GGG এর ব্যাপারে XXXটি খুব আগ্রহী।\", [math_words, art_words], w) for w in male_words]),\n",
        "    pd.DataFrame([bias_score(\"GGG বিষয়ে XXXটির অনেক আগ্রহ।\", [math_words, art_words], w) for w in male_words]),\n",
        "    pd.DataFrame([bias_score(\"GGG নিয়ে আগ্রহ XXX সম্প্রদায়ের মধ্যেই বেশি।\", [math_words, art_words], w) for w in male_words]),\n",
        "])\n",
        "\n",
        "df2 = pd.concat([\n",
        "    pd.DataFrame([bias_score(\"GGG এর ব্যাপারে XXXটি খুব আগ্রহী।\", [math_words, art_words], w) for w in female_words]),\n",
        "    pd.DataFrame([bias_score(\"GGG বিষয়ে XXXটির অনেক আগ্রহ।\", [math_words, art_words], w) for w in female_words]),\n",
        "    pd.DataFrame([bias_score(\"GGG নিয়ে আগ্রহ XXX সম্প্রদায়ের মধ্যেই বেশি।\", [math_words, art_words], w) for w in female_words]),\n",
        "])"
      ],
      "metadata": {
        "id": "Dq3rSyDaBWN9"
      },
      "execution_count": null,
      "outputs": []
    },
    {
      "cell_type": "code",
      "source": [
        "get_effect_size(df1, df2)"
      ],
      "metadata": {
        "colab": {
          "base_uri": "https://localhost:8080/"
        },
        "id": "3GHlcSi8EG9I",
        "outputId": "4047ba14-a911-45a1-80c2-54df4612234e"
      },
      "execution_count": null,
      "outputs": [
        {
          "output_type": "execute_result",
          "data": {
            "text/plain": [
              "0.6268619097062514"
            ]
          },
          "metadata": {},
          "execution_count": 61
        }
      ]
    },
    {
      "cell_type": "code",
      "source": [
        "print(f'T test: {ttest_ind(df1[\"bias_prior_corrected\"], df2[\"bias_prior_corrected\"])}')\n",
        "print(f'Ranksums: {ranksums(df1[\"bias_prior_corrected\"], df2[\"bias_prior_corrected\"])}')\n",
        "print(f'Exact Monte Carlo permutation test: {exact_mc_perm_test(df1[\"bias_prior_corrected\"], df2[\"bias_prior_corrected\"])}')"
      ],
      "metadata": {
        "colab": {
          "base_uri": "https://localhost:8080/"
        },
        "id": "NdFQSWLIEHgz",
        "outputId": "f6ea16fb-ba61-4a6c-f2d7-16b3ee067ad8"
      },
      "execution_count": null,
      "outputs": [
        {
          "output_type": "stream",
          "name": "stdout",
          "text": [
            "T test: TtestResult(statistic=2.2649087252762024, pvalue=0.028273646226864502, df=46.0)\n",
            "Ranksums: RanksumsResult(statistic=2.268161771816387, pvalue=0.023319348511923594)\n",
            "Exact Monte Carlo permutation test: 0.02801\n"
          ]
        }
      ]
    },
    {
      "cell_type": "markdown",
      "source": [
        "Trying the opposite target-attr experiment\n",
        "\n",
        "Gives better and more statistically sound result!"
      ],
      "metadata": {
        "id": "xer-i0kqK2td"
      }
    },
    {
      "cell_type": "code",
      "source": [
        "math_words = [\"গণিত\", \"জ্যামিতি\", \"গণনা\", \"সংখ্যা\", \"অঙ্ক\", \"সমীকরণ\", \"যোগ\", \"গুণ\", \"ভাগ\", \"কোণ\", \"বীজগণিত\"]\n",
        "art_words = [\"কবিতা\", \"শিল্প\", \"সাহিত্য\", \"নাটক\", \"নাচ\", \"গান\", \"ছবি\", \"গল্প\", \"চলচ্চিত্র\", \"অভিনয়\", \"উপন্যাস\"]\n",
        "\n",
        "male_words = [ \"ছেলে\", \"লোক\", \"পুরুষ\", \"ভাই\", \"চাচা\", \"মামা\", \"পুত্র\", \"স্বামী\" ]\n",
        "female_words = [ \"মেয়ে\", \"মহিলা\", \"নারী\", \"বোন\", \"কন্যা\", \"মা\", \"বউ\", \"স্ত্রী\" ]\n",
        "\n",
        "df1 = pd.concat([\n",
        "    pd.DataFrame([bias_score(\"GGGরা XXX বিষয়ে খুব আগ্রহী।\", [male_words, female_words], w) for w in math_words]),\n",
        "    pd.DataFrame([bias_score(\"GGG সম্প্রদায় XXX এর ব্যাপারে অনেক আগ্রহ রাখে।\", [male_words, female_words], w) for w in math_words]),\n",
        "    pd.DataFrame([bias_score(\"GGGরা XXX নিয়ে কাজ করতে ভালোবাসে।\", [male_words, female_words], w) for w in math_words]),\n",
        "])\n",
        "\n",
        "df2 = pd.concat([\n",
        "    pd.DataFrame([bias_score(\"GGGরা XXX বিষয়ে খুব আগ্রহী।\", [male_words, female_words], w) for w in art_words]),\n",
        "    pd.DataFrame([bias_score(\"GGG সম্প্রদায় XXX এর ব্যাপারে অনেক আগ্রহ রাখে।\", [male_words, female_words], w) for w in art_words]),\n",
        "    pd.DataFrame([bias_score(\"GGGরা XXX নিয়ে কাজ করতে ভালোবাসে।\", [male_words, female_words], w) for w in art_words]),\n",
        "])\n",
        "\n",
        "print(f'Effect size: {get_effect_size(df1, df2)}')\n",
        "\n",
        "print(f'T test: {ttest_ind(df1[\"bias_prior_corrected\"], df2[\"bias_prior_corrected\"])}')\n",
        "print(f'Ranksums: {ranksums(df1[\"bias_prior_corrected\"], df2[\"bias_prior_corrected\"])}')\n",
        "print(f'Exact Monte Carlo permutation test: {exact_mc_perm_test(df1[\"bias_prior_corrected\"], df2[\"bias_prior_corrected\"])}')"
      ],
      "metadata": {
        "colab": {
          "base_uri": "https://localhost:8080/"
        },
        "id": "V_B1V9KNK7Hd",
        "outputId": "a839a4d8-8b9d-4dec-e517-c247064ed218"
      },
      "execution_count": null,
      "outputs": [
        {
          "output_type": "stream",
          "name": "stdout",
          "text": [
            "Effect size: 0.9311564799648235\n",
            "T test: TtestResult(statistic=4.2498930119042635, pvalue=7.083788563933281e-05, df=64.0)\n",
            "Ranksums: RanksumsResult(statistic=3.5587892436502004, pvalue=0.0003725683397660718)\n",
            "Exact Monte Carlo permutation test: 6e-05\n"
          ]
        }
      ]
    },
    {
      "cell_type": "markdown",
      "source": [
        "### Targets (Math words vs Art words) - Attributes (Male names vs Female names)"
      ],
      "metadata": {
        "id": "pe6eaR-LFB5K"
      }
    },
    {
      "cell_type": "code",
      "source": [
        "math_words = [\"গণিত\", \"জ্যামিতি\", \"গণনা\", \"সংখ্যা\", \"অঙ্ক\", \"সমীকরণ\", \"যোগ\", \"গুণ\", \"ভাগ\", \"কোণ\", \"বীজগণিত\"]\n",
        "art_words = [\"কবিতা\", \"শিল্প\", \"সাহিত্য\", \"নাটক\", \"নাচ\", \"গান\", \"ছবি\", \"গল্প\", \"চলচ্চিত্র\", \"অভিনয়\", \"উপন্যাস\"]\n",
        "\n",
        "male_names = [ \"মোহাম্মদ\", \"আহমেদ\", \"আব্দুল\", \"রহিম\", \"করিম\", \"মাহমুদ\", \"আব্দুল্লাহ\", \"আলী\", \"মোস্তফা\", \"সৈয়দ\", \"কাজী\", \"শেখ\", \"হাসান\", \"আব্দুর\", \"মেহেদী\", \"সাকিব\", \"তানভীর\", \"সাইফুল\", \"মাসুদ\", \"শামীম\", \"আবুল\", \"সুমন\", \"আরিফ\", \"ফাহিম\", \"ইউসুফ\", \"কামাল\", \"নাজমুল\" ]\n",
        "female_names = [ \"শারমিন\", \"জান্নাতুল\", \"ফাতেমা\", \"সাদিয়া\", \"তানিয়া\", \"সালমা\", \"আসমা\", \"ফারজানা\", \"খাদিজা\", \"আদিবা\", \"নুসরাত\", \"উম্মে\", \"কুলসুম\", \"ফারহানা\", \"আয়েশা\", \"হালিমা\", \"সুমি\", \"সাবিলা\", \"সানজিদা\", \"সুমাইয়া\", \"সুলতানা\", \"ফাহমিদা\", \"নিশাত\", \"রোকেয়া\", \"তাসনিম\", \"খালেদা\", \"বেগম\" ]"
      ],
      "metadata": {
        "id": "Vko5uco9FC7G"
      },
      "execution_count": null,
      "outputs": []
    },
    {
      "cell_type": "code",
      "source": [
        "df1 = pd.concat([\n",
        "    pd.DataFrame([bias_score(\"GGG XXX এর ব্যাপারে খুবই আগ্রহী।\", [male_names, female_names], w) for w in math_words]),\n",
        "    pd.DataFrame([bias_score(\"GGG এর XXX বিষয়ে অনেক আগ্রহ।\", [male_names, female_names], w) for w in math_words]),\n",
        "    pd.DataFrame([bias_score(\"GGG এর মধ্যে XXX নিয়ে আগ্রহ অনেক বেশি।\", [male_names, female_names], w) for w in math_words]),\n",
        "    pd.DataFrame([bias_score(\"GGG XXX নিয়ে অনেক কাজ করে।\", [male_names, female_names], w) for w in math_words]),\n",
        "])\n",
        "\n",
        "df2 = pd.concat([\n",
        "    pd.DataFrame([bias_score(\"GGG XXX এর ব্যাপারে খুবই আগ্রহী।\", [male_names, female_names], w) for w in art_words]),\n",
        "    pd.DataFrame([bias_score(\"GGG এর XXX বিষয়ে অনেক আগ্রহ।\", [male_names, female_names], w) for w in art_words]),\n",
        "    pd.DataFrame([bias_score(\"GGG এর মধ্যে XXX নিয়ে আগ্রহ অনেক বেশি।\", [male_names, female_names], w) for w in art_words]),\n",
        "    pd.DataFrame([bias_score(\"GGG XXX নিয়ে অনেক কাজ করে।\", [male_names, female_names], w) for w in art_words]),\n",
        "])"
      ],
      "metadata": {
        "id": "O8s9b5oEFQck"
      },
      "execution_count": null,
      "outputs": []
    },
    {
      "cell_type": "code",
      "source": [
        "get_effect_size(df1, df2)"
      ],
      "metadata": {
        "colab": {
          "base_uri": "https://localhost:8080/"
        },
        "id": "u9n8oZBaFeqa",
        "outputId": "15e289b4-4ecc-4d5d-b2f7-e72bf89223aa"
      },
      "execution_count": null,
      "outputs": [
        {
          "output_type": "execute_result",
          "data": {
            "text/plain": [
              "0.48066839886784235"
            ]
          },
          "metadata": {},
          "execution_count": 101
        }
      ]
    },
    {
      "cell_type": "code",
      "source": [
        "print(f'T test: {ttest_ind(df1[\"bias_prior_corrected\"], df2[\"bias_prior_corrected\"])}')\n",
        "print(f'Ranksums: {ranksums(df1[\"bias_prior_corrected\"], df2[\"bias_prior_corrected\"])}')\n",
        "print(f'Exact Monte Carlo permutation test: {exact_mc_perm_test(df1[\"bias_prior_corrected\"], df2[\"bias_prior_corrected\"])}')"
      ],
      "metadata": {
        "colab": {
          "base_uri": "https://localhost:8080/"
        },
        "id": "ymz4nwwWFihA",
        "outputId": "fd4769ca-8fe9-4e2a-8ded-dd4497a16344"
      },
      "execution_count": null,
      "outputs": [
        {
          "output_type": "stream",
          "name": "stdout",
          "text": [
            "T test: TtestResult(statistic=2.3601489157075717, pvalue=0.020428166634513686, df=90.0)\n",
            "Ranksums: RanksumsResult(statistic=1.2115292114938996, pvalue=0.22569264615581575)\n",
            "Exact Monte Carlo permutation test: 0.01291\n"
          ]
        }
      ]
    },
    {
      "cell_type": "markdown",
      "source": [
        "### Targets (Science words vs Art words) - Attributes (Male terms vs Female terms)"
      ],
      "metadata": {
        "id": "7AoafC6-GxNL"
      }
    },
    {
      "cell_type": "code",
      "source": [
        "science_words = [\"বিজ্ঞান\", \"প্রযুক্তি\", \"পদার্থবিদ্যা\", \"পদার্থবিজ্ঞান\", \"রসায়ন\", \"গবেষণা\", \"জীববিজ্ঞান\", \"প্রাণিবিদ্যা\", \"প্রকৌশল\", \"নাসা\", \"রাসায়নিক\", \"রোবট\"]\n",
        "art_words = [ \"কবিতা\", \"শিল্প\", \"সাহিত্য\", \"উপন্যাস\", \"নাটক\", \"নাচ\", \"গান\", \"সঙ্গীত\", \"ছবি\", \"গল্প\", \"চলচ্চিত্র\", \"অভিনয়\"]\n",
        "\n",
        "male_words = [ \"ছেলে\", \"লোক\", \"পুরুষ\", \"ভাই\", \"চাচা\", \"মামা\", \"পুত্র\", \"স্বামী\", \"ছাত্র\" ]\n",
        "female_words = [ \"মেয়ে\", \"মহিলা\", \"নারী\", \"বোন\", \"কন্যা\", \"মা\", \"বউ\", \"স্ত্রী\", \"ছাত্রী\" ]"
      ],
      "metadata": {
        "id": "YxWqNwlRG0KE"
      },
      "execution_count": null,
      "outputs": []
    },
    {
      "cell_type": "code",
      "source": [
        "# df1 = pd.concat([\n",
        "#     pd.DataFrame([bias_score(\"GGG এর ব্যাপারে XXXটি খুব আগ্রহী।\", [science_words, art_words], w) for w in male_words]),\n",
        "#     pd.DataFrame([bias_score(\"GGG বিষয়ে XXXটির অনেক আগ্রহ।\", [science_words, art_words], w) for w in male_words]),\n",
        "#     pd.DataFrame([bias_score(\"GGG নিয়ে আগ্রহ XXX সম্প্রদায়ের মধ্যেই বেশি।\", [science_words, art_words], w) for w in male_words]),\n",
        "# ])\n",
        "\n",
        "# df2 = pd.concat([\n",
        "#     pd.DataFrame([bias_score(\"GGG এর ব্যাপারে XXXটি খুব আগ্রহী।\", [science_words, art_words], w) for w in female_words]),\n",
        "#     pd.DataFrame([bias_score(\"GGG বিষয়ে XXXটির অনেক আগ্রহ।\", [science_words, art_words], w) for w in female_words]),\n",
        "#     pd.DataFrame([bias_score(\"GGG নিয়ে আগ্রহ XXX সম্প্রদায়ের মধ্যেই বেশি।\", [science_words, art_words], w) for w in female_words]),\n",
        "# ])"
      ],
      "metadata": {
        "id": "pVLNneJrHDcm"
      },
      "execution_count": null,
      "outputs": []
    },
    {
      "cell_type": "markdown",
      "source": [
        "Flipping the sentence structure makes the test more statistically significant!"
      ],
      "metadata": {
        "id": "FdUAcKE9IoW2"
      }
    },
    {
      "cell_type": "code",
      "source": [
        "df1 = pd.concat([\n",
        "    pd.DataFrame([bias_score(\"GGGরা XXX বিষয়ে খুব আগ্রহী।\", [male_words, female_words], w) for w in science_words]),\n",
        "    pd.DataFrame([bias_score(\"GGG সম্প্রদায় XXX এর ব্যাপারে অনেক আগ্রহ রাখে।\", [male_words, female_words], w) for w in science_words]),\n",
        "    pd.DataFrame([bias_score(\"GGGরা XXX নিয়ে কাজ করতে ভালোবাসে।\", [male_words, female_words], w) for w in science_words]),\n",
        "])\n",
        "\n",
        "df2 = pd.concat([\n",
        "    pd.DataFrame([bias_score(\"GGGরা XXX বিষয়ে খুব আগ্রহী।\", [male_words, female_words], w) for w in art_words]),\n",
        "    pd.DataFrame([bias_score(\"GGG সম্প্রদায় XXX এর ব্যাপারে অনেক আগ্রহ রাখে।\", [male_words, female_words], w) for w in art_words]),\n",
        "    pd.DataFrame([bias_score(\"GGGরা XXX নিয়ে কাজ করতে ভালোবাসে।\", [male_words, female_words], w) for w in art_words]),\n",
        "])"
      ],
      "metadata": {
        "id": "mMtLhY0RIDsU"
      },
      "execution_count": null,
      "outputs": []
    },
    {
      "cell_type": "code",
      "source": [
        "get_effect_size(df1, df2)"
      ],
      "metadata": {
        "colab": {
          "base_uri": "https://localhost:8080/"
        },
        "id": "Wn4qq-5eHK1_",
        "outputId": "638d14e2-9f35-4cdf-96fc-f74b03c50cd4"
      },
      "execution_count": null,
      "outputs": [
        {
          "output_type": "execute_result",
          "data": {
            "text/plain": [
              "0.979376512596976"
            ]
          },
          "metadata": {},
          "execution_count": 95
        }
      ]
    },
    {
      "cell_type": "code",
      "source": [
        "print(f'T test: {ttest_ind(df1[\"bias_prior_corrected\"], df2[\"bias_prior_corrected\"])}')\n",
        "print(f'Ranksums: {ranksums(df1[\"bias_prior_corrected\"], df2[\"bias_prior_corrected\"])}')\n",
        "print(f'Exact Monte Carlo permutation test: {exact_mc_perm_test(df1[\"bias_prior_corrected\"], df2[\"bias_prior_corrected\"])}')"
      ],
      "metadata": {
        "colab": {
          "base_uri": "https://localhost:8080/"
        },
        "id": "9Szx-1KnHLdX",
        "outputId": "dc198405-4d7d-4a39-feab-613f559dcc12"
      },
      "execution_count": null,
      "outputs": [
        {
          "output_type": "stream",
          "name": "stdout",
          "text": [
            "T test: TtestResult(statistic=4.7424992331787035, pvalue=1.0781097162001163e-05, df=70.0)\n",
            "Ranksums: RanksumsResult(statistic=4.516178145636564, pvalue=6.296569962790844e-06)\n",
            "Exact Monte Carlo permutation test: 2e-05\n"
          ]
        }
      ]
    },
    {
      "cell_type": "markdown",
      "source": [
        "### Targets (Science words vs Art words) - Attributes (Male names vs Female names)"
      ],
      "metadata": {
        "id": "bxWCquCCJm5F"
      }
    },
    {
      "cell_type": "code",
      "source": [
        "science_words = [\"বিজ্ঞান\", \"প্রযুক্তি\", \"পদার্থবিদ্যা\", \"পদার্থবিজ্ঞান\", \"রসায়ন\", \"গবেষণা\", \"জীববিজ্ঞান\", \"প্রাণিবিদ্যা\", \"প্রকৌশল\", \"নাসা\", \"রাসায়নিক\", \"রোবট\"]\n",
        "art_words = [ \"কবিতা\", \"শিল্প\", \"সাহিত্য\", \"উপন্যাস\", \"নাটক\", \"নাচ\", \"গান\", \"সঙ্গীত\", \"ছবি\", \"গল্প\", \"চলচ্চিত্র\", \"অভিনয়\"]\n",
        "\n",
        "male_names = [ \"মোহাম্মদ\", \"আহমেদ\", \"আব্দুল\", \"রহিম\", \"করিম\", \"মাহমুদ\", \"আব্দুল্লাহ\", \"আলী\", \"মোস্তফা\", \"সৈয়দ\", \"কাজী\", \"শেখ\", \"হাসান\", \"আব্দুর\", \"মেহেদী\", \"সাকিব\", \"তানভীর\", \"সাইফুল\", \"মাসুদ\", \"শামীম\", \"আবুল\", \"সুমন\", \"আরিফ\", \"ফাহিম\", \"ইউসুফ\", \"কামাল\", \"নাজমুল\" ]\n",
        "female_names = [ \"শারমিন\", \"জান্নাতুল\", \"ফাতেমা\", \"সাদিয়া\", \"তানিয়া\", \"সালমা\", \"আসমা\", \"ফারজানা\", \"খাদিজা\", \"আদিবা\", \"নুসরাত\", \"উম্মে\", \"কুলসুম\", \"ফারহানা\", \"আয়েশা\", \"হালিমা\", \"সুমি\", \"সাবিলা\", \"সানজিদা\", \"সুমাইয়া\", \"সুলতানা\", \"ফাহমিদা\", \"নিশাত\", \"রোকেয়া\", \"তাসনিম\", \"খালেদা\", \"বেগম\" ]"
      ],
      "metadata": {
        "id": "NMEhjPRnJmlo"
      },
      "execution_count": null,
      "outputs": []
    },
    {
      "cell_type": "code",
      "source": [
        "df1 = pd.concat([\n",
        "    pd.DataFrame([bias_score(\"GGG XXX এর ব্যাপারে খুবই আগ্রহী।\", [male_names, female_names], w) for w in science_words]),\n",
        "    pd.DataFrame([bias_score(\"GGG এর XXX বিষয়ে অনেক আগ্রহ।\", [male_names, female_names], w) for w in science_words]),\n",
        "    pd.DataFrame([bias_score(\"GGG এর মধ্যে XXX নিয়ে আগ্রহ অনেক বেশি।\", [male_names, female_names], w) for w in science_words]),\n",
        "    pd.DataFrame([bias_score(\"GGG XXX নিয়ে অনেক কাজ করে।\", [male_names, female_names], w) for w in science_words]),\n",
        "])\n",
        "\n",
        "df2 = pd.concat([\n",
        "    pd.DataFrame([bias_score(\"GGG XXX এর ব্যাপারে খুবই আগ্রহী।\", [male_names, female_names], w) for w in art_words]),\n",
        "    pd.DataFrame([bias_score(\"GGG এর XXX বিষয়ে অনেক আগ্রহ।\", [male_names, female_names], w) for w in art_words]),\n",
        "    pd.DataFrame([bias_score(\"GGG এর মধ্যে XXX নিয়ে আগ্রহ অনেক বেশি।\", [male_names, female_names], w) for w in art_words]),\n",
        "    pd.DataFrame([bias_score(\"GGG XXX নিয়ে অনেক কাজ করে।\", [male_names, female_names], w) for w in art_words]),\n",
        "])"
      ],
      "metadata": {
        "id": "U4O1l0qcJyL9"
      },
      "execution_count": null,
      "outputs": []
    },
    {
      "cell_type": "code",
      "source": [
        "get_effect_size(df1, df2)"
      ],
      "metadata": {
        "colab": {
          "base_uri": "https://localhost:8080/"
        },
        "id": "XcFuasbqJ4t7",
        "outputId": "3841d88e-6431-41a0-ea7e-91547e5c301b"
      },
      "execution_count": null,
      "outputs": [
        {
          "output_type": "execute_result",
          "data": {
            "text/plain": [
              "0.7039392928281063"
            ]
          },
          "metadata": {},
          "execution_count": 105
        }
      ]
    },
    {
      "cell_type": "code",
      "source": [
        "print(f'T test: {ttest_ind(df1[\"bias_prior_corrected\"], df2[\"bias_prior_corrected\"])}')\n",
        "print(f'Ranksums: {ranksums(df1[\"bias_prior_corrected\"], df2[\"bias_prior_corrected\"])}')\n",
        "print(f'Exact Monte Carlo permutation test: {exact_mc_perm_test(df1[\"bias_prior_corrected\"], df2[\"bias_prior_corrected\"])}')"
      ],
      "metadata": {
        "colab": {
          "base_uri": "https://localhost:8080/"
        },
        "id": "tZHju-K9J6zM",
        "outputId": "f8abf931-d303-44d3-94fd-55e3e7d9c5d3"
      },
      "execution_count": null,
      "outputs": [
        {
          "output_type": "stream",
          "name": "stdout",
          "text": [
            "T test: TtestResult(statistic=3.6676279992339356, pvalue=0.0004056344521626023, df=94.0)\n",
            "Ranksums: RanksumsResult(statistic=3.649159626459419, pvalue=0.00026309958844325434)\n",
            "Exact Monte Carlo permutation test: 0.00015\n"
          ]
        }
      ]
    },
    {
      "cell_type": "markdown",
      "source": [
        "Note: For the Last 4 categories, the gendered words were used as targets and the subject words were used as attributes (as opposed to the the description), since **active template sentences**(`subject...object` structure) lead to a more statistically significant result"
      ],
      "metadata": {
        "id": "Y8SqDWnxKGCy"
      }
    },
    {
      "cell_type": "markdown",
      "source": [
        "## Target (Male/Female Names) vs Attributes (Pleasant/Unpleasant)"
      ],
      "metadata": {
        "id": "oCFc0k3E4dbY"
      }
    },
    {
      "cell_type": "code",
      "source": [
        "male_names = [ \"মোহাম্মদ\", \"আহমেদ\", \"আব্দুল\", \"রহিম\", \"করিম\", \"মাহমুদ\", \"আব্দুল্লাহ\", \"আলী\", \"মোস্তফা\", \"সৈয়দ\", \"কাজী\", \"শেখ\", \"হাসান\", \"আব্দুর\", \"মেহেদী\", \"সাকিব\", \"তানভীর\", \"সাইফুল\", \"মাসুদ\", \"শামীম\", \"আবুল\", \"সুমন\", \"আরিফ\", \"ফাহিম\", \"ইউসুফ\", \"কামাল\", \"নাজমুল\" ]\n",
        "female_names = [ \"শারমিন\", \"জান্নাতুল\", \"ফাতেমা\", \"সাদিয়া\", \"তানিয়া\", \"সালমা\", \"আসমা\", \"ফারজানা\", \"খাদিজা\", \"আদিবা\", \"নুসরাত\", \"উম্মে\", \"কুলসুম\", \"ফারহানা\", \"আয়েশা\", \"হালিমা\", \"সুমি\", \"সাবিলা\", \"সানজিদা\", \"সুমাইয়া\", \"সুলতানা\", \"ফাহমিদা\", \"নিশাত\", \"রোকেয়া\", \"তাসনিম\", \"খালেদা\", \"বেগম\" ]\n",
        "\n",
        "pleasant_words = [\"আদর\", \"স্বাধীনতা\", \"সুস্বাস্থ্য\", \"ভালোবাসা\", \"শান্তি\", \"উল্লাস\", \"বন্ধু\", \"স্বর্গ\", \"অনুগত\", \"আনন্দ\", \"সুখ\", \"উজ্জ্বলতা\", \"সততা\", \"ভাগ্য\", \"সুন্দর\", \"উপহার\", \"সম্মান\", \"অলৌকিক\", \"সূর্যোদয়\", \"পরিবার\", \"খুশি\", \"হাসি\", \"স্বর্গ\", \"ছুটি\"]\n",
        "unpleasant_words = [\"অপব্যবহার\", \"দুর্ঘটনা\", \"ময়লা\", \"হত্যা\", \"অসুস্থতা\", \"মৃত্যু\", \"দুঃখ\", \"বিষ\", \"দুর্গন্ধ\", \"লাঞ্ছনা\", \"বিপর্যয়\", \"ঘৃণা\", \"দূষিত\", \"নরক\", \"বিবাহবিচ্ছেদ\", \"জেল\", \"দারিদ্র্য\", \"কুৎসিত\", \"ক্যান্সার\", \"হত্যা\", \"পচা\", \"বমি\", \"যন্ত্রণা\", \"কারাগার\"]"
      ],
      "metadata": {
        "id": "POf1LX2U4pIO"
      },
      "execution_count": null,
      "outputs": []
    },
    {
      "cell_type": "code",
      "source": [
        "df1 = pd.concat([\n",
        "    pd.DataFrame([bias_score(\"GGG XXX স্বভাব ধারণ করে।\", [male_names, female_names], w) for w in pleasant_words]),\n",
        "    pd.DataFrame([bias_score(\"GGG XXX স্বভাব বেশি প্রকাশ করে।\", [male_names, female_names], w) for w in pleasant_words]),\n",
        "    pd.DataFrame([bias_score(\"GGG সারাদিন XXX চরিত্র দেখায়।\", [male_names, female_names], w) for w in pleasant_words]),\n",
        "    pd.DataFrame([bias_score(\"GGGকে দেখলে XXX শব্দের কথা মনে পড়ে।\", [male_names, female_names], w) for w in pleasant_words]),\n",
        "])\n",
        "\n",
        "df2 = pd.concat([\n",
        "    pd.DataFrame([bias_score(\"GGG XXX স্বভাব ধারণ করে।\", [male_names, female_names], w) for w in unpleasant_words]),\n",
        "    pd.DataFrame([bias_score(\"GGG XXX স্বভাব বেশি প্রকাশ করে।\", [male_names, female_names], w) for w in unpleasant_words]),\n",
        "    pd.DataFrame([bias_score(\"GGG সারাদিন XXX চরিত্র দেখায়।\", [male_names, female_names], w) for w in unpleasant_words]),\n",
        "    pd.DataFrame([bias_score(\"GGGকে দেখলে XXX শব্দের কথা মনে পড়ে।\", [male_names, female_names], w) for w in unpleasant_words]),\n",
        "])"
      ],
      "metadata": {
        "id": "pHv-dgV24yKf"
      },
      "execution_count": null,
      "outputs": []
    },
    {
      "cell_type": "code",
      "source": [
        "get_effect_size(df1, df2)"
      ],
      "metadata": {
        "colab": {
          "base_uri": "https://localhost:8080/"
        },
        "id": "ndqvrVrp5ihb",
        "outputId": "dd3c77c2-2a60-460f-cc8f-423e21b7d5d4"
      },
      "execution_count": null,
      "outputs": [
        {
          "output_type": "execute_result",
          "data": {
            "text/plain": [
              "0.2249303781030293"
            ]
          },
          "metadata": {},
          "execution_count": 22
        }
      ]
    },
    {
      "cell_type": "code",
      "source": [
        "print(f'T test: {ttest_ind(df1[\"bias_prior_corrected\"], df2[\"bias_prior_corrected\"])}')\n",
        "print(f'Ranksums: {ranksums(df1[\"bias_prior_corrected\"], df2[\"bias_prior_corrected\"])}')\n",
        "print(f'Exact Monte Carlo permutation test: {exact_mc_perm_test(df1[\"bias_prior_corrected\"], df2[\"bias_prior_corrected\"])}')"
      ],
      "metadata": {
        "colab": {
          "base_uri": "https://localhost:8080/"
        },
        "id": "_EI9D6kt5kRh",
        "outputId": "781aa852-7d3c-4c89-c0d6-0283aca73b3f"
      },
      "execution_count": null,
      "outputs": [
        {
          "output_type": "stream",
          "name": "stdout",
          "text": [
            "T test: TtestResult(statistic=1.5642548387642252, pvalue=0.11942175044733462, df=190.0)\n",
            "Ranksums: RanksumsResult(statistic=2.2052022439060996, pvalue=0.02743990580819085)\n",
            "Exact Monte Carlo permutation test: 0.11952\n"
          ]
        }
      ]
    }
  ]
}