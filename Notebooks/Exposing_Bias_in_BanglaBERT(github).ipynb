{
  "cells": [
    {
      "cell_type": "code",
      "execution_count": 1,
      "metadata": {
        "id": "iye-ARSMtmzP"
      },
      "outputs": [],
      "source": [
        "%matplotlib inline"
      ]
    },
    {
      "cell_type": "code",
      "source": [
        "! git clone https://github.com/Jayanta47/BanglaBertBiasDetection.git\n",
        "%cd BanglaBertBiasDetection\n",
        "! ./installation.sh"
      ],
      "metadata": {
        "colab": {
          "base_uri": "https://localhost:8080/"
        },
        "id": "ejYaPrz3hhL5",
        "outputId": "e87f9e9f-63c4-4302-fc4e-3e4b9d5853d7"
      },
      "execution_count": 73,
      "outputs": [
        {
          "output_type": "stream",
          "name": "stdout",
          "text": [
            "Cloning into 'BanglaBertBiasDetection'...\n",
            "remote: Enumerating objects: 55, done.\u001b[K\n",
            "remote: Counting objects: 100% (55/55), done.\u001b[K\n",
            "remote: Compressing objects: 100% (40/40), done.\u001b[K\n",
            "remote: Total 55 (delta 18), reused 43 (delta 9), pack-reused 0\u001b[K\n",
            "Unpacking objects: 100% (55/55), 169.75 KiB | 3.69 MiB/s, done.\n"
          ]
        }
      ]
    },
    {
      "cell_type": "code",
      "source": [
        "!if [ ! -d ./results ] then mkdir ./results fi\n",
        "!python ./bias_score.py"
      ],
      "metadata": {
        "colab": {
          "base_uri": "https://localhost:8080/"
        },
        "id": "md35iqEHj3Wf",
        "outputId": "73236f78-fbd2-48e0-c4f3-09291846cb2a"
      },
      "execution_count": 74,
      "outputs": [
        {
          "output_type": "stream",
          "name": "stdout",
          "text": [
            "/content/BanglaBertBiasDetection\n"
          ]
        }
      ]
    },
    {
      "cell_type": "code",
      "source": [
        "!zip -r results.zip ./results/*"
      ],
      "metadata": {
        "colab": {
          "base_uri": "https://localhost:8080/"
        },
        "id": "oFUrXS8S_kh-",
        "outputId": "f4fe17c4-3c70-4986-bf2e-67f228544f87"
      },
      "execution_count": 79,
      "outputs": [
        {
          "output_type": "stream",
          "name": "stdout",
          "text": [
            "updating: results/positive_traits_bn_scores.csv (deflated 57%)\n",
            "updating: results/positive_traits.png (deflated 13%)\n",
            "updating: results/Avgerage For All Traits.png (deflated 10%)\n",
            "updating: results/negative_traits_bn_scores.csv (deflated 56%)\n",
            "updating: results/in_demand_tech_skills_bn_scores.csv (deflated 50%)\n",
            "updating: results/negative_traits.png (deflated 14%)\n",
            "updating: results/in_demand_tech_skills.png (deflated 13%)\n"
          ]
        }
      ]
    },
    {
      "cell_type": "code",
      "source": [
        "from google.colab import files\n",
        "files.download('./results.zip')"
      ],
      "metadata": {
        "colab": {
          "base_uri": "https://localhost:8080/",
          "height": 17
        },
        "id": "Sr338HmA_4Su",
        "outputId": "18f49f3f-090b-49bb-fce5-3674608fc726"
      },
      "execution_count": 80,
      "outputs": [
        {
          "output_type": "display_data",
          "data": {
            "text/plain": [
              "<IPython.core.display.Javascript object>"
            ],
            "application/javascript": [
              "\n",
              "    async function download(id, filename, size) {\n",
              "      if (!google.colab.kernel.accessAllowed) {\n",
              "        return;\n",
              "      }\n",
              "      const div = document.createElement('div');\n",
              "      const label = document.createElement('label');\n",
              "      label.textContent = `Downloading \"${filename}\": `;\n",
              "      div.appendChild(label);\n",
              "      const progress = document.createElement('progress');\n",
              "      progress.max = size;\n",
              "      div.appendChild(progress);\n",
              "      document.body.appendChild(div);\n",
              "\n",
              "      const buffers = [];\n",
              "      let downloaded = 0;\n",
              "\n",
              "      const channel = await google.colab.kernel.comms.open(id);\n",
              "      // Send a message to notify the kernel that we're ready.\n",
              "      channel.send({})\n",
              "\n",
              "      for await (const message of channel.messages) {\n",
              "        // Send a message to notify the kernel that we're ready.\n",
              "        channel.send({})\n",
              "        if (message.buffers) {\n",
              "          for (const buffer of message.buffers) {\n",
              "            buffers.push(buffer);\n",
              "            downloaded += buffer.byteLength;\n",
              "            progress.value = downloaded;\n",
              "          }\n",
              "        }\n",
              "      }\n",
              "      const blob = new Blob(buffers, {type: 'application/binary'});\n",
              "      const a = document.createElement('a');\n",
              "      a.href = window.URL.createObjectURL(blob);\n",
              "      a.download = filename;\n",
              "      div.appendChild(a);\n",
              "      a.click();\n",
              "      div.remove();\n",
              "    }\n",
              "  "
            ]
          },
          "metadata": {}
        },
        {
          "output_type": "display_data",
          "data": {
            "text/plain": [
              "<IPython.core.display.Javascript object>"
            ],
            "application/javascript": [
              "download(\"download_4940411c-9e86-451a-b64e-124ffb4f6b80\", \"results.zip\", 286978)"
            ]
          },
          "metadata": {}
        }
      ]
    },
    {
      "cell_type": "code",
      "source": [
        "# %cd ../\n",
        "# ! rm -rf ./BanglaBertBiasDetection"
      ],
      "metadata": {
        "colab": {
          "base_uri": "https://localhost:8080/"
        },
        "id": "h2gqMPy5lFNc",
        "outputId": "31fa5837-1fa4-44a3-c5db-609397ddaf12"
      },
      "execution_count": 72,
      "outputs": [
        {
          "output_type": "stream",
          "name": "stdout",
          "text": [
            "/content\n"
          ]
        }
      ]
    },
    {
      "cell_type": "code",
      "source": [
        "# !rm -rf ./results/*"
      ],
      "metadata": {
        "id": "5QWpsziBw4wq"
      },
      "execution_count": 71,
      "outputs": []
    },
    {
      "cell_type": "code",
      "source": [
        "# data = {\n",
        "#     \"title\": \"Practise Graph\",\n",
        "#     \"data\": [\n",
        "#         {\n",
        "#             \"subTitle\": \"Graph 1\",\n",
        "#             \"labels\": [\"male\", \"female\"],\n",
        "#             \"values\": [45, 55],\n",
        "#             \"norm_values\": [25, 75]\n",
        "#         },\n",
        "#         {\n",
        "#             \"subTitle\": \"Graph 2\",\n",
        "#             \"labels\": [\"male\", \"female\"],\n",
        "#             \"values\": [35, 65],\n",
        "#             \"norm_values\": [25, 75]\n",
        "#         }\n",
        "#     ]\n",
        "# }"
      ],
      "metadata": {
        "id": "8rOYkCh9nM5p"
      },
      "execution_count": 31,
      "outputs": []
    }
  ],
  "metadata": {
    "colab": {
      "provenance": []
    },
    "kernelspec": {
      "display_name": "Python 3",
      "name": "python3"
    },
    "language_info": {
      "name": "python"
    }
  },
  "nbformat": 4,
  "nbformat_minor": 0
}