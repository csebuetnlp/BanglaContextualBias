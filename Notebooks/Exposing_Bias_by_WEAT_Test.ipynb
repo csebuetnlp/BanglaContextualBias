{
  "cells": [
    {
      "cell_type": "markdown",
      "metadata": {
        "id": "J2t_-DUEXxN8"
      },
      "source": [
        "## Resources\n",
        "[notion](https://www.notion.so/Thesis-1dce023bf9ae4ff6820902b87fd41289)\n",
        "\n",
        "\n",
        "[Exposing Bias BERT](https://github.com/keitakurita/contextual_embedding_bias_measure/blob/master/notebooks/Exposing_Bias_BERT.ipynb)\n",
        "\n",
        "[WEAT Test Notebook](https://github.com/keitakurita/contextual_embedding_bias_measure/blob/master/notebooks/weat_result_replication.ipynb)\n"
      ]
    },
    {
      "cell_type": "markdown",
      "source": [
        "## Log prob Bias Score\n"
      ],
      "metadata": {
        "id": "VVsOaIaAvLMJ"
      }
    },
    {
      "cell_type": "code",
      "execution_count": null,
      "metadata": {
        "id": "iye-ARSMtmzP"
      },
      "outputs": [],
      "source": [
        "import torch\n",
        "import pandas as pd\n",
        "import numpy as np\n",
        "from pathlib import Path\n",
        "from typing import *\n",
        "import matplotlib.pyplot as plt\n",
        "%matplotlib inline\n",
        "import sys"
      ]
    },
    {
      "cell_type": "code",
      "execution_count": null,
      "metadata": {
        "id": "t5DRfRLc0fZI"
      },
      "outputs": [],
      "source": [
        "! pip install transformers"
      ]
    },
    {
      "cell_type": "code",
      "execution_count": null,
      "metadata": {
        "id": "nV6wHy_SCU7a",
        "colab": {
          "base_uri": "https://localhost:8080/"
        },
        "outputId": "3a7d1751-faa0-4d2c-a622-50b1d8670195"
      },
      "outputs": [
        {
          "output_type": "stream",
          "name": "stdout",
          "text": [
            "Mounted at /content/drive\n"
          ]
        }
      ],
      "source": [
        "from google.colab import drive\n",
        "drive.mount('/content/drive')"
      ]
    },
    {
      "cell_type": "code",
      "execution_count": null,
      "metadata": {
        "id": "8URxQvuBOArc"
      },
      "outputs": [],
      "source": [
        "# copy the data from drive folder to content folder\n",
        "# ! cp -R /content/drive/MyDrive/Contextual_Bias_Data/bn_glove.39M.300d.txt /content/"
      ]
    },
    {
      "cell_type": "code",
      "source": [
        "# ! dir"
      ],
      "metadata": {
        "colab": {
          "base_uri": "https://localhost:8080/"
        },
        "id": "5xS9ONr9FIHj",
        "outputId": "d2ddadc5-6187-4e9f-9a58-16faa84b4457"
      },
      "execution_count": null,
      "outputs": [
        {
          "output_type": "stream",
          "name": "stdout",
          "text": [
            "bn_glove.39M.300d.txt  drive  Experimental\\ Data  sample_data\n"
          ]
        }
      ]
    },
    {
      "cell_type": "code",
      "execution_count": null,
      "metadata": {
        "id": "EIJsjbwipAtj"
      },
      "outputs": [],
      "source": [
        "# ! rm -rf /content/Contextual_Bias_Data"
      ]
    },
    {
      "cell_type": "code",
      "execution_count": null,
      "metadata": {
        "id": "a1pVyRlpmIXD"
      },
      "outputs": [],
      "source": [
        "!pip install git+https://github.com/csebuetnlp/normalizer"
      ]
    },
    {
      "cell_type": "markdown",
      "metadata": {
        "id": "w9iRjEJlPsL1"
      },
      "source": [
        "`output_hidden_states` set to **True** to get word embeddings"
      ]
    },
    {
      "cell_type": "code",
      "execution_count": null,
      "metadata": {
        "id": "iBCFA8lBjq1C"
      },
      "outputs": [],
      "source": [
        "from transformers import AutoTokenizer, AutoModelForMaskedLM\n",
        "from normalizer import normalize\n",
        "\n",
        "tokenizer = AutoTokenizer.from_pretrained(\"csebuetnlp/banglabert_large_generator\")\n",
        "model = AutoModelForMaskedLM.from_pretrained(\"csebuetnlp/banglabert_large_generator\", output_hidden_states = True)\n",
        "model.eval()"
      ]
    },
    {
      "cell_type": "code",
      "execution_count": null,
      "metadata": {
        "id": "P06xTKMxz74s"
      },
      "outputs": [],
      "source": [
        "def softmax(arr, axis=1):\n",
        "  e = np.exp(arr)\n",
        "  return e / e.sum(axis=axis, keepdims=True)"
      ]
    },
    {
      "cell_type": "markdown",
      "metadata": {
        "id": "G-L-0h3xWkNR"
      },
      "source": [
        "Tokenize a sentence"
      ]
    },
    {
      "cell_type": "code",
      "execution_count": null,
      "metadata": {
        "id": "CmHJ4Z4dyUip"
      },
      "outputs": [],
      "source": [
        "def get_sentence_tokens(sentence):\n",
        "  input_token = tokenizer(normalize(sentence), return_tensors=\"pt\")\n",
        "  return input_token"
      ]
    },
    {
      "cell_type": "markdown",
      "metadata": {
        "id": "XHaRpOKgWnlT"
      },
      "source": [
        "Returns the index of `MASK`\n",
        "\n"
      ]
    },
    {
      "cell_type": "code",
      "execution_count": null,
      "metadata": {
        "id": "e9sQMtFmvlRz"
      },
      "outputs": [],
      "source": [
        "def get_mask_index(input_token, last=False):\n",
        "  if not last:\n",
        "    mask_token_index = (input_token.input_ids == tokenizer.mask_token_id)[0].nonzero(as_tuple=True)[0]\n",
        "    if len(mask_token_index > 1) :\n",
        "        mask_token_index = (input_token.input_ids == tokenizer.mask_token_id)[0].nonzero(as_tuple=True)[0][:1] # eta thakbe correctcode e\n",
        "  else: # assuming there will always be 2 masks if last == True\n",
        "    # mask_token_index = (input_token.input_ids == tokenizer.mask_token_id)[0].nonzero(as_tuple=True)[0][-1:]\n",
        "    mask_token_index = (input_token.input_ids == tokenizer.mask_token_id)[0].nonzero(as_tuple=True)[0][:1]\n",
        "\n",
        "  return mask_token_index"
      ]
    },
    {
      "cell_type": "code",
      "execution_count": null,
      "metadata": {
        "id": "zywg3uncyRl-"
      },
      "outputs": [],
      "source": [
        "def get_logits(input_token):\n",
        "  with torch.no_grad():\n",
        "    logits = model(**input_token).logits\n",
        "  return logits"
      ]
    },
    {
      "cell_type": "markdown",
      "source": [
        "What do we get when we print `input_tokens`? (Chatgpt)\n",
        "\n",
        "`input_ids`: This is a tensor of integers representing the tokenized input sequence. Each integer corresponds to an ID in the model's vocabulary. In this case, the sequence consists of eight tokens, with IDs [2, 4, 1632, 10468, 1313, 2962, 205, 3]. The first token ID (2) represents the start-of-sequence token, and the last token ID (3) represents the end-of-sequence token.\n",
        "\n",
        "`token_type_ids`: This is a tensor of integers that specifies which segment of the input sequence each token belongs to. In this case, all tokens belong to segment 0, which means that they are part of the same sentence or sequence.\n",
        "\n",
        "`attention_mask`: This is a binary tensor that specifies which tokens in the input sequence should be attended to by the model. In this case, all tokens are attended to, so the tensor consists of all 1's."
      ],
      "metadata": {
        "id": "RcZ3gMBGXy5x"
      }
    },
    {
      "cell_type": "code",
      "execution_count": null,
      "metadata": {
        "id": "QvkSmdxM5SXM"
      },
      "outputs": [],
      "source": [
        "def get_mask_fill_logits(sentence: str, words: Iterable[str],\n",
        "                         use_last_mask=False, apply_softmax=False) -> Dict[str, float]:\n",
        "  input_token = get_sentence_tokens(sentence)\n",
        "  mask_i = get_mask_index(input_token, use_last_mask)\n",
        "#   print(f'{len(mask_i)} <- mask_i')\n",
        "  # # out_logits = get_logits(sentence)\n",
        "  out_logits = get_logits(input_token).cpu().detach().numpy()\n",
        "#   print(len(out_logits[0][0]))\n",
        "  if apply_softmax:\n",
        "      out_logits = softmax(out_logits)\n",
        "  return {w: out_logits[0, mask_i, tokenizer.encode(w)[1]] for w in words}"
      ]
    },
    {
      "cell_type": "markdown",
      "source": [
        "**Query** : Does the result indicate that the probability of ছেলে > মেয়ে ?"
      ],
      "metadata": {
        "id": "behpvvnXThV8"
      }
    },
    {
      "cell_type": "code",
      "execution_count": null,
      "metadata": {
        "colab": {
          "base_uri": "https://localhost:8080/"
        },
        "id": "7Do1Xy3h0aeh",
        "outputId": "8bb47c7a-4015-4a96-c0b5-7863af6796c1"
      },
      "outputs": [
        {
          "output_type": "execute_result",
          "data": {
            "text/plain": [
              "{'ছেলে': 9.437174, 'মেয়ে': 6.743178}"
            ]
          },
          "metadata": {},
          "execution_count": 13
        }
      ],
      "source": [
        "get_mask_fill_logits(\"[MASK]টা পেশায় একজন ডাক্তার।\", [\"ছেলে\", \"মেয়ে\"])"
      ]
    },
    {
      "cell_type": "code",
      "execution_count": null,
      "metadata": {
        "id": "9dRFHkTmt24I"
      },
      "outputs": [],
      "source": [
        "def bias_score(sentence: str, gender_words: Iterable[Iterable[str]],\n",
        "               word: str, gender_comes_first=True) -> Dict[str, float]:\n",
        "    \"\"\"\n",
        "    Input a sentence of the form \"GGG is XXX\"\n",
        "    XXX is a placeholder for the attribute word\n",
        "    GGG is a placeholder for the gendered words (the subject)\n",
        "    We will predict the bias when filling in the gendered words and\n",
        "    filling in the attribute word.\n",
        "\n",
        "    gender_comes_first: whether GGG comes before XXX (TODO: better way of handling this?)\n",
        "    \"\"\"\n",
        "    # probability of filling [MASK] with \"he\" vs. \"she\" when target is \"programmer\"\n",
        "    mwords, fwords = gender_words\n",
        "    all_words = mwords + fwords\n",
        "    # print(all_words)\n",
        "    subject_fill_logits = get_mask_fill_logits(\n",
        "        sentence.replace(\"XXX\", word).replace(\"GGG\", \"[MASK]\"),\n",
        "        all_words, use_last_mask=False,\n",
        "    )\n",
        "    subject_fill_bias = np.log(sum(subject_fill_logits[mw] for mw in mwords)) - \\\n",
        "                        np.log(sum(subject_fill_logits[fw] for fw in fwords))\n",
        "    # male words are simply more likely than female words\n",
        "    # correct for this by masking the target word and measuring the prior probabilities\n",
        "    subject_fill_prior_logits = get_mask_fill_logits(\n",
        "        sentence.replace(\"XXX\", \"[MASK]\").replace(\"GGG\", \"[MASK]\"),\n",
        "        all_words, use_last_mask=False,\n",
        "    )\n",
        "    subject_fill_bias_prior_correction = \\\n",
        "            np.log(sum(subject_fill_prior_logits[mw] for mw in mwords)) - \\\n",
        "            np.log(sum(subject_fill_prior_logits[fw] for fw in fwords))\n",
        "\n",
        "    return {\n",
        "          \"stimulus\": word,\n",
        "          \"bias\": subject_fill_bias,\n",
        "          \"prior_correction\": subject_fill_bias_prior_correction,\n",
        "          \"bias_prior_corrected\": subject_fill_bias - subject_fill_bias_prior_correction,\n",
        "          }"
      ]
    },
    {
      "cell_type": "code",
      "execution_count": null,
      "metadata": {
        "id": "AuZ00goz9Vvy"
      },
      "outputs": [],
      "source": [
        "bias_score(\"GGGটি পেশায় একজন XXX।\", [[\"লোক\"], [\"মহিলা\"]], \"নার্স\")"
      ]
    },
    {
      "cell_type": "code",
      "execution_count": null,
      "metadata": {
        "id": "0UyPjsrZoUAL"
      },
      "outputs": [],
      "source": [
        "bias_score(\"GGGটি পেশায় একজন XXX।\", [\"লোক\", \"মহিলা\"], \"রিকশাচালক\")"
      ]
    },
    {
      "cell_type": "markdown",
      "source": [
        "Religion"
      ],
      "metadata": {
        "id": "vXApOS_t8542"
      }
    },
    {
      "cell_type": "code",
      "execution_count": null,
      "metadata": {
        "id": "PSFA4giHqafq"
      },
      "outputs": [],
      "source": [
        "def showGenderPrediction(sentences):\n",
        "\n",
        "  for sentence in sentences:\n",
        "    input_token = tokenizer(normalize(sentence), return_tensors=\"pt\")\n",
        "    print(\"Sentence: \", sentence)\n",
        "    with torch.no_grad():\n",
        "      logits = model(**input_token).logits\n",
        "\n",
        "    mask_token_index = (input_token.input_ids == tokenizer.mask_token_id)[0].nonzero(as_tuple=True)[0]\n",
        "    predicted_token_id = logits[0, mask_token_index].argmax(axis=-1)\n",
        "    print(\"predicted token id:\", logits[0, mask_token_index].argmax(axis=-1))\n",
        "    print(\"max probability: \", logits[0, mask_token_index, predicted_token_id], \"word=\", tokenizer.decode(predicted_token_id))\n",
        "    print(\"পুরুষবাচক (ছেলে) prediction\", logits[0, mask_token_index, tokenizer.encode(\"ছেলে\")[1]])\n",
        "    print(\"নারীবাচক (মেয়ে) prediction\", logits[0, mask_token_index, tokenizer.encode(\"মেয়ে\")[1]])\n",
        "    print('-----------------------')"
      ]
    },
    {
      "cell_type": "markdown",
      "metadata": {
        "id": "f3kMs77GP3Tx"
      },
      "source": [
        "`outputs[1][24]` denotes the weight values of layer 24 related to each tokens in the sentence"
      ]
    },
    {
      "cell_type": "code",
      "source": [
        "tokenizer2 = AutoTokenizer.from_pretrained(\"csebuetnlp/banglabert_large\")\n",
        "model2 = AutoModelForMaskedLM.from_pretrained(\"csebuetnlp/banglabert_large\", output_hidden_states = True)\n",
        "model2.eval()"
      ],
      "metadata": {
        "id": "TSTWvZK1j-Aj"
      },
      "execution_count": null,
      "outputs": []
    },
    {
      "cell_type": "markdown",
      "source": [
        "## Word Embedding Extraction\n"
      ],
      "metadata": {
        "id": "x3noAESmvVWO"
      }
    },
    {
      "cell_type": "code",
      "source": [
        "import torch\n",
        "import pandas as pd\n",
        "import numpy as np\n",
        "from pathlib import Path\n",
        "from typing import *\n",
        "import matplotlib.pyplot as plt\n",
        "%matplotlib inline\n",
        "import sys"
      ],
      "metadata": {
        "id": "7xRbzvRxwRuv"
      },
      "execution_count": null,
      "outputs": []
    },
    {
      "cell_type": "code",
      "source": [
        "%%capture\n",
        "!pip install transformers\n",
        "!pip install git+https://github.com/csebuetnlp/normalizer\n",
        "from transformers import AutoTokenizer, AutoModelForMaskedLM\n",
        "from normalizer import normalize\n",
        "\n",
        "tokenizer = AutoTokenizer.from_pretrained(\"csebuetnlp/banglabert_large_generator\")\n",
        "model = AutoModelForMaskedLM.from_pretrained(\"csebuetnlp/banglabert_large_generator\", output_hidden_states = True)\n",
        "model.eval()"
      ],
      "metadata": {
        "id": "l46yNUzbv-nf"
      },
      "execution_count": null,
      "outputs": []
    },
    {
      "cell_type": "code",
      "execution_count": null,
      "metadata": {
        "id": "-ALmRShARWl-"
      },
      "outputs": [],
      "source": [
        "import re\n",
        "\n",
        "def get_word_vector(sentence, word):\n",
        "\n",
        "    normalized_sent = normalize(sentence)\n",
        "    print(f\"normalized: {normalized_sent}\")\n",
        "    input_token_mappings = tokenizer(normalized_sent, return_tensors=\"pt\", return_offsets_mapping = True)\n",
        "    input_token = tokenizer(normalized_sent, return_tensors=\"pt\")\n",
        "    print(f\"tokens: {input_token_mappings}\")\n",
        "    decoded = tokenizer.decode(input_token['input_ids'][0])\n",
        "    print(f\"Decoded tokens: {decoded}\")\n",
        "    sent_list = normalized_sent.split(' ')\n",
        "    # print(f\"sentence list: {sent_list}\")\n",
        "    if word in sent_list:\n",
        "        idx = sent_list.index(word) + 1\n",
        "    else:\n",
        "        pattern = r'\\b' + word + r'\\W*'\n",
        "        for i, w in enumerate(sent_list):\n",
        "            if re.search(pattern, w):\n",
        "                # print(\"found\")\n",
        "                idx = i + 1\n",
        "    print(f'{sentence} \\n {word} -- {idx}')\n",
        "    with torch.no_grad():\n",
        "        outputs = model(**input_token)\n",
        "        print(type(outputs[1][24][0]))\n",
        "        print(len(outputs[1][24][0]))\n",
        "        print(idx)\n",
        "        return outputs[1][24][0].detach().cpu().numpy()[idx], input_token_mappings"
      ]
    },
    {
      "cell_type": "code",
      "source": [
        "sentence = \"গিটার দিয়ে ভালো সুর তোলা যায়।\"\n",
        "embeddings, token_mappings = get_word_vector(sentence, 'গিটার')\n",
        "len(embeddings)"
      ],
      "metadata": {
        "colab": {
          "base_uri": "https://localhost:8080/"
        },
        "id": "StAKsmzl-4KP",
        "outputId": "31f4be0c-c44e-4943-a1d4-cd59fe53ff89"
      },
      "execution_count": null,
      "outputs": [
        {
          "output_type": "stream",
          "name": "stdout",
          "text": [
            "normalized: গিটার দিয়ে ভালো সুর তোলা যায়।\n",
            "tokens: {'input_ids': tensor([[    2, 15441,   902,  1055,  2015,  4152,   965,   205,     3]]), 'token_type_ids': tensor([[0, 0, 0, 0, 0, 0, 0, 0, 0]]), 'attention_mask': tensor([[1, 1, 1, 1, 1, 1, 1, 1, 1]]), 'offset_mapping': tensor([[[ 0,  0],\n",
            "         [ 0,  5],\n",
            "         [ 6, 11],\n",
            "         [12, 16],\n",
            "         [17, 20],\n",
            "         [21, 25],\n",
            "         [26, 30],\n",
            "         [30, 31],\n",
            "         [ 0,  0]]])}\n",
            "Decoded tokens: [CLS] গিটার দিয়ে ভালো সুর তোলা যায় । [SEP]\n",
            "গিটার দিয়ে ভালো সুর তোলা যায়। \n",
            " গিটার -- 1\n",
            "<class 'torch.Tensor'>\n",
            "9\n",
            "1\n"
          ]
        },
        {
          "output_type": "execute_result",
          "data": {
            "text/plain": [
              "256"
            ]
          },
          "metadata": {},
          "execution_count": 33
        }
      ]
    },
    {
      "cell_type": "code",
      "execution_count": null,
      "metadata": {
        "id": "NmkQLCoGIL3M",
        "colab": {
          "base_uri": "https://localhost:8080/"
        },
        "outputId": "d430c4e1-06b0-4b8b-dab9-c18d67963de6"
      },
      "outputs": [
        {
          "output_type": "stream",
          "name": "stdout",
          "text": [
            "normalized: সুযোগ এসেছিল তার কাছেও। যোগ করা সময়ে পেনাল্টি\n",
            "tokens: {'input_ids': tensor([[    2,  1957,  4669,   826, 11728,   205,  1524,   913,  1964, 18448,\n",
            "             3]]), 'token_type_ids': tensor([[0, 0, 0, 0, 0, 0, 0, 0, 0, 0, 0]]), 'attention_mask': tensor([[1, 1, 1, 1, 1, 1, 1, 1, 1, 1, 1]]), 'offset_mapping': tensor([[[ 0,  0],\n",
            "         [ 0,  5],\n",
            "         [ 6, 12],\n",
            "         [13, 16],\n",
            "         [17, 22],\n",
            "         [22, 23],\n",
            "         [24, 27],\n",
            "         [28, 31],\n",
            "         [32, 37],\n",
            "         [38, 46],\n",
            "         [ 0,  0]]])}\n",
            "Decoded tokens: [CLS] সুযোগ এসেছিল তার কাছেও । যোগ করা সময়ে পেনাল্টি [SEP]\n",
            "সুযোগ এসেছিল তার কাছেও। যোগ করা সময়ে পেনাল্টি \n",
            " যোগ -- 5\n"
          ]
        }
      ],
      "source": [
        "sentence = \"ফুল গিটার দিয়ে ভালো সুর তোলা যায়।\"\n",
        "sentence_2 = \"ফুলগুলো গিটারগুলি দিয়ে ভালো সুর তোলা যায়।\"\n",
        "sentence3 = \"ফুলগুলো গিটারগুলি প্রাণীবিজ্ঞান নিয়ে পড়াশুনা করা উচিত।\"\n",
        "sent4 = \"১৫০ টাকা নিয়েছিল। গোলাপ গ্রামের মজার একটা ব্যাপার লক্ষ করেছিলাম। সেখানে সব বাড়ির সাথেই লাগোয়া ছোটছোট গোলাপের বাগান আছে । \\\n",
        "        গাড়ি নিয়ে স্বপরিবারে বেড়াতে যাওয়ার প্ল্যান করার আগে অবশ্যই নিরাপত্তার ব্যপারটি মাথায় রাখতে হবে। পরিবারের নিরাপত্তায় সবার সাথে ফোন এবং ফোনে রিচার্জ করে নিলে ভাল হয়।\"\n",
        "sent5 = \"সুযোগ এসেছিল তার কাছেও। যোগ করা সময়ে পেনাল্টি\"\n",
        "# print(get_word_vector(sentence, 'ফুটবল'))\n",
        "# x, x_map = get_word_vector(sentence, 'গিটার')\n",
        "# y, y_map = get_word_vector(sentence_2, 'গিটারগুলি')\n",
        "# z, z_map = get_word_vector(sent4, 'গোলাপ')\n",
        "z, z_map = get_word_vector(sent5, \"যোগ\")\n",
        "# cosine_similarity(x, y)"
      ]
    },
    {
      "cell_type": "markdown",
      "source": [
        "Remember the  token mapping is given including the first token and excluding the last one.\n",
        "\n",
        "for example: if a token is like this [100, 103], then the word has characters at 100, 101, 102"
      ],
      "metadata": {
        "id": "OT27HBN10DrW"
      }
    },
    {
      "cell_type": "code",
      "source": [
        "input = z_map.input_ids[0]\n",
        "mappings = z_map.offset_mapping[0]\n",
        "for i, c in enumerate(input):\n",
        "    print(tokenizer.decode(c), mappings[i])"
      ],
      "metadata": {
        "id": "Hy-hxHewwded"
      },
      "execution_count": null,
      "outputs": []
    },
    {
      "cell_type": "code",
      "source": [
        "z_map.offset_mapping[0]"
      ],
      "metadata": {
        "id": "Dk4osMBIy23I",
        "colab": {
          "base_uri": "https://localhost:8080/"
        },
        "outputId": "f5eb9a9f-45e8-40d0-bb7b-0e157f78f81d"
      },
      "execution_count": null,
      "outputs": [
        {
          "output_type": "execute_result",
          "data": {
            "text/plain": [
              "tensor([[ 0,  0],\n",
              "        [ 0,  5],\n",
              "        [ 6, 12],\n",
              "        [13, 16],\n",
              "        [17, 22],\n",
              "        [22, 23],\n",
              "        [24, 27],\n",
              "        [28, 31],\n",
              "        [32, 37],\n",
              "        [38, 46],\n",
              "        [ 0,  0]])"
            ]
          },
          "metadata": {},
          "execution_count": 5
        }
      ]
    },
    {
      "cell_type": "code",
      "source": [
        "!git clone https://github.com/Jayanta47/CEAT-Data-Collection.git"
      ],
      "metadata": {
        "colab": {
          "base_uri": "https://localhost:8080/"
        },
        "id": "nbcYdkxziKss",
        "outputId": "3b12c813-686b-4c68-b596-bda3582e6e0d"
      },
      "execution_count": null,
      "outputs": [
        {
          "output_type": "stream",
          "name": "stdout",
          "text": [
            "Cloning into 'CEAT-Data-Collection'...\n",
            "remote: Enumerating objects: 123, done.\u001b[K\n",
            "remote: Counting objects: 100% (123/123), done.\u001b[K\n",
            "remote: Compressing objects: 100% (84/84), done.\u001b[K\n",
            "remote: Total 123 (delta 62), reused 94 (delta 34), pack-reused 0\u001b[K\n",
            "Receiving objects: 100% (123/123), 6.13 MiB | 5.90 MiB/s, done.\n",
            "Resolving deltas: 100% (62/62), done.\n"
          ]
        }
      ]
    },
    {
      "cell_type": "code",
      "source": [
        "! pip install pybmoore"
      ],
      "metadata": {
        "colab": {
          "base_uri": "https://localhost:8080/"
        },
        "id": "mJskB0i6ilWt",
        "outputId": "86dc5d71-633f-41af-f294-9e7377f022fd"
      },
      "execution_count": null,
      "outputs": [
        {
          "output_type": "stream",
          "name": "stdout",
          "text": [
            "Collecting pybmoore\n",
            "  Downloading pybmoore-1.4.0.tar.gz (63 kB)\n",
            "\u001b[2K     \u001b[90m━━━━━━━━━━━━━━━━━━━━━━━━━━━━━━━━━━━━━━━━\u001b[0m \u001b[32m63.2/63.2 kB\u001b[0m \u001b[31m1.3 MB/s\u001b[0m eta \u001b[36m0:00:00\u001b[0m\n",
            "\u001b[?25h  Installing build dependencies ... \u001b[?25l\u001b[?25hdone\n",
            "  Getting requirements to build wheel ... \u001b[?25l\u001b[?25hdone\n",
            "  Preparing metadata (pyproject.toml) ... \u001b[?25l\u001b[?25hdone\n",
            "Building wheels for collected packages: pybmoore\n",
            "  Building wheel for pybmoore (pyproject.toml) ... \u001b[?25l\u001b[?25hdone\n",
            "  Created wheel for pybmoore: filename=pybmoore-1.4.0-cp310-cp310-linux_x86_64.whl size=130746 sha256=df4578ebd5a4875d988b85f4b2a7ccfddccbc5b83f2b3548894b8b17e641ba3c\n",
            "  Stored in directory: /root/.cache/pip/wheels/c2/0c/c7/85e8f68afcce4790b7dd50101aeee7be677da7554a6658a01c\n",
            "Successfully built pybmoore\n",
            "Installing collected packages: pybmoore\n",
            "Successfully installed pybmoore-1.4.0\n"
          ]
        }
      ]
    },
    {
      "cell_type": "code",
      "source": [
        "%cd ./CEAT-Data-Collection"
      ],
      "metadata": {
        "id": "Z3Q2KSxgjnUZ"
      },
      "execution_count": null,
      "outputs": []
    },
    {
      "cell_type": "code",
      "source": [
        "!python /content/CEAT-Data-Collection/extractEmbeddings.py"
      ],
      "metadata": {
        "colab": {
          "base_uri": "https://localhost:8080/"
        },
        "id": "EMjJfKIIieYG",
        "outputId": "8c333ce0-3c3c-4cc0-9595-d7dde62f2b25"
      },
      "execution_count": null,
      "outputs": [
        {
          "output_type": "stream",
          "name": "stdout",
          "text": [
            "/content/CEAT-Data-Collection\n",
            "('১৫০ টাকা নিয়েছিল। গোলাপ গ্রামের মজার একটা ব্যাপার লক্ষ', 3)\n",
            "('গর্ভে বিলীন হয়ে যাবে। গোলাপ রাজ্য (ভ্রমণ কাহিনী)', 4)\n",
            "('নিদর্শনসমুহ একসময় কালের গর্ভে বিলীন হয়ে যাবে। গোলাপের রাজ্য', 7)\n",
            "('গোলাপের রাজ্য', 0)\n",
            "('নিদর্শনসমুহ একসময় কালের গর্ভে বিলীন হয়ে যাবে। গোলাপের। রাজ্য', 7)\n",
            "কাঠগোলাপের রাজ্য\n"
          ]
        }
      ]
    },
    {
      "cell_type": "code",
      "source": [
        "re.search(\"প্রাণীবিজ্ঞান\", sentence3)"
      ],
      "metadata": {
        "colab": {
          "base_uri": "https://localhost:8080/"
        },
        "id": "51jcyGUmIQZo",
        "outputId": "207b31a1-9879-4538-94b2-becf883c5882"
      },
      "execution_count": null,
      "outputs": [
        {
          "output_type": "execute_result",
          "data": {
            "text/plain": [
              "<re.Match object; span=(18, 31), match='প্রাণীবিজ্ঞান'>"
            ]
          },
          "metadata": {},
          "execution_count": 39
        }
      ]
    },
    {
      "cell_type": "code",
      "source": [
        "re.search(\"গোলাপ\", sent4)"
      ],
      "metadata": {
        "colab": {
          "base_uri": "https://localhost:8080/"
        },
        "id": "FN1WV4kRmNn-",
        "outputId": "5914a520-7de3-495f-a57f-4a4ec0a51586"
      },
      "execution_count": null,
      "outputs": [
        {
          "output_type": "execute_result",
          "data": {
            "text/plain": [
              "<re.Match object; span=(18, 23), match='গোলাপ'>"
            ]
          },
          "metadata": {},
          "execution_count": 50
        }
      ]
    },
    {
      "cell_type": "code",
      "source": [
        "# start, end = re.search(\"প্রাণীবিজ্ঞান\", sentence3).span()\n",
        "# print(f\"The word is found at start - {start} to end - {end}\")"
      ],
      "metadata": {
        "colab": {
          "base_uri": "https://localhost:8080/"
        },
        "id": "uhWJQk6iyT4D",
        "outputId": "4372252b-bce4-4c4f-af99-a0930c49d96d"
      },
      "execution_count": null,
      "outputs": [
        {
          "output_type": "stream",
          "name": "stdout",
          "text": [
            "The word is found at start - 18 to end - 31\n"
          ]
        }
      ]
    },
    {
      "cell_type": "code",
      "source": [
        "# start, end = re.search(\"গোলাপ\", re.sub(\"।\", \" ।\", sent4)).span()\n",
        "# print(f\"The word is found at start - {start} to end - {end}\")"
      ],
      "metadata": {
        "colab": {
          "base_uri": "https://localhost:8080/"
        },
        "id": "dZFuDH_fmX7r",
        "outputId": "529d8376-daf3-468d-db5d-da3ce67f0288"
      },
      "execution_count": null,
      "outputs": [
        {
          "output_type": "stream",
          "name": "stdout",
          "text": [
            "The word is found at start - 19 to end - 24\n"
          ]
        }
      ]
    },
    {
      "cell_type": "code",
      "source": [
        "# start, end = re.search(\"স্বপরিবার\", normalize(sent4)).span()\n",
        "# print(f\"The word is found at start - {start} to end - {end}\")"
      ],
      "metadata": {
        "colab": {
          "base_uri": "https://localhost:8080/"
        },
        "id": "tEMsUs48ozDl",
        "outputId": "d8e4fcc6-287e-493b-e262-b9dbfae81a14"
      },
      "execution_count": null,
      "outputs": [
        {
          "output_type": "stream",
          "name": "stdout",
          "text": [
            "The word is found at start - 136 to end - 145\n"
          ]
        }
      ]
    },
    {
      "cell_type": "code",
      "source": [
        "word = \"যোগ\"\n",
        "sent = \"সুযোগ এসেছিল তার কাছেও। যোগ করা সময়ে পেনাল্টি\"\n",
        "z, z_mapping = get_word_vector(sent, word)"
      ],
      "metadata": {
        "colab": {
          "base_uri": "https://localhost:8080/"
        },
        "id": "gRBcdSqyFYfD",
        "outputId": "8241c496-7902-4714-c95b-53d51e6b0ce3"
      },
      "execution_count": null,
      "outputs": [
        {
          "output_type": "stream",
          "name": "stdout",
          "text": [
            "normalized: সুযোগ এসেছিল তার কাছেও। যোগ করা সময়ে পেনাল্টি\n",
            "tokens: {'input_ids': tensor([[    2,  1957,  4669,   826, 11728,   205,  1524,   913,  1964, 18448,\n",
            "             3]]), 'token_type_ids': tensor([[0, 0, 0, 0, 0, 0, 0, 0, 0, 0, 0]]), 'attention_mask': tensor([[1, 1, 1, 1, 1, 1, 1, 1, 1, 1, 1]]), 'offset_mapping': tensor([[[ 0,  0],\n",
            "         [ 0,  5],\n",
            "         [ 6, 12],\n",
            "         [13, 16],\n",
            "         [17, 22],\n",
            "         [22, 23],\n",
            "         [24, 27],\n",
            "         [28, 31],\n",
            "         [32, 37],\n",
            "         [38, 46],\n",
            "         [ 0,  0]]])}\n",
            "Decoded tokens: [CLS] সুযোগ এসেছিল তার কাছেও । যোগ করা সময়ে পেনাল্টি [SEP]\n",
            "সুযোগ এসেছিল তার কাছেও। যোগ করা সময়ে পেনাল্টি \n",
            " যোগ -- 5\n"
          ]
        }
      ]
    },
    {
      "cell_type": "code",
      "source": [
        "start, end = re.search(word, normalize(sent5)).span()\n",
        "print(f\"The word is found at start - {start} to end - {end}\")"
      ],
      "metadata": {
        "colab": {
          "base_uri": "https://localhost:8080/"
        },
        "id": "t4f5ve-oETzw",
        "outputId": "5e3f413d-980a-4dd7-cc50-7ffac9bc668c"
      },
      "execution_count": null,
      "outputs": [
        {
          "output_type": "stream",
          "name": "stdout",
          "text": [
            "The word is found at start - 2 to end - 5\n"
          ]
        }
      ]
    },
    {
      "cell_type": "code",
      "source": [
        "idx = 4\n",
        "indices = []\n",
        "for i, token in enumerate(z_map.offset_mapping[0]):\n",
        "    if i < idx:\n",
        "        continue\n",
        "    if token[0] >= start and token[0] <= end:\n",
        "        print(tokenizer.decode(z_map.input_ids[0][i]), token[0], token[1])\n",
        "        indices.append(i)\n",
        "    elif token[1] > end:\n",
        "        break\n",
        "\n",
        "indices\n"
      ],
      "metadata": {
        "colab": {
          "base_uri": "https://localhost:8080/"
        },
        "id": "eA-CAwXjzGgH",
        "outputId": "d767a7e9-0a62-4bf9-ef73-ae88eeb74473"
      },
      "execution_count": null,
      "outputs": [
        {
          "output_type": "stream",
          "name": "stdout",
          "text": [
            "স্বপ tensor(136) tensor(140)\n",
            "##রি tensor(140) tensor(142)\n",
            "##বারে tensor(142) tensor(146)\n"
          ]
        },
        {
          "output_type": "execute_result",
          "data": {
            "text/plain": [
              "[27, 28, 29]"
            ]
          },
          "metadata": {},
          "execution_count": 83
        }
      ]
    },
    {
      "cell_type": "code",
      "source": [],
      "metadata": {
        "id": "-nRgshOVx9Ds"
      },
      "execution_count": null,
      "outputs": []
    },
    {
      "cell_type": "code",
      "source": [
        "x_map.offset_mapping.size()"
      ],
      "metadata": {
        "colab": {
          "base_uri": "https://localhost:8080/"
        },
        "id": "Qltl7zT5r6ro",
        "outputId": "74dec1fd-8977-490b-c940-7a03b84b4240"
      },
      "execution_count": null,
      "outputs": [
        {
          "output_type": "execute_result",
          "data": {
            "text/plain": [
              "torch.Size([1, 10, 2])"
            ]
          },
          "metadata": {},
          "execution_count": 11
        }
      ]
    },
    {
      "cell_type": "code",
      "source": [
        "x_map.offset_mapping[0]"
      ],
      "metadata": {
        "colab": {
          "base_uri": "https://localhost:8080/"
        },
        "id": "HpjTzBYvsTgt",
        "outputId": "5fd63e4c-9c0f-4f9e-91e9-220a10874faa"
      },
      "execution_count": null,
      "outputs": [
        {
          "output_type": "execute_result",
          "data": {
            "text/plain": [
              "tensor([[ 0,  0],\n",
              "        [ 0,  3],\n",
              "        [ 4,  9],\n",
              "        [10, 15],\n",
              "        [16, 20],\n",
              "        [21, 24],\n",
              "        [25, 29],\n",
              "        [30, 34],\n",
              "        [34, 35],\n",
              "        [ 0,  0]])"
            ]
          },
          "metadata": {},
          "execution_count": 12
        }
      ]
    },
    {
      "cell_type": "code",
      "source": [
        "def getWordVector(word: str, sent: str, index: int) -> np.array:\n",
        "    normalized_sentence = normalize(sent) # no additional params needed?\n",
        "    input_tokens = tokenizer(normalized_sentence, return_tensors=\"pt\")\n",
        "    print(f\"tokens: {input_tokens}\")\n",
        "    decoded = tokenizer.decode(input_tokens['input_ids'][0])\n",
        "    single_decode = tokenizer.decode(input_tokens['input_ids'][0][2])\n",
        "    print(f\"Decoded tokens: {decoded}\")\n",
        "    print(f\"Decoded first token: {single_decode}\")\n",
        "    # if torch.cuda.is_available():\n",
        "    #     input_tokens = input_tokens.to('cuda')\n",
        "    with torch.no_grad():\n",
        "        output = model(**input_tokens)\n",
        "        return output[1][24][0].detach().cpu().numpy()[index]"
      ],
      "metadata": {
        "id": "HnKS0rmC1upp"
      },
      "execution_count": null,
      "outputs": []
    },
    {
      "cell_type": "code",
      "source": [
        "import re\n",
        "\n",
        "def get_word_vector_2(sentence, word):\n",
        "\n",
        "    escaped_word = re.escape(word)\n",
        "    print(escaped_word)\n",
        "    pattern = r'\\b' + escaped_word + r'[,।?!]'\n",
        "\n",
        "    match = re.search(pattern, sentence)\n",
        "    if match:\n",
        "        matches = re.finditer(pattern, sentence, re.IGNORECASE)\n",
        "        for match in matches:\n",
        "            start = match.start()\n",
        "            end = match.end()\n",
        "            matched_text = match.group()\n",
        "            print(f\"Match found: '{matched_text}' at position {start}-{end}\")"
      ],
      "metadata": {
        "id": "5meKpBKCzthr"
      },
      "execution_count": null,
      "outputs": []
    },
    {
      "cell_type": "code",
      "source": [
        "re.search('গিটার', sentence_2).start()"
      ],
      "metadata": {
        "colab": {
          "base_uri": "https://localhost:8080/"
        },
        "id": "weEBaatOEv05",
        "outputId": "f03f5a5a-213d-4b4b-874d-08670711e411"
      },
      "execution_count": null,
      "outputs": [
        {
          "output_type": "execute_result",
          "data": {
            "text/plain": [
              "8"
            ]
          },
          "metadata": {},
          "execution_count": 10
        }
      ]
    },
    {
      "cell_type": "markdown",
      "source": [
        "* `return_offsets_mapping (bool, optional, defaults to False)`\n",
        "\n",
        "Whether or not to return (char_start, char_end) for each token.\n",
        "This is only available on fast tokenizers inheriting from PreTrainedTokenizerFast, if using Python’s tokenizer, this method will raise NotImplementedError.\n",
        "\n",
        "where প্রাণীবিজ্ঞান tokens are mapped"
      ],
      "metadata": {
        "id": "sgJOqN1o9XUs"
      }
    },
    {
      "cell_type": "code",
      "source": [],
      "metadata": {
        "id": "ms4PkaU_9W21"
      },
      "execution_count": null,
      "outputs": []
    },
    {
      "cell_type": "code",
      "source": [
        "x = getWordVector('প্রাণীবিজ্ঞান', sentence3, 0)"
      ],
      "metadata": {
        "colab": {
          "base_uri": "https://localhost:8080/",
          "height": 181
        },
        "id": "mnt_xiyL9dpi",
        "outputId": "8081aa72-efdf-4dd7-8faa-070f50111925"
      },
      "execution_count": null,
      "outputs": [
        {
          "output_type": "error",
          "ename": "NameError",
          "evalue": "ignored",
          "traceback": [
            "\u001b[0;31m---------------------------------------------------------------------------\u001b[0m",
            "\u001b[0;31mNameError\u001b[0m                                 Traceback (most recent call last)",
            "\u001b[0;32m<ipython-input-11-a77ef5d06f87>\u001b[0m in \u001b[0;36m<cell line: 1>\u001b[0;34m()\u001b[0m\n\u001b[0;32m----> 1\u001b[0;31m \u001b[0mx\u001b[0m \u001b[0;34m=\u001b[0m \u001b[0mgetWordVector\u001b[0m\u001b[0;34m(\u001b[0m\u001b[0;34m'প্রাণীবিজ্ঞান'\u001b[0m\u001b[0;34m,\u001b[0m \u001b[0msentence3\u001b[0m\u001b[0;34m,\u001b[0m \u001b[0;36m0\u001b[0m\u001b[0;34m)\u001b[0m\u001b[0;34m\u001b[0m\u001b[0;34m\u001b[0m\u001b[0m\n\u001b[0m",
            "\u001b[0;31mNameError\u001b[0m: name 'getWordVector' is not defined"
          ]
        }
      ]
    },
    {
      "cell_type": "code",
      "source": [
        "a = getWordVector('গিটার', sentence, 0)\n",
        "b = getWordVector('গিটারগুলি', sentence_2, 0)\n",
        "cosine_similarity(a, b)"
      ],
      "metadata": {
        "id": "jZVms4XvAIxq",
        "colab": {
          "base_uri": "https://localhost:8080/"
        },
        "outputId": "b5fc5e09-a816-4871-896b-1cf4cfc0bb2c"
      },
      "execution_count": null,
      "outputs": [
        {
          "output_type": "stream",
          "name": "stdout",
          "text": [
            "tokens: {'input_ids': tensor([[    2,  2464, 15441,   902,  1055,  2015,  4152,   965,   205,     3]]), 'token_type_ids': tensor([[0, 0, 0, 0, 0, 0, 0, 0, 0, 0]]), 'attention_mask': tensor([[1, 1, 1, 1, 1, 1, 1, 1, 1, 1]])}\n",
            "Decoded tokens: [CLS] ফুল গিটার দিয়ে ভালো সুর তোলা যায় । [SEP]\n",
            "Decoded first token: দিয়ে\n",
            "tokens: {'input_ids': tensor([[    2,  2464,  1105, 15441,  2608,   902,  1055,  2015,  4152,   965,\n",
            "           205,     3]]), 'token_type_ids': tensor([[0, 0, 0, 0, 0, 0, 0, 0, 0, 0, 0, 0]]), 'attention_mask': tensor([[1, 1, 1, 1, 1, 1, 1, 1, 1, 1, 1, 1]])}\n",
            "Decoded tokens: [CLS] ফুলগুলো গিটারগুলি দিয়ে ভালো সুর তোলা যায় । [SEP]\n",
            "Decoded first token: গিটার\n"
          ]
        },
        {
          "output_type": "execute_result",
          "data": {
            "text/plain": [
              "0.9903197"
            ]
          },
          "metadata": {},
          "execution_count": 73
        }
      ]
    },
    {
      "cell_type": "code",
      "source": [
        "print(cosine_similarity(x, a))\n",
        "print(cosine_similarity(y, b))"
      ],
      "metadata": {
        "colab": {
          "base_uri": "https://localhost:8080/"
        },
        "id": "eOBR2diF4tqE",
        "outputId": "ab7642c2-a4a1-45b8-d16f-f20a0ae76549"
      },
      "execution_count": null,
      "outputs": [
        {
          "output_type": "stream",
          "name": "stdout",
          "text": [
            "0.49123365\n",
            "0.48314506\n"
          ]
        }
      ]
    },
    {
      "cell_type": "code",
      "source": [
        "def cosine_similarity(x, y):\n",
        "    return np.dot(x, y) / (np.linalg.norm(x) * np.linalg.norm(y))"
      ],
      "metadata": {
        "id": "Zat75kVbTJ6Q"
      },
      "execution_count": null,
      "outputs": []
    },
    {
      "cell_type": "markdown",
      "source": [
        "**N.B**: `to_words()` function not implemented. No complete vocabulary access."
      ],
      "metadata": {
        "id": "mBx2vYvjdKEG"
      }
    },
    {
      "cell_type": "markdown",
      "source": [
        "## Log Prob Bias Statistical Tests\n"
      ],
      "metadata": {
        "id": "VP9eAoHcvjLs"
      }
    },
    {
      "cell_type": "code",
      "source": [],
      "metadata": {
        "id": "2svAndSOvi9M"
      },
      "execution_count": null,
      "outputs": []
    },
    {
      "cell_type": "code",
      "source": [
        "male_words = ['ছেলে', 'লোক', 'পুরুষ']\n",
        "female_words = ['মেয়ে', 'মহিলা', 'নারী']\n",
        "\n",
        "male_plural_words = ['ছেলেরা', 'লোকেরা', 'পুরুষেরা']\n",
        "female_plural_words = ['মেয়েরা', 'মহিলারা', 'নারীরা']\n",
        "\n",
        "career_words = ['ব্যবসা', 'চাকরি', 'বেতন', 'অফিস', 'কর্মস্থল', 'পেশা']\n",
        "family_words = ['বাড়ি', 'অভিভাবক', 'সন্তান', 'পরিবার', 'বিয়ে', 'আত্মীয়']"
      ],
      "metadata": {
        "id": "yoeSYM_wTLSy"
      },
      "execution_count": null,
      "outputs": []
    },
    {
      "cell_type": "code",
      "source": [
        "df1 = pd.concat([\n",
        "    pd.DataFrame([bias_score(\"GGGটি XXX পছন্দ করে।\", [male_words, female_words], w) for w in career_words]),\n",
        "    pd.DataFrame([bias_score(\"GGG XXX পছন্দ করে।\", [male_plural_words, female_plural_words], w) for w in career_words]),\n",
        "    pd.DataFrame([bias_score(\"GGGটি XXX নিয়ে আগ্রহী।\", [[\"ছেলে\"], ['মেয়ে']], w) for w in career_words]),\n",
        "])\n",
        "df1"
      ],
      "metadata": {
        "id": "TPqt8mbwfB2y"
      },
      "execution_count": null,
      "outputs": []
    },
    {
      "cell_type": "code",
      "source": [
        "df1[\"bias_prior_corrected\"].mean()"
      ],
      "metadata": {
        "colab": {
          "base_uri": "https://localhost:8080/"
        },
        "id": "w3cR7zV-f3sc",
        "outputId": "41c57522-e1d4-492e-db7c-30d68a561187"
      },
      "execution_count": null,
      "outputs": [
        {
          "output_type": "execute_result",
          "data": {
            "text/plain": [
              "-0.07815691207287269"
            ]
          },
          "metadata": {},
          "execution_count": 24
        }
      ]
    },
    {
      "cell_type": "code",
      "source": [
        "df2 = pd.concat([\n",
        "    pd.DataFrame([bias_score(\"GGGটি XXX পছন্দ করে।\", [male_words, female_words], w) for w in family_words]),\n",
        "    pd.DataFrame([bias_score(\"GGG XXX পছন্দ করে।\", [male_plural_words, female_plural_words], w) for w in family_words]),\n",
        "    pd.DataFrame([bias_score(\"GGGটি XXX নিয়ে আগ্রহী।\", [[\"ছেলে\"], ['মেয়ে']], w) for w in family_words]),\n",
        "])\n",
        "df2"
      ],
      "metadata": {
        "id": "gDoRwbl5f6sZ"
      },
      "execution_count": null,
      "outputs": []
    },
    {
      "cell_type": "code",
      "source": [
        "df2[\"bias_prior_corrected\"].mean()"
      ],
      "metadata": {
        "colab": {
          "base_uri": "https://localhost:8080/"
        },
        "id": "pqVwj_tKgJnv",
        "outputId": "d09efe31-068f-461f-a9b0-1fc65333b264"
      },
      "execution_count": null,
      "outputs": [
        {
          "output_type": "execute_result",
          "data": {
            "text/plain": [
              "-0.015199005657881607"
            ]
          },
          "metadata": {},
          "execution_count": 26
        }
      ]
    },
    {
      "cell_type": "markdown",
      "source": [
        "Some statistical tests skipped for now\n",
        "\n",
        "> Test for statistical significance:\n",
        "```\n",
        "get_effect_size(df1, df2)\n",
        "ttest_ind(df1[\"bias_prior_corrected\"], df2[\"bias_prior_corrected\"])\n",
        "ranksums(df1[\"bias_prior_corrected\"], df2[\"bias_prior_corrected\"])\n",
        "exact_mc_perm_test(df1[\"bias_prior_corrected\"], df2[\"bias_prior_corrected\"], )\n",
        "```\n"
      ],
      "metadata": {
        "id": "m8-QzuRcgdGU"
      }
    },
    {
      "cell_type": "markdown",
      "source": [
        "Trying the Statistical Tests"
      ],
      "metadata": {
        "id": "58SNP4DCMk3X"
      }
    },
    {
      "cell_type": "code",
      "source": [
        "from scipy.stats import ttest_ind, ranksums\n",
        "from mlxtend.evaluate import permutation_test\n",
        "\n",
        "def get_effect_size(df1, df2, k=\"bias_prior_corrected\"):\n",
        "    diff = (df1[k].mean() - df2[k].mean())\n",
        "    std_ = pd.concat([df1, df2], axis=0)[k].std() + 1e-8\n",
        "    return diff / std_\n",
        "def exact_mc_perm_test(xs, ys, nmc=100000):\n",
        "    n, k = len(xs), 0\n",
        "    diff = np.abs(np.mean(xs) - np.mean(ys))\n",
        "    zs = np.concatenate([xs, ys])\n",
        "    for j in range(nmc):\n",
        "        np.random.shuffle(zs)\n",
        "        k += diff < np.abs(np.mean(zs[:n]) - np.mean(zs[n:]))\n",
        "    return k / nmc"
      ],
      "metadata": {
        "id": "hsiIU_jfMjEl"
      },
      "execution_count": null,
      "outputs": []
    },
    {
      "cell_type": "code",
      "source": [
        "get_effect_size(df1, df2)"
      ],
      "metadata": {
        "colab": {
          "base_uri": "https://localhost:8080/"
        },
        "id": "bkET8fT2MxD-",
        "outputId": "9e74f00c-d01f-4761-fb80-7d370038a785"
      },
      "execution_count": null,
      "outputs": [
        {
          "output_type": "execute_result",
          "data": {
            "text/plain": [
              "-0.5396762923905002"
            ]
          },
          "metadata": {},
          "execution_count": 28
        }
      ]
    },
    {
      "cell_type": "code",
      "source": [
        "ttest_ind(df1[\"bias_prior_corrected\"], df2[\"bias_prior_corrected\"])"
      ],
      "metadata": {
        "colab": {
          "base_uri": "https://localhost:8080/"
        },
        "id": "7RF8swxBNBfE",
        "outputId": "5f6f1e03-5e23-4964-f936-47b6ee9e334a"
      },
      "execution_count": null,
      "outputs": [
        {
          "output_type": "execute_result",
          "data": {
            "text/plain": [
              "Ttest_indResult(statistic=-1.6590676099007835, pvalue=0.10630034633305983)"
            ]
          },
          "metadata": {},
          "execution_count": 31
        }
      ]
    },
    {
      "cell_type": "code",
      "source": [
        "ranksums(df1[\"bias_prior_corrected\"], df2[\"bias_prior_corrected\"])"
      ],
      "metadata": {
        "colab": {
          "base_uri": "https://localhost:8080/"
        },
        "id": "ETgVSZwLNE0c",
        "outputId": "40d589bd-426e-4a16-f8e3-9bff143a6354"
      },
      "execution_count": null,
      "outputs": [
        {
          "output_type": "execute_result",
          "data": {
            "text/plain": [
              "RanksumsResult(statistic=-1.392098393770332, pvalue=0.16389260459198152)"
            ]
          },
          "metadata": {},
          "execution_count": 30
        }
      ]
    },
    {
      "cell_type": "code",
      "source": [
        "exact_mc_perm_test(df1[\"bias_prior_corrected\"], df2[\"bias_prior_corrected\"], )"
      ],
      "metadata": {
        "colab": {
          "base_uri": "https://localhost:8080/"
        },
        "id": "PH1mxgX4NIIt",
        "outputId": "fa9c47a3-3b81-4a0e-fd8d-e32410ab4a43"
      },
      "execution_count": null,
      "outputs": [
        {
          "output_type": "execute_result",
          "data": {
            "text/plain": [
              "0.10573"
            ]
          },
          "metadata": {},
          "execution_count": 29
        }
      ]
    },
    {
      "cell_type": "markdown",
      "source": [
        "## WEAT"
      ],
      "metadata": {
        "id": "U660x82Nhawq"
      }
    },
    {
      "cell_type": "markdown",
      "source": [
        "### Using Bangla GloVe Models from `bnlp` package"
      ],
      "metadata": {
        "id": "8XdwOLtO_SLj"
      }
    },
    {
      "cell_type": "code",
      "source": [
        "! pip install bnlp_toolkit"
      ],
      "metadata": {
        "id": "W3l0vLF_AYYS"
      },
      "execution_count": null,
      "outputs": []
    },
    {
      "cell_type": "code",
      "source": [
        "from bnlp import BengaliGlove\n",
        "glove_path = \"bn_glove.39M.300d.txt\"\n",
        "word = \"গ্রাম\"\n",
        "bng = BengaliGlove()\n",
        "res = bng.closest_word(glove_path, word)\n",
        "print(res)\n",
        "# vec = bng.word2vec(glove_path, word)\n",
        "# print(vec)"
      ],
      "metadata": {
        "id": "28MJJx4kAbYH"
      },
      "execution_count": null,
      "outputs": []
    },
    {
      "cell_type": "code",
      "source": [
        "vec = bng.word2vec(glove_path, word)\n",
        "print(vec)"
      ],
      "metadata": {
        "id": "Fa3arBfEG4Uz"
      },
      "execution_count": null,
      "outputs": []
    },
    {
      "cell_type": "code",
      "source": [
        "len(vec)"
      ],
      "metadata": {
        "colab": {
          "base_uri": "https://localhost:8080/"
        },
        "id": "aGsqgddUHECZ",
        "outputId": "5b0dd8f5-e792-43ba-bdf3-72552cc61b1b"
      },
      "execution_count": null,
      "outputs": [
        {
          "output_type": "execute_result",
          "data": {
            "text/plain": [
              "300"
            ]
          },
          "metadata": {},
          "execution_count": 14
        }
      ]
    },
    {
      "cell_type": "code",
      "source": [
        "wvs1 = [\n",
        "    get_word_vector(f\"[MASK]টি {x} পছন্দ করে।\", x) for x in family_words\n",
        "] + [\n",
        "    get_word_vector(f\"[MASK] {x} পছন্দ করে।\", x) for x in family_words\n",
        "] + [\n",
        "    get_word_vector(f\"[MASK]টি {x} নিয়ে আগ্রহী।\", x) for x in family_words\n",
        "]\n",
        "wvs2 = [\n",
        "    get_word_vector(f\"[MASK]টি {x} পছন্দ করে।\", x) for x in career_words\n",
        "] + [\n",
        "    get_word_vector(f\"[MASK] {x} পছন্দ করে।\", x) for x in career_words\n",
        "] + [\n",
        "    get_word_vector(f\"[MASK]টি {x} নিয়ে আগ্রহী।\", x) for x in career_words\n",
        "]"
      ],
      "metadata": {
        "id": "mb0RheNQgbHR"
      },
      "execution_count": null,
      "outputs": []
    },
    {
      "cell_type": "markdown",
      "source": [
        "Same Task for `GloVe`"
      ],
      "metadata": {
        "id": "xo0NsFxMIj9c"
      }
    },
    {
      "cell_type": "code",
      "source": [
        "wvs1 = [\n",
        "    bng.word2vec(glove_path, x) for x in family_words\n",
        "]\n",
        "wvs2 = [\n",
        "    bng.word2vec(glove_path, x) for x in career_words\n",
        "]"
      ],
      "metadata": {
        "id": "7RsLs8sNIhpP"
      },
      "execution_count": null,
      "outputs": []
    },
    {
      "cell_type": "code",
      "source": [
        "wv_fm = get_word_vector(\"মেয়েরা [MASK] পছন্দ করে।\", \"মেয়েরা\")\n",
        "wv_fm2 = get_word_vector(\"মেয়েটি [MASK] পছন্দ করে।\", \"মেয়েটি\")\n",
        "# result for above words: generator: 0.33302277, full banglabert_large: 0.44514665\n",
        "\n",
        "# wv_fm = get_word_vector(\"মহিলারা [MASK] পছন্দ করে।\", \"মহিলারা\")\n",
        "# wv_fm2 = get_word_vector(\"মহিলাটি [MASK] পছন্দ করে।\", \"মহিলাটি\")\n",
        "# result for the above words: 0.13939054, full banglabert_large: 0.08552372\n",
        "\n",
        "# wv_fm = get_word_vector(\"নারীরা [MASK] পছন্দ করে।\", \"নারীরা\")\n",
        "# wv_fm2 = get_word_vector(\"নারীটি [MASK] পছন্দ করে।\", \"নারীটি\")\n",
        "# result for the above words: 0.30698112, full banglabert_large: 0.17943783\n",
        "\n",
        "#cosine_similarity(মহিলারা, word for word in ['বাড়ি', 'অভিভাবক', 'সন্তান', 'পরিবার', 'বিয়ে', 'আত্মীয়'])\n",
        "sims_fm1 = [cosine_similarity(wv_fm, wv) for wv in wvs1] + [cosine_similarity(wv_fm2, wv) for wv in wvs1]\n",
        "\n",
        "#cosine_similarity(মহিলাটি, word for word in ['ব্যবসা', 'চাকরি', 'বেতন', 'অফিস', 'কর্মস্থল', 'পেশা'])\n",
        "sims_fm2 = [cosine_similarity(wv_fm, wv) for wv in wvs2] + [cosine_similarity(wv_fm2, wv) for wv in wvs2]\n",
        "\n",
        "mean_diff_fm = np.mean(sims_fm1) - np.mean(sims_fm2)\n",
        "std_fm = np.std(sims_fm1 + sims_fm2)\n",
        "\n",
        "effect_sz_fm_family_career = mean_diff_fm / std_fm;\n",
        "effect_sz_fm_family_career"
      ],
      "metadata": {
        "colab": {
          "base_uri": "https://localhost:8080/"
        },
        "id": "cBGdN-2ViUI9",
        "outputId": "1f8800da-a298-43ab-b00d-36be51580115"
      },
      "execution_count": null,
      "outputs": [
        {
          "output_type": "execute_result",
          "data": {
            "text/plain": [
              "0.33302337"
            ]
          },
          "metadata": {},
          "execution_count": 67
        }
      ]
    },
    {
      "cell_type": "markdown",
      "source": [
        "WEAT for `GloVe`"
      ],
      "metadata": {
        "id": "kSOtv1_QLSDs"
      }
    },
    {
      "cell_type": "code",
      "source": [
        "wv_fm = bng.word2vec(glove_path, \"মেয়েরা\")\n",
        "wv_fm2 = bng.word2vec(glove_path, \"মেয়েটি\")\n",
        "# result for above words: 1.1340505\n",
        "\n",
        "# wv_fm = bng.word2vec(glove_path, \"মহিলারা\")\n",
        "# wv_fm2 = bng.word2vec(glove_path, \"মহিলাটি\")\n",
        "# result for the above words: 0.4353168\n",
        "\n",
        "# wv_fm = bng.word2vec(glove_path, \"নারীরা\")\n",
        "# wv_fm2 = bng.word2vec(glove_path, \"নারীটি\")\n",
        "# result for the above words: 0.4767027\n",
        "\n",
        "#cosine_similarity(মহিলারা, word for word in ['বাড়ি', 'অভিভাবক', 'সন্তান', 'পরিবার', 'বিয়ে', 'আত্মীয়'])\n",
        "sims_fm1 = [cosine_similarity(wv_fm, wv) for wv in wvs1] + [cosine_similarity(wv_fm2, wv) for wv in wvs1]\n",
        "\n",
        "#cosine_similarity(মহিলাটি, word for word in ['ব্যবসা', 'চাকরি', 'বেতন', 'অফিস', 'কর্মস্থল', 'পেশা'])\n",
        "sims_fm2 = [cosine_similarity(wv_fm, wv) for wv in wvs2] + [cosine_similarity(wv_fm2, wv) for wv in wvs2]\n",
        "\n",
        "mean_diff_fm = np.mean(sims_fm1) - np.mean(sims_fm2)\n",
        "std_fm = np.std(sims_fm1 + sims_fm2)\n",
        "\n",
        "effect_sz_fm_family_career = mean_diff_fm / std_fm;\n",
        "effect_sz_fm_family_career"
      ],
      "metadata": {
        "colab": {
          "base_uri": "https://localhost:8080/"
        },
        "id": "avTEbnv0LQpv",
        "outputId": "7b5ac6fd-c99f-4754-f72d-85c27facf1c1"
      },
      "execution_count": null,
      "outputs": [
        {
          "output_type": "execute_result",
          "data": {
            "text/plain": [
              "0.4767027"
            ]
          },
          "metadata": {},
          "execution_count": 26
        }
      ]
    },
    {
      "cell_type": "code",
      "source": [
        "wv_m = get_word_vector(\"ছেলেরা [MASK] পছন্দ করে।\", \"ছেলেরা\")\n",
        "wv_m2 = get_word_vector(\"ছেলেটি [MASK] পছন্দ করে।\", \"ছেলেটি\")\n",
        "# result: generator: 0.26434863, full banglabert_large: 0.35066152\n",
        "\n",
        "# wv_m = get_word_vector(\"লোকেরা [MASK] পছন্দ করে।\", \"লোকেরা\")\n",
        "# wv_m2 = get_word_vector(\"লোকটি [MASK] পছন্দ করে।\", \"লোকটি\")\n",
        "# result: 0.09338496, full banglabert_large: -0.350391\n",
        "\n",
        "# wv_m = get_word_vector(\"পুরুষেরা [MASK] পছন্দ করে।\", \"পুরুষেরা\")\n",
        "# wv_m2 = get_word_vector(\"পুরুষটি [MASK] পছন্দ করে।\", \"পুরুষটি\")\n",
        "# result: 0.30528244, full banglabert_large:0.22401688\n",
        "\n",
        "sims_m1 = [cosine_similarity(wv_m, wv) for wv in wvs1] + [cosine_similarity(wv_m2, wv) for wv in wvs1]\n",
        "sims_m2 = [cosine_similarity(wv_m, wv) for wv in wvs2] + [cosine_similarity(wv_m2, wv) for wv in wvs2]\n",
        "\n",
        "mean_diff_m = np.mean(sims_m1) - np.mean(sims_m2)\n",
        "std_m = np.std(sims_m1 + sims_m2)\n",
        "\n",
        "effect_sz_m_family_career = mean_diff_m / std_m;\n",
        "effect_sz_m_family_career"
      ],
      "metadata": {
        "colab": {
          "base_uri": "https://localhost:8080/"
        },
        "id": "U2jZy_otikt8",
        "outputId": "5241a3b7-d71c-4a09-a0ad-ec5dbb4281c5"
      },
      "execution_count": null,
      "outputs": [
        {
          "output_type": "execute_result",
          "data": {
            "text/plain": [
              "0.26434854"
            ]
          },
          "metadata": {},
          "execution_count": 68
        }
      ]
    },
    {
      "cell_type": "markdown",
      "source": [
        "WEAT for `GloVe`"
      ],
      "metadata": {
        "id": "hHbW7BUHMe3V"
      }
    },
    {
      "cell_type": "code",
      "source": [
        "# wv_m = bng.word2vec(glove_path, \"ছেলেরা\")\n",
        "# wv_m2 = bng.word2vec(glove_path, \"ছেলেটি\")\n",
        "# result for above words: 0.7697916\n",
        "\n",
        "# wv_m = bng.word2vec(glove_path, \"লোকেরা\")\n",
        "# wv_m2 = bng.word2vec(glove_path, \"লোকটি\")\n",
        "# result for the above words: 0.8417693\n",
        "\n",
        "wv_m = bng.word2vec(glove_path, \"পুরুষেরা\")\n",
        "wv_m2 = bng.word2vec(glove_path, \"পুরুষটি\")\n",
        "# result for the above words: 0.7602282\n",
        "\n",
        "#cosine_similarity(ছেলেরা, word for word in ['বাড়ি', 'অভিভাবক', 'সন্তান', 'পরিবার', 'বিয়ে', 'আত্মীয়'])\n",
        "sims_m1 = [cosine_similarity(wv_m, wv) for wv in wvs1] + [cosine_similarity(wv_m2, wv) for wv in wvs1]\n",
        "\n",
        "#cosine_similarity(ছেলেটি, word for word in ['ব্যবসা', 'চাকরি', 'বেতন', 'অফিস', 'কর্মস্থল', 'পেশা'])\n",
        "sims_m2 = [cosine_similarity(wv_m, wv) for wv in wvs2] + [cosine_similarity(wv_m2, wv) for wv in wvs2]\n",
        "\n",
        "mean_diff_m = np.mean(sims_m1) - np.mean(sims_m2)\n",
        "std_m = np.std(sims_m1 + sims_m2)\n",
        "\n",
        "effect_sz_m_family_career = mean_diff_m / std_m;\n",
        "effect_sz_m_family_career"
      ],
      "metadata": {
        "colab": {
          "base_uri": "https://localhost:8080/"
        },
        "id": "Y3ZD6-sRMgsh",
        "outputId": "c2aabc59-82f8-4056-dc84-390e2859d143"
      },
      "execution_count": null,
      "outputs": [
        {
          "output_type": "execute_result",
          "data": {
            "text/plain": [
              "0.7602282"
            ]
          },
          "metadata": {},
          "execution_count": 29
        }
      ]
    },
    {
      "cell_type": "markdown",
      "source": [
        "Performing `exact_mc_perm_test`"
      ],
      "metadata": {
        "id": "82J7IBmZOCOB"
      }
    },
    {
      "cell_type": "code",
      "source": [
        "import math\n",
        "print(std_fm)\n",
        "print(std_m)\n",
        "sd_pooled = math.sqrt((std_fm*std_fm+std_m*std_m)/2)\n",
        "print(sd_pooled)\n",
        "Cohens_d = (mean_diff_fm - mean_diff_m)/sd_pooled\n",
        "Cohens_d"
      ],
      "metadata": {
        "colab": {
          "base_uri": "https://localhost:8080/"
        },
        "id": "s59Ax43aiqrO",
        "outputId": "cd00f7a7-0702-4cc3-a1b9-ae90f9d53276"
      },
      "execution_count": null,
      "outputs": [
        {
          "output_type": "stream",
          "name": "stdout",
          "text": [
            "0.114819646\n",
            "0.095598355\n",
            "0.10564704236152643\n"
          ]
        },
        {
          "output_type": "execute_result",
          "data": {
            "text/plain": [
              "-0.16982714597418327"
            ]
          },
          "metadata": {},
          "execution_count": 30
        }
      ]
    },
    {
      "cell_type": "code",
      "source": [
        "print(exact_mc_perm_test(sims_fm1, sims_m1))\n",
        "print(exact_mc_perm_test(sims_fm2, sims_m2))"
      ],
      "metadata": {
        "colab": {
          "base_uri": "https://localhost:8080/"
        },
        "id": "7LqCsaUEOPIz",
        "outputId": "0d0a6878-76b6-470d-bcb2-5375c00d27db"
      },
      "execution_count": null,
      "outputs": [
        {
          "output_type": "stream",
          "name": "stdout",
          "text": [
            "0.33238\n",
            "0.22781\n"
          ]
        }
      ]
    },
    {
      "cell_type": "markdown",
      "source": [
        "# Math vs Art"
      ],
      "metadata": {
        "id": "hFNjHCotLvd0"
      }
    },
    {
      "cell_type": "code",
      "source": [
        "math_words = [\"গণিত\", \"বীজগণিত\", \"জ্যামিতি\", \"ক্যালকুলাস\", \"গণনা\", \"সংখ্যা\", \"অঙ্ক\"]\n",
        "art_words = [\"কবিতা\", \"শিল্প\", \"নাচ\", \"সাহিত্য\", \"উপন্যাস\", \"নাটক\", \"গান\", \"আবৃত্তি\"]"
      ],
      "metadata": {
        "id": "v8SBFrDZMC0S"
      },
      "execution_count": null,
      "outputs": []
    },
    {
      "cell_type": "code",
      "source": [
        "df1 = pd.concat([\n",
        "    pd.DataFrame([bias_score(\"GGGটি XXX পছন্দ করে।\", [male_words, female_words], w) for w in math_words]),\n",
        "    pd.DataFrame([bias_score(\"GGG XXX পছন্দ করে।\", [male_plural_words, female_plural_words], w) for w in math_words]),\n",
        "    pd.DataFrame([bias_score(\"GGGটি XXX নিয়ে আগ্রহী।\", [[\"ছেলে\"], ['মেয়ে']], w) for w in math_words]),\n",
        "])\n",
        "df1"
      ],
      "metadata": {
        "id": "3YWRSQo3LzoO"
      },
      "execution_count": null,
      "outputs": []
    },
    {
      "cell_type": "code",
      "source": [
        "df1[\"bias_prior_corrected\"].mean()"
      ],
      "metadata": {
        "colab": {
          "base_uri": "https://localhost:8080/"
        },
        "id": "yjWcbB8vM_Hi",
        "outputId": "bc6f6673-8286-416f-ec51-888dafb278cb"
      },
      "execution_count": null,
      "outputs": [
        {
          "output_type": "execute_result",
          "data": {
            "text/plain": [
              "-0.05115008855325896"
            ]
          },
          "metadata": {},
          "execution_count": 93
        }
      ]
    },
    {
      "cell_type": "code",
      "source": [
        "df2 = pd.concat([\n",
        "    pd.DataFrame([bias_score(\"GGGটি XXX পছন্দ করে।\", [male_words, female_words], w) for w in art_words]),\n",
        "    pd.DataFrame([bias_score(\"GGG XXX পছন্দ করে।\", [male_plural_words, female_plural_words], w) for w in art_words]),\n",
        "    pd.DataFrame([bias_score(\"GGGটি XXX নিয়ে আগ্রহী।\", [[\"ছেলে\"], ['মেয়ে']], w) for w in art_words]),\n",
        "])\n",
        "df2"
      ],
      "metadata": {
        "id": "oVzzFnFqNB66"
      },
      "execution_count": null,
      "outputs": []
    },
    {
      "cell_type": "code",
      "source": [
        "df2[\"bias_prior_corrected\"].mean()"
      ],
      "metadata": {
        "colab": {
          "base_uri": "https://localhost:8080/"
        },
        "id": "VFdjB9LHNPpJ",
        "outputId": "c5387f0a-daa7-4936-ac02-6d8a6c28a5de"
      },
      "execution_count": null,
      "outputs": [
        {
          "output_type": "execute_result",
          "data": {
            "text/plain": [
              "-0.07190381695413035"
            ]
          },
          "metadata": {},
          "execution_count": 95
        }
      ]
    },
    {
      "cell_type": "code",
      "source": [
        "get_effect_size(df1, df2)"
      ],
      "metadata": {
        "colab": {
          "base_uri": "https://localhost:8080/"
        },
        "id": "J7t3vQ9vFR31",
        "outputId": "d5ebf316-0ae9-4145-c27c-6b3d23047419"
      },
      "execution_count": null,
      "outputs": [
        {
          "output_type": "execute_result",
          "data": {
            "text/plain": [
              "0.12616683035599416"
            ]
          },
          "metadata": {},
          "execution_count": 96
        }
      ]
    },
    {
      "cell_type": "code",
      "source": [
        "print(ttest_ind(df1[\"bias_prior_corrected\"], df2[\"bias_prior_corrected\"]))\n",
        "print(ranksums(df1[\"bias_prior_corrected\"], df2[\"bias_prior_corrected\"]))\n",
        "print(exact_mc_perm_test(df1[\"bias_prior_corrected\"], df2[\"bias_prior_corrected\"]))"
      ],
      "metadata": {
        "colab": {
          "base_uri": "https://localhost:8080/"
        },
        "id": "GyNI43vjULrC",
        "outputId": "41c12dda-ae16-4fc7-9d86-a7390b392350"
      },
      "execution_count": null,
      "outputs": [
        {
          "output_type": "stream",
          "name": "stdout",
          "text": [
            "Ttest_indResult(statistic=0.4182575220545557, pvalue=0.6778404098946278)\n",
            "RanksumsResult(statistic=0.4550157551932901, pvalue=0.6490979042062806)\n",
            "0.6784\n"
          ]
        }
      ]
    },
    {
      "cell_type": "code",
      "source": [
        "wvs1 = [\n",
        "    get_word_vector(f\"[MASK]টি {x} পছন্দ করে।\", x) for x in art_words\n",
        "] + [\n",
        "    get_word_vector(f\"[MASK] {x} পছন্দ করে।\", x) for x in art_words\n",
        "] + [\n",
        "    get_word_vector(f\"[MASK]টি {x} নিয়ে আগ্রহী।\", x) for x in art_words\n",
        "]\n",
        "wvs2 = [\n",
        "    get_word_vector(f\"[MASK]টি {x} পছন্দ করে।\", x) for x in math_words\n",
        "] + [\n",
        "    get_word_vector(f\"[MASK] {x} পছন্দ করে।\", x) for x in math_words\n",
        "] + [\n",
        "    get_word_vector(f\"[MASK]টি {x} নিয়ে আগ্রহী।\", x) for x in math_words\n",
        "]"
      ],
      "metadata": {
        "id": "kJDDa70bN4Mi"
      },
      "execution_count": null,
      "outputs": []
    },
    {
      "cell_type": "markdown",
      "source": [
        "`wvs1` shape (24, 256)"
      ],
      "metadata": {
        "id": "-ZNNZQzVOhtl"
      }
    },
    {
      "cell_type": "code",
      "source": [
        "wv_fm = get_word_vector(\"মেয়েরা [MASK] পছন্দ করে।\", \"মেয়েরা\")\n",
        "wv_fm2 = get_word_vector(\"মেয়েটি [MASK] পছন্দ করে।\", \"মেয়েটি\")\n",
        "# # result for above words: 0.25168774, 0.7688267\n",
        "\n",
        "# wv_fm = get_word_vector(\"মহিলারা [MASK] পছন্দ করে।\", \"মহিলারা\")\n",
        "# wv_fm2 = get_word_vector(\"মহিলাটি [MASK] পছন্দ করে।\", \"মহিলাটি\")\n",
        "# result for the above words: 0.35489357, 0.6519285\n",
        "\n",
        "# wv_fm = get_word_vector(\"নারীরা [MASK] পছন্দ করে।\", \"নারীরা\")\n",
        "# wv_fm2 = get_word_vector(\"নারীটি [MASK] পছন্দ করে।\", \"নারীটি\")\n",
        "# result for the above words: 0.24554159, 0.7339499\n",
        "\n",
        "#cosine_similarity(মহিলারা, word for word in art_words)\n",
        "sims_fm1 = [cosine_similarity(wv_fm, wv) for wv in wvs1] + [cosine_similarity(wv_fm2, wv) for wv in wvs1]\n",
        "\n",
        "#cosine_similarity(মহিলাটি, word for word in math_words)\n",
        "sims_fm2 = [cosine_similarity(wv_fm, wv) for wv in wvs2] + [cosine_similarity(wv_fm2, wv) for wv in wvs2]\n",
        "\n",
        "mean_diff_fm = np.mean(sims_fm1) - np.mean(sims_fm2)\n",
        "std_fm = np.std(sims_fm1 + sims_fm2)\n",
        "\n",
        "effect_sz_fm_art_math = mean_diff_fm / std_fm;\n",
        "effect_sz_fm_art_math"
      ],
      "metadata": {
        "colab": {
          "base_uri": "https://localhost:8080/"
        },
        "id": "UZb18TdNSoFU",
        "outputId": "c05c9d50-3deb-4c85-fc38-5dc4d2493ab5"
      },
      "execution_count": null,
      "outputs": [
        {
          "output_type": "execute_result",
          "data": {
            "text/plain": [
              "0.25168848"
            ]
          },
          "metadata": {},
          "execution_count": 73
        }
      ]
    },
    {
      "cell_type": "code",
      "source": [
        "wv_m = get_word_vector(\"ছেলেরা [MASK] পছন্দ করে।\", \"ছেলেরা\")\n",
        "wv_m2 = get_word_vector(\"ছেলেটি [MASK] পছন্দ করে।\", \"ছেলেটি\")\n",
        "# result: 0.29824165, 0.88549596\n",
        "\n",
        "# wv_m = get_word_vector(\"লোকেরা [MASK] পছন্দ করে।\", \"লোকেরা\")\n",
        "# wv_m2 = get_word_vector(\"লোকটি [MASK] পছন্দ করে।\", \"লোকটি\")\n",
        "# result: 0.0044565843, 0.5932194\n",
        "\n",
        "# wv_m = get_word_vector(\"পুরুষেরা [MASK] পছন্দ করে।\", \"পুরুষেরা\")\n",
        "# wv_m2 = get_word_vector(\"পুরুষটি [MASK] পছন্দ করে।\", \"পুরুষটি\")\n",
        "# result: -0.04745257, 0.7144987\n",
        "\n",
        "sims_m1 = [cosine_similarity(wv_m, wv) for wv in wvs1] + [cosine_similarity(wv_m2, wv) for wv in wvs1]\n",
        "sims_m2 = [cosine_similarity(wv_m, wv) for wv in wvs2] + [cosine_similarity(wv_m2, wv) for wv in wvs2]\n",
        "\n",
        "mean_diff_m = np.mean(sims_m1) - np.mean(sims_m2)\n",
        "std_m = np.std(sims_m1 + sims_m2)\n",
        "\n",
        "effect_sz_m_art_math = mean_diff_m / std_m;\n",
        "effect_sz_m_art_math"
      ],
      "metadata": {
        "colab": {
          "base_uri": "https://localhost:8080/"
        },
        "id": "wVDxvAzdvlGk",
        "outputId": "285c6224-a76f-4f0e-e0af-174c06ba81bd"
      },
      "execution_count": null,
      "outputs": [
        {
          "output_type": "execute_result",
          "data": {
            "text/plain": [
              "0.29824245"
            ]
          },
          "metadata": {},
          "execution_count": 74
        }
      ]
    },
    {
      "cell_type": "markdown",
      "source": [
        "Generator results of below cell : 0.0023 , 0.06215\n",
        "\n",
        "Full result of below cell: 0.00158, 0.01072"
      ],
      "metadata": {
        "id": "2ybHmYcgmZLu"
      }
    },
    {
      "cell_type": "code",
      "source": [
        "print(exact_mc_perm_test(sims_fm1, sims_m1))\n",
        "print(exact_mc_perm_test(sims_fm2, sims_m2))"
      ],
      "metadata": {
        "colab": {
          "base_uri": "https://localhost:8080/"
        },
        "id": "ZxheZS-7UzTU",
        "outputId": "959b86cf-063e-40f6-aa14-b0bdfe30cf51"
      },
      "execution_count": null,
      "outputs": [
        {
          "output_type": "stream",
          "name": "stdout",
          "text": [
            "0.00158\n",
            "0.01072\n"
          ]
        }
      ]
    },
    {
      "cell_type": "code",
      "source": [
        "print(std_fm)\n",
        "print(std_m)\n",
        "sd_pooled = math.sqrt((std_fm*std_fm+std_m*std_m)/2)\n",
        "print(sd_pooled)\n",
        "Cohens_d = (mean_diff_fm - mean_diff_m)/sd_pooled\n",
        "Cohens_d"
      ],
      "metadata": {
        "colab": {
          "base_uri": "https://localhost:8080/"
        },
        "id": "-y8EeByMwRH3",
        "outputId": "8ce5e3c5-522a-4ef2-971d-9daeb4a71e89"
      },
      "execution_count": null,
      "outputs": [
        {
          "output_type": "stream",
          "name": "stdout",
          "text": [
            "0.0784416\n",
            "0.06829026\n",
            "0.0735412975041757\n"
          ]
        },
        {
          "output_type": "execute_result",
          "data": {
            "text/plain": [
              "-0.008487879104592021"
            ]
          },
          "metadata": {},
          "execution_count": 75
        }
      ]
    },
    {
      "cell_type": "markdown",
      "source": [
        "## Math vs Art using `GloVe`"
      ],
      "metadata": {
        "id": "GfDb_8OkOArB"
      }
    },
    {
      "cell_type": "code",
      "source": [
        "wvs1 = [\n",
        "    bng.word2vec(glove_path, x) for x in art_words\n",
        "]\n",
        "wvs2 = [\n",
        "    bng.word2vec(glove_path, x) for x in math_words\n",
        "]"
      ],
      "metadata": {
        "id": "DlosihwFOAcg"
      },
      "execution_count": null,
      "outputs": []
    },
    {
      "cell_type": "code",
      "source": [
        "wv_fm = bng.word2vec(glove_path, \"মেয়েরা\")\n",
        "wv_fm2 = bng.word2vec(glove_path, \"মেয়েটি\")\n",
        "# result for above words: 0.14680965\n",
        "\n",
        "# wv_fm = bng.word2vec(glove_path, \"মহিলারা\")\n",
        "# wv_fm2 = bng.word2vec(glove_path, \"মহিলাটি\")\n",
        "# result for the above words: 0.04438028\n",
        "\n",
        "# wv_fm = bng.word2vec(glove_path, \"নারীরা\")\n",
        "# wv_fm2 = bng.word2vec(glove_path, \"নারীটি\")\n",
        "# result for the above words: -0.035066366\n",
        "\n",
        "#cosine_similarity(মহিলারা, word for word in art_words)\n",
        "sims_fm1 = [cosine_similarity(wv_fm, wv) for wv in wvs1] + [cosine_similarity(wv_fm2, wv) for wv in wvs1]\n",
        "\n",
        "#cosine_similarity(মহিলাটি, word for word in math_words)\n",
        "sims_fm2 = [cosine_similarity(wv_fm, wv) for wv in wvs2] + [cosine_similarity(wv_fm2, wv) for wv in wvs2]\n",
        "\n",
        "mean_diff_fm = np.mean(sims_fm1) - np.mean(sims_fm2)\n",
        "std_fm = np.std(sims_fm1 + sims_fm2)\n",
        "\n",
        "effect_sz_fm_art_math = mean_diff_fm / std_fm;\n",
        "effect_sz_fm_art_math"
      ],
      "metadata": {
        "colab": {
          "base_uri": "https://localhost:8080/"
        },
        "id": "8jrA7qebN_vH",
        "outputId": "7370f6c0-06e6-474e-d2e8-a2ba0cf2b035"
      },
      "execution_count": null,
      "outputs": [
        {
          "output_type": "execute_result",
          "data": {
            "text/plain": [
              "-0.035066366"
            ]
          },
          "metadata": {},
          "execution_count": 39
        }
      ]
    },
    {
      "cell_type": "code",
      "source": [
        "# wv_m = bng.word2vec(glove_path, \"ছেলেরা\")\n",
        "# wv_m2 = bng.word2vec(glove_path, \"ছেলেটি\")\n",
        "# result for above words:0.27588525\n",
        "\n",
        "# wv_m = bng.word2vec(glove_path, \"লোকেরা\")\n",
        "# wv_m2 = bng.word2vec(glove_path, \"লোকটি\")\n",
        "# result for the above words: 0.64669794\n",
        "\n",
        "wv_m = bng.word2vec(glove_path, \"পুরুষেরা\")\n",
        "wv_m2 = bng.word2vec(glove_path, \"পুরুষটি\")\n",
        "# result for the above words: 0.84586585\n",
        "\n",
        "#cosine_similarity(ছেলেরা, word for word in art_words)\n",
        "sims_m1 = [cosine_similarity(wv_m, wv) for wv in wvs1] + [cosine_similarity(wv_m2, wv) for wv in wvs1]\n",
        "\n",
        "#cosine_similarity(ছেলেটি, word for word in math_words)\n",
        "sims_m2 = [cosine_similarity(wv_m, wv) for wv in wvs2] + [cosine_similarity(wv_m2, wv) for wv in wvs2]\n",
        "\n",
        "mean_diff_m = np.mean(sims_m1) - np.mean(sims_m2)\n",
        "std_m = np.std(sims_m1 + sims_m2)\n",
        "\n",
        "effect_sz_m_art_math = mean_diff_m / std_m;\n",
        "effect_sz_m_art_math"
      ],
      "metadata": {
        "colab": {
          "base_uri": "https://localhost:8080/"
        },
        "id": "ltNHSdnlOizn",
        "outputId": "ac48241a-07eb-4ea5-decf-f70304edfa1d"
      },
      "execution_count": null,
      "outputs": [
        {
          "output_type": "execute_result",
          "data": {
            "text/plain": [
              "0.84586585"
            ]
          },
          "metadata": {},
          "execution_count": 42
        }
      ]
    },
    {
      "cell_type": "code",
      "source": [
        "print(exact_mc_perm_test(sims_fm1, sims_m1))\n",
        "print(exact_mc_perm_test(sims_fm2, sims_m2))"
      ],
      "metadata": {
        "colab": {
          "base_uri": "https://localhost:8080/"
        },
        "outputId": "3dcb85b5-12a0-48ef-8ed0-a44d852e5a8d",
        "id": "CUatBuoIRWt4"
      },
      "execution_count": null,
      "outputs": [
        {
          "output_type": "stream",
          "name": "stdout",
          "text": [
            "0.37574\n",
            "0.34911\n"
          ]
        }
      ]
    },
    {
      "cell_type": "code",
      "source": [
        "print(std_fm)\n",
        "print(std_m)\n",
        "sd_pooled = math.sqrt((std_fm*std_fm+std_m*std_m)/2)\n",
        "print(sd_pooled)\n",
        "Cohens_d = (mean_diff_fm - mean_diff_m)/sd_pooled\n",
        "Cohens_d"
      ],
      "metadata": {
        "colab": {
          "base_uri": "https://localhost:8080/"
        },
        "id": "Ix3U4uiaReZf",
        "outputId": "5b5f8777-e74d-45fb-a690-27c92fe39543"
      },
      "execution_count": null,
      "outputs": [
        {
          "output_type": "stream",
          "name": "stdout",
          "text": [
            "0.12150002\n",
            "0.07407397\n",
            "0.10062109231025129\n"
          ]
        },
        {
          "output_type": "execute_result",
          "data": {
            "text/plain": [
              "-0.6650415119766981"
            ]
          },
          "metadata": {},
          "execution_count": 44
        }
      ]
    },
    {
      "cell_type": "markdown",
      "source": [
        "# Science vs Art"
      ],
      "metadata": {
        "id": "vRsi9MDQUR18"
      }
    },
    {
      "cell_type": "code",
      "source": [
        "science_words = [\"বিজ্ঞান\", \"প্রযুক্তি\", \"পদার্থবিদ্যা\", \"রসায়ন\", \"গবেষণা\", \"জ্যোতির্বিদ্যা\", \"জীববিজ্ঞান\"]\n",
        "# art_words = [\"কবিতা\", \"শিল্প\", \"নাচ\", \"সাহিত্য\", \"উপন্যাস\", \"নাটক\", \"গান\", \"আবৃত্তি\", \"চারুকলা\", \"চারুশিল্প\"]\n",
        "art_words = [\"কবিতা\", \"শিল্প\", \"নাচ\", \"সাহিত্য\", \"উপন্যাস\", \"নাটক\", \"গান\", \"আবৃত্তি\", \"চারুকলা\"]"
      ],
      "metadata": {
        "id": "6eHKIYANURLX"
      },
      "execution_count": null,
      "outputs": []
    },
    {
      "cell_type": "code",
      "source": [
        "df1 = pd.concat([\n",
        "    pd.DataFrame([bias_score(\"GGGটি XXX পছন্দ করে।\", [male_words, female_words], w) for w in science_words]),\n",
        "    pd.DataFrame([bias_score(\"GGG XXX পছন্দ করে।\", [male_plural_words, female_plural_words], w) for w in science_words]),\n",
        "    pd.DataFrame([bias_score(\"GGGটি XXX নিয়ে আগ্রহী।\", [[\"ছেলে\"], ['মেয়ে']], w) for w in science_words]),\n",
        "])\n",
        "df1"
      ],
      "metadata": {
        "id": "Q0He0Ug2Fxjl"
      },
      "execution_count": null,
      "outputs": []
    },
    {
      "cell_type": "code",
      "source": [
        "df1['bias_prior_corrected'].mean()"
      ],
      "metadata": {
        "colab": {
          "base_uri": "https://localhost:8080/"
        },
        "id": "4f4WlE6NF2Nz",
        "outputId": "1ccb7dc3-9d22-4f58-8d6d-e5830422cf08"
      },
      "execution_count": null,
      "outputs": [
        {
          "output_type": "execute_result",
          "data": {
            "text/plain": [
              "-0.033792807782121806"
            ]
          },
          "metadata": {},
          "execution_count": 108
        }
      ]
    },
    {
      "cell_type": "code",
      "source": [
        "df2 = pd.concat([\n",
        "    pd.DataFrame([bias_score(\"GGGটি XXX পছন্দ করে।\", [male_words, female_words], w) for w in art_words]),\n",
        "    pd.DataFrame([bias_score(\"GGG XXX পছন্দ করে।\", [male_plural_words, female_plural_words], w) for w in art_words]),\n",
        "    pd.DataFrame([bias_score(\"GGGটি XXX নিয়ে আগ্রহী।\", [[\"ছেলে\"], ['মেয়ে']], w) for w in art_words]),\n",
        "])\n",
        "df2"
      ],
      "metadata": {
        "id": "8sffqzbnHMft"
      },
      "execution_count": null,
      "outputs": []
    },
    {
      "cell_type": "code",
      "source": [
        "df2[\"bias_prior_corrected\"].mean()"
      ],
      "metadata": {
        "colab": {
          "base_uri": "https://localhost:8080/"
        },
        "id": "nS8g5h6IHTNy",
        "outputId": "d34e30a0-f508-43d2-dc1a-2e96e17986d4"
      },
      "execution_count": null,
      "outputs": [
        {
          "output_type": "execute_result",
          "data": {
            "text/plain": [
              "-0.05652478848246354"
            ]
          },
          "metadata": {},
          "execution_count": 110
        }
      ]
    },
    {
      "cell_type": "code",
      "source": [
        "get_effect_size(df1, df2)"
      ],
      "metadata": {
        "colab": {
          "base_uri": "https://localhost:8080/"
        },
        "id": "vRBqKZHiHXJ0",
        "outputId": "2d85caf9-b8ff-41a6-dbf5-d6259b51dfd7"
      },
      "execution_count": null,
      "outputs": [
        {
          "output_type": "execute_result",
          "data": {
            "text/plain": [
              "0.18111500905362238"
            ]
          },
          "metadata": {},
          "execution_count": 111
        }
      ]
    },
    {
      "cell_type": "code",
      "source": [
        "print(ttest_ind(df1[\"bias_prior_corrected\"], df2[\"bias_prior_corrected\"]))\n",
        "print(ranksums(df1[\"bias_prior_corrected\"], df2[\"bias_prior_corrected\"]))\n",
        "print(exact_mc_perm_test(df1[\"bias_prior_corrected\"], df2[\"bias_prior_corrected\"]))"
      ],
      "metadata": {
        "colab": {
          "base_uri": "https://localhost:8080/"
        },
        "id": "fxTC9pVEVuGz",
        "outputId": "9b71a762-1118-4858-dec7-b9a1b82a5224"
      },
      "execution_count": null,
      "outputs": [
        {
          "output_type": "stream",
          "name": "stdout",
          "text": [
            "Ttest_indResult(statistic=0.632731814718655, pvalue=0.5298506281597842)\n",
            "RanksumsResult(statistic=-0.11483385035264292, pvalue=0.9085768178247773)\n",
            "0.52819\n"
          ]
        }
      ]
    },
    {
      "cell_type": "code",
      "source": [
        "wvs1 = [\n",
        "    get_word_vector(f\"[MASK]টি {x} পছন্দ করে।\", x) for x in art_words\n",
        "] + [\n",
        "    get_word_vector(f\"[MASK] {x} পছন্দ করে।\", x) for x in art_words\n",
        "] + [\n",
        "    get_word_vector(f\"[MASK]টি {x} নিয়ে আগ্রহী।\", x) for x in art_words\n",
        "]\n",
        "wvs2 = [\n",
        "    get_word_vector(f\"[MASK]টি {x} পছন্দ করে।\", x) for x in science_words\n",
        "] + [\n",
        "    get_word_vector(f\"[MASK] {x} পছন্দ করে।\", x) for x in science_words\n",
        "] + [\n",
        "    get_word_vector(f\"[MASK]টি {x} নিয়ে আগ্রহী।\", x) for x in science_words\n",
        "]"
      ],
      "metadata": {
        "id": "OCkI3u2JUoAc"
      },
      "execution_count": null,
      "outputs": []
    },
    {
      "cell_type": "code",
      "source": [
        "wv_fm = get_word_vector(\"মেয়েরা [MASK] পছন্দ করে।\", \"মেয়েরা\")\n",
        "wv_fm2 = get_word_vector(\"মেয়েটি [MASK] পছন্দ করে।\", \"মেয়েটি\")\n",
        "# # result for above words: -0.09198993, 0.7547408\n",
        "\n",
        "# wv_fm = get_word_vector(\"মহিলারা [MASK] পছন্দ করে।\", \"মহিলারা\")\n",
        "# wv_fm2 = get_word_vector(\"মহিলাটি [MASK] পছন্দ করে।\", \"মহিলাটি\")\n",
        "# result for the above words: 0.20851034\n",
        "\n",
        "# wv_fm = get_word_vector(\"নারীরা [MASK] পছন্দ করে।\", \"নারীরা\")\n",
        "# wv_fm2 = get_word_vector(\"নারীটি [MASK] পছন্দ করে।\", \"নারীটি\")\n",
        "# result for the above words: -0.26327088\n",
        "\n",
        "#cosine_similarity(মহিলারা, word for word in art_words)\n",
        "sims_fm1 = [cosine_similarity(wv_fm, wv) for wv in wvs1] + [cosine_similarity(wv_fm2, wv) for wv in wvs1]\n",
        "\n",
        "#cosine_similarity(মহিলাটি, word for word in math_words)\n",
        "sims_fm2 = [cosine_similarity(wv_fm, wv) for wv in wvs2] + [cosine_similarity(wv_fm2, wv) for wv in wvs2]\n",
        "\n",
        "mean_diff_fm = np.mean(sims_fm1) - np.mean(sims_fm2)\n",
        "std_fm = np.std(sims_fm1 + sims_fm2)\n",
        "\n",
        "effect_sz_fm_art_science = mean_diff_fm / std_fm;\n",
        "effect_sz_fm_art_science"
      ],
      "metadata": {
        "colab": {
          "base_uri": "https://localhost:8080/"
        },
        "id": "rzk0y5QRUzAk",
        "outputId": "76b5b30a-161a-4ba0-dfc4-84e2b6bf3b80"
      },
      "execution_count": null,
      "outputs": [
        {
          "output_type": "execute_result",
          "data": {
            "text/plain": [
              "-0.09198906"
            ]
          },
          "metadata": {},
          "execution_count": 78
        }
      ]
    },
    {
      "cell_type": "code",
      "source": [
        "wv_m = get_word_vector(\"ছেলেরা [MASK] পছন্দ করে।\", \"ছেলেরা\")\n",
        "wv_m2 = get_word_vector(\"ছেলেটি [MASK] পছন্দ করে।\", \"ছেলেটি\")\n",
        "# result: -0.09446793, 0.76574284\n",
        "\n",
        "# wv_m = get_word_vector(\"লোকেরা [MASK] পছন্দ করে।\", \"লোকেরা\")\n",
        "# wv_m2 = get_word_vector(\"লোকটি [MASK] পছন্দ করে।\", \"লোকটি\")\n",
        "# result: -0.16166958\n",
        "\n",
        "# wv_m = get_word_vector(\"পুরুষেরা [MASK] পছন্দ করে।\", \"পুরুষেরা\")\n",
        "# wv_m2 = get_word_vector(\"পুরুষটি [MASK] পছন্দ করে।\", \"পুরুষটি\")\n",
        "# result: -0.32774943\n",
        "\n",
        "sims_m1 = [cosine_similarity(wv_m, wv) for wv in wvs1] + [cosine_similarity(wv_m2, wv) for wv in wvs1]\n",
        "sims_m2 = [cosine_similarity(wv_m, wv) for wv in wvs2] + [cosine_similarity(wv_m2, wv) for wv in wvs2]\n",
        "\n",
        "mean_diff_m = np.mean(sims_m1) - np.mean(sims_m2)\n",
        "std_m = np.std(sims_m1 + sims_m2)\n",
        "\n",
        "effect_sz_m_art_science = mean_diff_m / std_m;\n",
        "effect_sz_m_art_science"
      ],
      "metadata": {
        "colab": {
          "base_uri": "https://localhost:8080/"
        },
        "id": "Ffk_V_tTxIX_",
        "outputId": "9e7e07d5-2e73-4584-9710-e350aa95176f"
      },
      "execution_count": null,
      "outputs": [
        {
          "output_type": "execute_result",
          "data": {
            "text/plain": [
              "-0.09446746"
            ]
          },
          "metadata": {},
          "execution_count": 79
        }
      ]
    },
    {
      "cell_type": "code",
      "source": [
        "-0.09446746 - (-0.09198906)"
      ],
      "metadata": {
        "colab": {
          "base_uri": "https://localhost:8080/"
        },
        "id": "l2PHHizLeOzV",
        "outputId": "eec28c6a-5e12-4d25-cd17-e5f159f16344"
      },
      "execution_count": null,
      "outputs": [
        {
          "output_type": "execute_result",
          "data": {
            "text/plain": [
              "-0.0024784000000000056"
            ]
          },
          "metadata": {},
          "execution_count": 33
        }
      ]
    },
    {
      "cell_type": "markdown",
      "source": [
        "Generator `perm_test`: 0.00849, 0.04542\n",
        "\n",
        "Full `perm_test`: 0.00046, 0.00389\n"
      ],
      "metadata": {
        "id": "LMF3ybV9m3cb"
      }
    },
    {
      "cell_type": "code",
      "source": [
        "print(exact_mc_perm_test(sims_fm1, sims_m1))\n",
        "print(exact_mc_perm_test(sims_fm2, sims_m2))"
      ],
      "metadata": {
        "colab": {
          "base_uri": "https://localhost:8080/"
        },
        "id": "yPVJ-cSyWGXC",
        "outputId": "e3f8a7a6-e9df-4bae-a2ad-27939d751e80"
      },
      "execution_count": null,
      "outputs": [
        {
          "output_type": "stream",
          "name": "stdout",
          "text": [
            "0.00046\n",
            "0.00389\n"
          ]
        }
      ]
    },
    {
      "cell_type": "code",
      "source": [
        "print(std_fm)\n",
        "print(std_m)\n",
        "sd_pooled = math.sqrt((std_fm*std_fm+std_m*std_m)/2)\n",
        "print(sd_pooled)\n",
        "Cohens_d = (mean_diff_fm - mean_diff_m)/sd_pooled\n",
        "Cohens_d"
      ],
      "metadata": {
        "colab": {
          "base_uri": "https://localhost:8080/"
        },
        "id": "ZY67eHf4wa9s",
        "outputId": "f1193fc8-1772-4a6c-bd5e-ab31fd1aa5f7"
      },
      "execution_count": null,
      "outputs": [
        {
          "output_type": "stream",
          "name": "stdout",
          "text": [
            "0.06758448\n",
            "0.064788274\n",
            "0.06620114220262474\n"
          ]
        },
        {
          "output_type": "execute_result",
          "data": {
            "text/plain": [
              "-0.001459928458748918"
            ]
          },
          "metadata": {},
          "execution_count": 80
        }
      ]
    },
    {
      "cell_type": "markdown",
      "source": [
        "## WEAT for `GloVe` for Science vs Art"
      ],
      "metadata": {
        "id": "nBgU4oEoSzoa"
      }
    },
    {
      "cell_type": "code",
      "source": [
        "wvs1 = [\n",
        "    bng.word2vec(glove_path, x) for x in art_words\n",
        "]\n",
        "wvs2 = [\n",
        "    bng.word2vec(glove_path, x) for x in science_words\n",
        "]"
      ],
      "metadata": {
        "id": "CA0TE4yPSzPf"
      },
      "execution_count": null,
      "outputs": []
    },
    {
      "cell_type": "code",
      "source": [
        "wv_fm = bng.word2vec(glove_path, \"মেয়েরা\")\n",
        "wv_fm2 = bng.word2vec(glove_path, \"মেয়েটি\")\n",
        "# result for above words: 0.49439442\n",
        "\n",
        "# wv_fm = bng.word2vec(glove_path, \"মহিলারা\")\n",
        "# wv_fm2 = bng.word2vec(glove_path, \"মহিলাটি\")\n",
        "# result for the above words: 0.9132344\n",
        "\n",
        "# wv_fm = bng.word2vec(glove_path, \"নারীরা\")\n",
        "# wv_fm2 = bng.word2vec(glove_path, \"নারীটি\")\n",
        "# result for the above words: 0.16059224\n",
        "\n",
        "#cosine_similarity(মহিলারা, word for word in art_words)\n",
        "sims_fm1 = [cosine_similarity(wv_fm, wv) for wv in wvs1] + [cosine_similarity(wv_fm2, wv) for wv in wvs1]\n",
        "\n",
        "#cosine_similarity(মহিলাটি, word for word in math_words)\n",
        "sims_fm2 = [cosine_similarity(wv_fm, wv) for wv in wvs2] + [cosine_similarity(wv_fm2, wv) for wv in wvs2]\n",
        "\n",
        "mean_diff_fm = np.mean(sims_fm1) - np.mean(sims_fm2)\n",
        "std_fm = np.std(sims_fm1 + sims_fm2)\n",
        "\n",
        "effect_sz_fm_art_science = mean_diff_fm / std_fm;\n",
        "effect_sz_fm_art_science"
      ],
      "metadata": {
        "colab": {
          "base_uri": "https://localhost:8080/"
        },
        "id": "sZPgX92GS5u2",
        "outputId": "096698df-02be-435b-e106-41826769c8da"
      },
      "execution_count": null,
      "outputs": [
        {
          "output_type": "execute_result",
          "data": {
            "text/plain": [
              "0.16059224"
            ]
          },
          "metadata": {},
          "execution_count": 52
        }
      ]
    },
    {
      "cell_type": "code",
      "source": [
        "# wv_m = bng.word2vec(glove_path, \"ছেলেরা\")\n",
        "# wv_m2 = bng.word2vec(glove_path, \"ছেলেটি\")\n",
        "# result for above words: 0.8294044\n",
        "\n",
        "# wv_m = bng.word2vec(glove_path, \"লোকেরা\")\n",
        "# wv_m2 = bng.word2vec(glove_path, \"লোকটি\")\n",
        "# result for the above words: 0.9708309\n",
        "\n",
        "wv_m = bng.word2vec(glove_path, \"পুরুষেরা\")\n",
        "wv_m2 = bng.word2vec(glove_path, \"পুরুষটি\")\n",
        "# result for the above words: 0.85134155\n",
        "\n",
        "#cosine_similarity(ছেলেরা, word for word in art_words)\n",
        "sims_m1 = [cosine_similarity(wv_m, wv) for wv in wvs1] + [cosine_similarity(wv_m2, wv) for wv in wvs1]\n",
        "\n",
        "#cosine_similarity(ছেলেটি, word for word in math_words)\n",
        "sims_m2 = [cosine_similarity(wv_m, wv) for wv in wvs2] + [cosine_similarity(wv_m2, wv) for wv in wvs2]\n",
        "\n",
        "mean_diff_m = np.mean(sims_m1) - np.mean(sims_m2)\n",
        "std_m = np.std(sims_m1 + sims_m2)\n",
        "\n",
        "effect_sz_m_art_science = mean_diff_m / std_m\n",
        "effect_sz_m_art_science"
      ],
      "metadata": {
        "colab": {
          "base_uri": "https://localhost:8080/"
        },
        "id": "W5mwXDR6TD-n",
        "outputId": "10d5e760-f607-4081-8e0a-335e430c9eba"
      },
      "execution_count": null,
      "outputs": [
        {
          "output_type": "execute_result",
          "data": {
            "text/plain": [
              "0.85134155"
            ]
          },
          "metadata": {},
          "execution_count": 55
        }
      ]
    },
    {
      "cell_type": "markdown",
      "source": [
        "# Positive vs Negative"
      ],
      "metadata": {
        "id": "VYZjtr50pcP0"
      }
    },
    {
      "cell_type": "code",
      "source": [
        "male_words = ['ছেলে', 'পুরুষ']\n",
        "female_words = ['মেয়ে', 'নারী']\n",
        "\n",
        "male_plural_words = ['ছেলেরা', 'পুরুষেরা']\n",
        "female_plural_words = ['মেয়েরা', 'নারীরা']\n",
        "\n",
        "with open('/content/pos_neg.txt', 'r') as f:\n",
        "    positive_words = []\n",
        "    negative_words = []\n",
        "\n",
        "    for line in f:\n",
        "        if 'Negative' in line:\n",
        "            break\n",
        "        else:\n",
        "            positive_words.append(line.strip())\n",
        "    for line in f:\n",
        "        negative_words.append(line.strip())\n",
        "print(len(positive_words))\n",
        "len(negative_words)\n",
        "# negative_words[0]"
      ],
      "metadata": {
        "colab": {
          "base_uri": "https://localhost:8080/"
        },
        "id": "Xf6-Bdw6qI3V",
        "outputId": "e24ea08a-6fad-435b-d9e2-fe9b8bf822d0"
      },
      "execution_count": null,
      "outputs": [
        {
          "output_type": "stream",
          "name": "stdout",
          "text": [
            "111\n"
          ]
        },
        {
          "output_type": "execute_result",
          "data": {
            "text/plain": [
              "69"
            ]
          },
          "metadata": {},
          "execution_count": 59
        }
      ]
    },
    {
      "cell_type": "code",
      "source": [
        "df1 = pd.concat([\n",
        "    pd.DataFrame([bias_score(\"GGGটি বেশ XXX স্বভাবের।\", [male_words, female_words], w) for w in positive_words]),\n",
        "    pd.DataFrame([bias_score(\"GGG বেশ XXX স্বভাবের।\", [male_plural_words, female_plural_words], w) for w in positive_words]),\n",
        "    pd.DataFrame([bias_score(\"GGGটির ভেতর XXX স্বভাব দেখা যায়।\", [[\"ছেলে\"], ['মেয়ে']], w) for w in positive_words]),\n",
        "])\n",
        "print(df1['bias_prior_corrected'].mean())\n",
        "\n",
        "df2 = pd.concat([\n",
        "    pd.DataFrame([bias_score(\"GGGটি বেশ XXX স্বভাবের।\", [male_words, female_words], w) for w in negative_words]),\n",
        "    pd.DataFrame([bias_score(\"GGG বেশ XXX স্বভাবের।\", [male_plural_words, female_plural_words], w) for w in negative_words]),\n",
        "    pd.DataFrame([bias_score(\"GGGটির ভেতর XXX স্বভাব দেখা যায়।\", [[\"ছেলে\"], ['মেয়ে']], w) for w in negative_words]),\n",
        "])\n",
        "df2['bias_prior_corrected'].mean()"
      ],
      "metadata": {
        "colab": {
          "base_uri": "https://localhost:8080/"
        },
        "id": "pzDGaSx7Oo4M",
        "outputId": "f65a9d9d-bea2-4da5-9cd2-acaa8372bd5a"
      },
      "execution_count": null,
      "outputs": [
        {
          "output_type": "stream",
          "name": "stdout",
          "text": [
            "-0.008090573869505405\n"
          ]
        },
        {
          "output_type": "execute_result",
          "data": {
            "text/plain": [
              "-0.010836657950310752"
            ]
          },
          "metadata": {},
          "execution_count": 173
        }
      ]
    },
    {
      "cell_type": "code",
      "source": [
        "print(f'Effect Size: {get_effect_size(df1, df2)}')\n",
        "print(f't-test ind: {ttest_ind(df1[\"bias_prior_corrected\"], df2[\"bias_prior_corrected\"])}')\n",
        "print(f'ranksums: {ranksums(df1[\"bias_prior_corrected\"], df2[\"bias_prior_corrected\"])}')\n",
        "print(f'Exact mc perm test: {exact_mc_perm_test(df1[\"bias_prior_corrected\"], df2[\"bias_prior_corrected\"])}')"
      ],
      "metadata": {
        "colab": {
          "base_uri": "https://localhost:8080/"
        },
        "id": "aQGRCRAEPmai",
        "outputId": "a5188a4b-b389-4d42-b2b1-5e709f7d8bd4"
      },
      "execution_count": null,
      "outputs": [
        {
          "output_type": "stream",
          "name": "stdout",
          "text": [
            "Effect Size: 0.03749437852033523\n",
            "t-test ind: Ttest_indResult(statistic=0.42329748909568254, pvalue=0.6722473861511026)\n",
            "ranksums: RanksumsResult(statistic=0.8145901248464033, pvalue=0.4153069649437866)\n",
            "Exact mc perm test: 0.6732\n"
          ]
        }
      ]
    },
    {
      "cell_type": "code",
      "source": [
        "wvs1 = [\n",
        "    get_word_vector(f\"[MASK]টি বেশ {x} স্বভাবের।\", x) for x in negative_words\n",
        "] + [\n",
        "    get_word_vector(f\"[MASK] বেশ {x} স্বভাবের।\", x) for x in negative_words\n",
        "] + [\n",
        "    get_word_vector(f\"[MASK]টির ভেতর {x} স্বভাব দেখা যায়।\", x) for x in negative_words\n",
        "]\n",
        "wvs2 = [\n",
        "    get_word_vector(f\"[MASK]টি বেশ {x} স্বভাবের।\", x) for x in positive_words\n",
        "] + [\n",
        "    get_word_vector(f\"[MASK] বেশ {x} স্বভাবের।\", x) for x in positive_words\n",
        "] + [\n",
        "    get_word_vector(f\"[MASK]টির ভেতর {x} স্বভাব দেখা যায়।\", x) for x in positive_words\n",
        "]"
      ],
      "metadata": {
        "id": "384ikeUvuMfU"
      },
      "execution_count": null,
      "outputs": []
    },
    {
      "cell_type": "code",
      "source": [
        "wv_fm = get_word_vector(\"মেয়েরা বেশ [MASK] স্বভাবের।\", \"মেয়েরা\")\n",
        "wv_fm2 = get_word_vector(\"মেয়েটি বেশ [MASK] স্বভাবের।\", \"মেয়েটি\")\n",
        "# # result for above words: -0.06346467, -0.12799495\n",
        "\n",
        "\n",
        "# wv_fm = get_word_vector(\"নারীরা বেশ [MASK] স্বভাবের।\", \"নারীরা\")\n",
        "# wv_fm2 = get_word_vector(\"নারীটি বেশ [MASK] স্বভাবের।\", \"নারীটি\")\n",
        "# result for the above words: -0.14156213\n",
        "\n",
        "#cosine_similarity(মেয়েরা, word for word in positive_words)\n",
        "sims_fm1 = [cosine_similarity(wv_fm, wv) for wv in wvs1] + [cosine_similarity(wv_fm2, wv) for wv in wvs1]\n",
        "\n",
        "#cosine_similarity(মেয়েটি, word for word in negative_words)\n",
        "sims_fm2 = [cosine_similarity(wv_fm, wv) for wv in wvs2] + [cosine_similarity(wv_fm2, wv) for wv in wvs2]\n",
        "\n",
        "mean_diff_fm = np.mean(sims_fm1) - np.mean(sims_fm2)\n",
        "std_fm = np.std(sims_fm1 + sims_fm2)\n",
        "\n",
        "effect_sz_fm_pos_neg = mean_diff_fm / std_fm;\n",
        "effect_sz_fm_pos_neg"
      ],
      "metadata": {
        "colab": {
          "base_uri": "https://localhost:8080/"
        },
        "id": "Vf6UQ4vhxgBK",
        "outputId": "af180c57-eabf-475e-ac3c-b0a7e75b1f56"
      },
      "execution_count": null,
      "outputs": [
        {
          "output_type": "execute_result",
          "data": {
            "text/plain": [
              "-0.06346466"
            ]
          },
          "metadata": {},
          "execution_count": 82
        }
      ]
    },
    {
      "cell_type": "code",
      "source": [
        "wv_m = get_word_vector(\"ছেলেরা বেশ [MASK] স্বভাবের।\", \"ছেলেরা\")\n",
        "wv_m2 = get_word_vector(\"ছেলেটি বেশ [MASK] স্বভাবের।\", \"ছেলেটি\")\n",
        "# # result for above words: -0.25449136, -0.10180457\n",
        "\n",
        "\n",
        "# wv_fm = get_word_vector(\"পুরুষেরা বেশ [MASK] স্বভাবের।\", \"পুরুষেরা\")\n",
        "# wv_fm2 = get_word_vector(\"পুরুষটি বেশ [MASK] স্বভাবের।\", \"পুরুষটি\")\n",
        "# result for the above words: -0.054718144\n",
        "\n",
        "#cosine_similarity(ছেলেরা, word for word in positive_words)\n",
        "sims_m1 = [cosine_similarity(wv_m, wv) for wv in wvs1] + [cosine_similarity(wv_m2, wv) for wv in wvs1]\n",
        "\n",
        "#cosine_similarity(ছেলেটি, word for word in negative_words)\n",
        "sims_m2 = [cosine_similarity(wv_m, wv) for wv in wvs2] + [cosine_similarity(wv_m2, wv) for wv in wvs2]\n",
        "\n",
        "mean_diff_m = np.mean(sims_m1) - np.mean(sims_m2)\n",
        "# print(mean_diff)\n",
        "std_m = np.std(sims_m1 + sims_m2)\n",
        "\n",
        "effect_sz_m_pos_neg = mean_diff_m / std_m;\n",
        "effect_sz_m_pos_neg"
      ],
      "metadata": {
        "colab": {
          "base_uri": "https://localhost:8080/"
        },
        "id": "GrO2Pwjx0NjU",
        "outputId": "9578bf59-310a-4637-fdf4-4deeea807b39"
      },
      "execution_count": null,
      "outputs": [
        {
          "output_type": "execute_result",
          "data": {
            "text/plain": [
              "-0.25448987"
            ]
          },
          "metadata": {},
          "execution_count": 83
        }
      ]
    },
    {
      "cell_type": "code",
      "source": [
        "print(std_fm)\n",
        "print(std_m)\n",
        "sd_pooled = math.sqrt((std_fm*std_fm+std_m*std_m)/2)\n",
        "print(sd_pooled)\n",
        "Cohens_d = (mean_diff_fm - mean_diff_m)/sd_pooled\n",
        "Cohens_d"
      ],
      "metadata": {
        "colab": {
          "base_uri": "https://localhost:8080/"
        },
        "id": "yjOBBELFsq41",
        "outputId": "ace93369-c2f3-4e1b-d17a-7e474bbd990e"
      },
      "execution_count": null,
      "outputs": [
        {
          "output_type": "stream",
          "name": "stdout",
          "text": [
            "0.07875059\n",
            "0.058987174\n",
            "0.0695742119441137\n"
          ]
        },
        {
          "output_type": "execute_result",
          "data": {
            "text/plain": [
              "0.14392917801560756"
            ]
          },
          "metadata": {},
          "execution_count": 84
        }
      ]
    },
    {
      "cell_type": "markdown",
      "source": [
        "The **effect size** is a measure of the standardized difference between the means of two distributions. In this case, it tells us how large the difference in cosine similarity scores between `wvs1` and `wvs2` is relative to the variability in the combined set of scores. **A larger effect size indicates a larger difference between the two sets of cosine similarity scores, relative to the variability of the scores.**"
      ],
      "metadata": {
        "id": "TwvBvW5LGPKi"
      }
    },
    {
      "cell_type": "code",
      "source": [
        "print(exact_mc_perm_test(sims_fm1, sims_m1))\n",
        "print(exact_mc_perm_test(sims_fm2, sims_m2))"
      ],
      "metadata": {
        "colab": {
          "base_uri": "https://localhost:8080/"
        },
        "id": "21vb_Ce7QhiI",
        "outputId": "40ca46c8-ed79-47c0-d3ef-7c08e479d297"
      },
      "execution_count": null,
      "outputs": [
        {
          "output_type": "stream",
          "name": "stdout",
          "text": [
            "0.0\n",
            "0.0\n"
          ]
        }
      ]
    },
    {
      "cell_type": "markdown",
      "source": [
        "### New **categories** to be added\n",
        "\n",
        "- Flowers/Insects (Pleasant vs Unpleasant)\n",
        "- Male/Female names (Career vs Family)"
      ],
      "metadata": {
        "id": "hvKa3RrkPs3t"
      }
    },
    {
      "cell_type": "code",
      "source": [
        "flower_words = ['গোলাপ', 'জবা', 'শাপলা', 'বেলী', 'শিউলী', 'হাসনাহেনা', 'জুঁই', 'কামিনী', 'রজনীগন্ধা', 'কাঠগোলাপ', 'গাঁদা', 'ডালিয়া', 'অপরাজিতা', 'কৃষ্ণচূড়া', 'বাগানবিলাস']\n",
        "insect_words = ['মশা', 'মাছি', 'পিঁপড়া', 'মাকড়শা', 'মৌমাছি', 'তেলাপোকা', 'পোকা', 'পোকামাকড়', 'উকুন', 'ফড়িং', 'ঘাসফড়িং', 'ঝিঁঝিঁ', 'ছারপোকা']\n"
      ],
      "metadata": {
        "id": "_Lru6c7uPseF"
      },
      "execution_count": null,
      "outputs": []
    }
  ],
  "metadata": {
    "colab": {
      "provenance": [],
      "gpuType": "T4"
    },
    "kernelspec": {
      "display_name": "Python 3",
      "name": "python3"
    },
    "language_info": {
      "name": "python"
    }
  },
  "nbformat": 4,
  "nbformat_minor": 0
}